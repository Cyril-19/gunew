{
  "cells": [
    {
      "cell_type": "markdown",
      "metadata": {
        "id": "view-in-github",
        "colab_type": "text"
      },
      "source": [
        "<a href=\"https://colab.research.google.com/github/Cyril-19/gunew/blob/main/Sentiment_Analysis_NLP.ipynb\" target=\"_parent\"><img src=\"https://colab.research.google.com/assets/colab-badge.svg\" alt=\"Open In Colab\"/></a>"
      ]
    },
    {
      "cell_type": "code",
      "execution_count": null,
      "id": "b6cb3fc0",
      "metadata": {
        "id": "b6cb3fc0"
      },
      "outputs": [],
      "source": [
        "import nltk"
      ]
    },
    {
      "cell_type": "code",
      "execution_count": null,
      "id": "d7455b93",
      "metadata": {
        "id": "d7455b93",
        "outputId": "6eb5846a-bec4-4ae6-a194-7cd2192b5654",
        "colab": {
          "base_uri": "https://localhost:8080/"
        }
      },
      "outputs": [
        {
          "output_type": "stream",
          "name": "stderr",
          "text": [
            "[nltk_data] Downloading package movie_reviews to /root/nltk_data...\n",
            "[nltk_data]   Unzipping corpora/movie_reviews.zip.\n"
          ]
        },
        {
          "output_type": "execute_result",
          "data": {
            "text/plain": [
              "True"
            ]
          },
          "metadata": {},
          "execution_count": 2
        }
      ],
      "source": [
        "nltk.download(\"movie_reviews\")"
      ]
    },
    {
      "cell_type": "code",
      "execution_count": null,
      "id": "e4ab0164",
      "metadata": {
        "id": "e4ab0164"
      },
      "outputs": [],
      "source": [
        "from nltk.corpus import movie_reviews"
      ]
    },
    {
      "cell_type": "code",
      "execution_count": null,
      "id": "d7a34d7d",
      "metadata": {
        "id": "d7a34d7d",
        "outputId": "b70a3aad-f0a0-469d-cbb3-6de102c7110f",
        "colab": {
          "base_uri": "https://localhost:8080/"
        }
      },
      "outputs": [
        {
          "output_type": "execute_result",
          "data": {
            "text/plain": [
              "2000"
            ]
          },
          "metadata": {},
          "execution_count": 4
        }
      ],
      "source": [
        "len(movie_reviews.fileids())"
      ]
    },
    {
      "cell_type": "code",
      "execution_count": null,
      "id": "5fef224f",
      "metadata": {
        "id": "5fef224f",
        "outputId": "d6e041eb-abae-4bed-bc7e-75709cc8ff31",
        "colab": {
          "base_uri": "https://localhost:8080/"
        }
      },
      "outputs": [
        {
          "output_type": "execute_result",
          "data": {
            "text/plain": [
              "['neg/cv000_29416.txt',\n",
              " 'neg/cv001_19502.txt',\n",
              " 'neg/cv002_17424.txt',\n",
              " 'neg/cv003_12683.txt',\n",
              " 'neg/cv004_12641.txt']"
            ]
          },
          "metadata": {},
          "execution_count": 5
        }
      ],
      "source": [
        "movie_reviews.fileids()[:5]"
      ]
    },
    {
      "cell_type": "code",
      "execution_count": null,
      "id": "46084390",
      "metadata": {
        "id": "46084390",
        "outputId": "051e1ca3-4c96-4199-ce02-33b22eb31ac7",
        "colab": {
          "base_uri": "https://localhost:8080/"
        }
      },
      "outputs": [
        {
          "output_type": "execute_result",
          "data": {
            "text/plain": [
              "['pos/cv995_21821.txt',\n",
              " 'pos/cv996_11592.txt',\n",
              " 'pos/cv997_5046.txt',\n",
              " 'pos/cv998_14111.txt',\n",
              " 'pos/cv999_13106.txt']"
            ]
          },
          "metadata": {},
          "execution_count": 6
        }
      ],
      "source": [
        "movie_reviews.fileids()[-5:]"
      ]
    },
    {
      "cell_type": "code",
      "execution_count": null,
      "id": "29e89d07",
      "metadata": {
        "id": "29e89d07"
      },
      "outputs": [],
      "source": [
        "negative_fileids = movie_reviews.fileids('neg')\n",
        "positive_fileids = movie_reviews.fileids('pos')"
      ]
    },
    {
      "cell_type": "code",
      "execution_count": null,
      "id": "137326bf",
      "metadata": {
        "id": "137326bf",
        "outputId": "d625c252-fdb2-4f88-9eb9-f3cf3e169228",
        "colab": {
          "base_uri": "https://localhost:8080/"
        }
      },
      "outputs": [
        {
          "output_type": "execute_result",
          "data": {
            "text/plain": [
              "(1000, 1000)"
            ]
          },
          "metadata": {},
          "execution_count": 8
        }
      ],
      "source": [
        "len(negative_fileids), len(positive_fileids)"
      ]
    },
    {
      "cell_type": "code",
      "execution_count": null,
      "id": "b1b44ea2",
      "metadata": {
        "id": "b1b44ea2",
        "outputId": "1ccd0ed4-3bbd-4733-96d3-3d576782c4df",
        "colab": {
          "base_uri": "https://localhost:8080/"
        }
      },
      "outputs": [
        {
          "output_type": "stream",
          "name": "stdout",
          "text": [
            "a common complaint amongst film critics is \" why aren't there more literate scripts available ? \" \n",
            "quiz show gives signs of hope that the art of writing isn't dead in hollywood and that we need not only look to independent films for thoughtful content . \n",
            "paul attanasio's script takes what could have been a tepid thriller ( the quiz show scandals of the late 50s ) and delivers a telling parable about the emptiness of the post war american dream and the golden bubble that surrounds and protects tv networks and their sponsors . \n",
            "the film is riddled with telling symbols ( e . g . \n",
            "a '58 chrysler , a radio announcement of sputnik ) but is never heavy handed . \n",
            "deft direction by robert redford and keen performances by ralph fiennes , john turturro and rob morrow dovetail perfectly with the carefully honed script . \n",
            "redford departs from the usually overlight , \" cable tv quality \" sets and camera work so common in recent 20th century period pieces . \n",
            "quiz show perfectly captures the colors and textures of the eisenhower years . \n",
            "although i was only 4 years old when the \" twenty one \" scandal broke , enough of the 50s icons survived throughout my childhood for me to recognize the authenticity of redford's almost tangible palette . \n",
            "from plastic covered furniture to carefully coifed contestants , the images ring true from that era of rampant consumerism , of a generation that had gone through 15 years of depression and world war without \" disposable income , \" before the manifestation of its american dream . \n",
            "the film deftly weaves several themes together , from assimilation and exclusion of jews from \" the good life , \" to the lengths that a scion of a literary family will go to to match his father's fame . \n",
            "though the 50s audience that is \" rocked \" by this scandal may initially seem naive to us , they should appear all too familiar , with our current national passion for the rise and fall of icons like michael jackson or tonya harding . \n",
            "charles van doren and herbie stemple were the overnight mega celebrities of their day . \n",
            "the tv audience is almost a fourth main character , always at the center of the decisions being made on their behalf . \n",
            "at the film's end , the credits roll past slow motion footage of that same 50s tv audience , mindlessly laughing at some piece of fluff . \n",
            "like the distorted mirror that captured a blurred swastika at the end of cabaret , this \" mirror \" may reflect an image we're not all that comfortable with . \n",
            "\n"
          ]
        }
      ],
      "source": [
        "print(movie_reviews.raw(fileids=positive_fileids[200]))"
      ]
    },
    {
      "cell_type": "code",
      "execution_count": null,
      "id": "3bfb9e16",
      "metadata": {
        "id": "3bfb9e16",
        "outputId": "700327fe-252f-48d9-ca07-17144045c68c",
        "colab": {
          "base_uri": "https://localhost:8080/"
        }
      },
      "outputs": [
        {
          "output_type": "stream",
          "name": "stderr",
          "text": [
            "[nltk_data] Downloading package punkt to /root/nltk_data...\n",
            "[nltk_data]   Unzipping tokenizers/punkt.zip.\n"
          ]
        },
        {
          "output_type": "execute_result",
          "data": {
            "text/plain": [
              "True"
            ]
          },
          "metadata": {},
          "execution_count": 10
        }
      ],
      "source": [
        "nltk.download('punkt')"
      ]
    },
    {
      "cell_type": "code",
      "execution_count": null,
      "id": "51a1f152",
      "metadata": {
        "id": "51a1f152",
        "outputId": "0ec5cde4-3e98-47ce-fec6-c425678a540e",
        "colab": {
          "base_uri": "https://localhost:8080/"
        }
      },
      "outputs": [
        {
          "output_type": "execute_result",
          "data": {
            "text/plain": [
              "['films', 'adapted', 'from', 'comic', 'books', 'have', ...]"
            ]
          },
          "metadata": {},
          "execution_count": 11
        }
      ],
      "source": [
        "movie_reviews.words(fileids=positive_fileids[0])"
      ]
    },
    {
      "cell_type": "code",
      "execution_count": null,
      "id": "d37f6431",
      "metadata": {
        "id": "d37f6431"
      },
      "outputs": [],
      "source": [
        "def build_bag_of_words_features(words):\n",
        "    return {word: True for word in words}"
      ]
    },
    {
      "cell_type": "code",
      "execution_count": null,
      "id": "d9747db1",
      "metadata": {
        "id": "d9747db1",
        "outputId": "d98bc559-87c4-4712-9481-67c3b022290b",
        "colab": {
          "base_uri": "https://localhost:8080/"
        }
      },
      "outputs": [
        {
          "output_type": "stream",
          "name": "stderr",
          "text": [
            "[nltk_data] Downloading package stopwords to /root/nltk_data...\n",
            "[nltk_data]   Unzipping corpora/stopwords.zip.\n"
          ]
        },
        {
          "output_type": "execute_result",
          "data": {
            "text/plain": [
              "True"
            ]
          },
          "metadata": {},
          "execution_count": 14
        }
      ],
      "source": [
        "nltk.download('stopwords')"
      ]
    },
    {
      "cell_type": "code",
      "execution_count": null,
      "id": "9eeac906",
      "metadata": {
        "id": "9eeac906"
      },
      "outputs": [],
      "source": [
        "import string"
      ]
    },
    {
      "cell_type": "code",
      "execution_count": null,
      "id": "c6b987c9",
      "metadata": {
        "id": "c6b987c9",
        "outputId": "5b60c0a3-6e73-411d-e0a2-6e8863472929",
        "colab": {
          "base_uri": "https://localhost:8080/",
          "height": 35
        }
      },
      "outputs": [
        {
          "output_type": "execute_result",
          "data": {
            "text/plain": [
              "'!\"#$%&\\'()*+,-./:;<=>?@[\\\\]^_`{|}~'"
            ],
            "application/vnd.google.colaboratory.intrinsic+json": {
              "type": "string"
            }
          },
          "metadata": {},
          "execution_count": 16
        }
      ],
      "source": [
        "string.punctuation"
      ]
    },
    {
      "cell_type": "code",
      "execution_count": null,
      "id": "ed2f9050",
      "metadata": {
        "id": "ed2f9050"
      },
      "outputs": [],
      "source": [
        "useless_words = nltk.corpus.stopwords.words(\"english\")+ list(string.punctuation)"
      ]
    },
    {
      "cell_type": "code",
      "execution_count": null,
      "id": "9d113f29",
      "metadata": {
        "id": "9d113f29",
        "outputId": "91a80c81-0e04-4114-b1de-aa22046f7ef0",
        "colab": {
          "base_uri": "https://localhost:8080/"
        }
      },
      "outputs": [
        {
          "output_type": "execute_result",
          "data": {
            "text/plain": [
              "list"
            ]
          },
          "metadata": {},
          "execution_count": 18
        }
      ],
      "source": [
        "type(useless_words)"
      ]
    },
    {
      "cell_type": "code",
      "execution_count": null,
      "id": "fa301a29",
      "metadata": {
        "id": "fa301a29",
        "outputId": "abe68f5d-55f7-46a0-af6a-e632cf2b02f8",
        "colab": {
          "base_uri": "https://localhost:8080/"
        }
      },
      "outputs": [
        {
          "output_type": "execute_result",
          "data": {
            "text/plain": [
              "['i',\n",
              " 'me',\n",
              " 'my',\n",
              " 'myself',\n",
              " 'we',\n",
              " 'our',\n",
              " 'ours',\n",
              " 'ourselves',\n",
              " 'you',\n",
              " \"you're\",\n",
              " \"you've\",\n",
              " \"you'll\",\n",
              " \"you'd\",\n",
              " 'your',\n",
              " 'yours',\n",
              " 'yourself',\n",
              " 'yourselves',\n",
              " 'he',\n",
              " 'him',\n",
              " 'his',\n",
              " 'himself',\n",
              " 'she',\n",
              " \"she's\",\n",
              " 'her',\n",
              " 'hers',\n",
              " 'herself',\n",
              " 'it',\n",
              " \"it's\",\n",
              " 'its',\n",
              " 'itself',\n",
              " 'they',\n",
              " 'them',\n",
              " 'their',\n",
              " 'theirs',\n",
              " 'themselves',\n",
              " 'what',\n",
              " 'which',\n",
              " 'who',\n",
              " 'whom',\n",
              " 'this',\n",
              " 'that',\n",
              " \"that'll\",\n",
              " 'these',\n",
              " 'those',\n",
              " 'am',\n",
              " 'is',\n",
              " 'are',\n",
              " 'was',\n",
              " 'were',\n",
              " 'be',\n",
              " 'been',\n",
              " 'being',\n",
              " 'have',\n",
              " 'has',\n",
              " 'had',\n",
              " 'having',\n",
              " 'do',\n",
              " 'does',\n",
              " 'did',\n",
              " 'doing',\n",
              " 'a',\n",
              " 'an',\n",
              " 'the',\n",
              " 'and',\n",
              " 'but',\n",
              " 'if',\n",
              " 'or',\n",
              " 'because',\n",
              " 'as',\n",
              " 'until',\n",
              " 'while',\n",
              " 'of',\n",
              " 'at',\n",
              " 'by',\n",
              " 'for',\n",
              " 'with',\n",
              " 'about',\n",
              " 'against',\n",
              " 'between',\n",
              " 'into',\n",
              " 'through',\n",
              " 'during',\n",
              " 'before',\n",
              " 'after',\n",
              " 'above',\n",
              " 'below',\n",
              " 'to',\n",
              " 'from',\n",
              " 'up',\n",
              " 'down',\n",
              " 'in',\n",
              " 'out',\n",
              " 'on',\n",
              " 'off',\n",
              " 'over',\n",
              " 'under',\n",
              " 'again',\n",
              " 'further',\n",
              " 'then',\n",
              " 'once',\n",
              " 'here',\n",
              " 'there',\n",
              " 'when',\n",
              " 'where',\n",
              " 'why',\n",
              " 'how',\n",
              " 'all',\n",
              " 'any',\n",
              " 'both',\n",
              " 'each',\n",
              " 'few',\n",
              " 'more',\n",
              " 'most',\n",
              " 'other',\n",
              " 'some',\n",
              " 'such',\n",
              " 'no',\n",
              " 'nor',\n",
              " 'not',\n",
              " 'only',\n",
              " 'own',\n",
              " 'same',\n",
              " 'so',\n",
              " 'than',\n",
              " 'too',\n",
              " 'very',\n",
              " 's',\n",
              " 't',\n",
              " 'can',\n",
              " 'will',\n",
              " 'just',\n",
              " 'don',\n",
              " \"don't\",\n",
              " 'should',\n",
              " \"should've\",\n",
              " 'now',\n",
              " 'd',\n",
              " 'll',\n",
              " 'm',\n",
              " 'o',\n",
              " 're',\n",
              " 've',\n",
              " 'y',\n",
              " 'ain',\n",
              " 'aren',\n",
              " \"aren't\",\n",
              " 'couldn',\n",
              " \"couldn't\",\n",
              " 'didn',\n",
              " \"didn't\",\n",
              " 'doesn',\n",
              " \"doesn't\",\n",
              " 'hadn',\n",
              " \"hadn't\",\n",
              " 'hasn',\n",
              " \"hasn't\",\n",
              " 'haven',\n",
              " \"haven't\",\n",
              " 'isn',\n",
              " \"isn't\",\n",
              " 'ma',\n",
              " 'mightn',\n",
              " \"mightn't\",\n",
              " 'mustn',\n",
              " \"mustn't\",\n",
              " 'needn',\n",
              " \"needn't\",\n",
              " 'shan',\n",
              " \"shan't\",\n",
              " 'shouldn',\n",
              " \"shouldn't\",\n",
              " 'wasn',\n",
              " \"wasn't\",\n",
              " 'weren',\n",
              " \"weren't\",\n",
              " 'won',\n",
              " \"won't\",\n",
              " 'wouldn',\n",
              " \"wouldn't\",\n",
              " '!',\n",
              " '\"',\n",
              " '#',\n",
              " '$',\n",
              " '%',\n",
              " '&',\n",
              " \"'\",\n",
              " '(',\n",
              " ')',\n",
              " '*',\n",
              " '+',\n",
              " ',',\n",
              " '-',\n",
              " '.',\n",
              " '/',\n",
              " ':',\n",
              " ';',\n",
              " '<',\n",
              " '=',\n",
              " '>',\n",
              " '?',\n",
              " '@',\n",
              " '[',\n",
              " '\\\\',\n",
              " ']',\n",
              " '^',\n",
              " '_',\n",
              " '`',\n",
              " '{',\n",
              " '|',\n",
              " '}',\n",
              " '~']"
            ]
          },
          "metadata": {},
          "execution_count": 19
        }
      ],
      "source": [
        "useless_words"
      ]
    },
    {
      "cell_type": "code",
      "execution_count": null,
      "id": "1afa1c9f",
      "metadata": {
        "id": "1afa1c9f"
      },
      "outputs": [],
      "source": [
        "def build_bag_of_words_features_filtered(words):\n",
        "    return {word: True for word in words\\\n",
        "           if not word in useless_words }"
      ]
    },
    {
      "cell_type": "code",
      "execution_count": null,
      "id": "b689e4f6",
      "metadata": {
        "id": "b689e4f6",
        "outputId": "595b57cb-a986-49bf-a568-3affdfb6c49b"
      },
      "outputs": [
        {
          "data": {
            "text/plain": [
              "{'Why': True,\n",
              " 'O': True,\n",
              " 'brawling': True,\n",
              " 'love': True,\n",
              " 'loving': True,\n",
              " 'hate': True,\n",
              " 'anything': True,\n",
              " 'nothing': True,\n",
              " 'first': True,\n",
              " 'create': True,\n",
              " 'heavy': True,\n",
              " 'lightness': True,\n",
              " 'serious': True,\n",
              " 'vanity': True,\n",
              " 'Misshapen': True,\n",
              " 'chaos': True,\n",
              " 'well-seeming': True,\n",
              " 'forms': True,\n",
              " 'Feather': True,\n",
              " 'lead': True,\n",
              " 'bright': True,\n",
              " 'smoke': True,\n",
              " 'cole': True,\n",
              " 'fire': True,\n",
              " 'sick': True,\n",
              " 'health': True,\n",
              " 'Still-waking': True,\n",
              " 'sleep': True}"
            ]
          },
          "execution_count": 30,
          "metadata": {},
          "output_type": "execute_result"
        }
      ],
      "source": [
        "build_bag_of_words_features_filtered(romeo_text)"
      ]
    },
    {
      "cell_type": "code",
      "execution_count": null,
      "id": "62acf72b",
      "metadata": {
        "id": "62acf72b",
        "outputId": "bed4ef7d-d94a-417a-b6a5-de7b126fe718",
        "colab": {
          "base_uri": "https://localhost:8080/"
        }
      },
      "outputs": [
        {
          "output_type": "execute_result",
          "data": {
            "text/plain": [
              "1.58382"
            ]
          },
          "metadata": {},
          "execution_count": 21
        }
      ],
      "source": [
        "all_words = movie_reviews.words()\n",
        "len(all_words)/1e6"
      ]
    },
    {
      "cell_type": "code",
      "execution_count": null,
      "id": "c0c18657",
      "metadata": {
        "id": "c0c18657"
      },
      "outputs": [],
      "source": [
        "filtered_words= [word for word in movie_reviews.words()if not word in useless_words]"
      ]
    },
    {
      "cell_type": "code",
      "execution_count": null,
      "id": "ad028370",
      "metadata": {
        "id": "ad028370",
        "outputId": "eb516ce5-3c6e-4952-f280-e3956887bb63",
        "colab": {
          "base_uri": "https://localhost:8080/"
        }
      },
      "outputs": [
        {
          "output_type": "execute_result",
          "data": {
            "text/plain": [
              "list"
            ]
          },
          "metadata": {},
          "execution_count": 23
        }
      ],
      "source": [
        "type(filtered_words)"
      ]
    },
    {
      "cell_type": "code",
      "execution_count": null,
      "id": "bef328e6",
      "metadata": {
        "id": "bef328e6",
        "outputId": "815b1aae-adf6-4d8c-d5a8-9424e778513d",
        "colab": {
          "base_uri": "https://localhost:8080/"
        }
      },
      "outputs": [
        {
          "output_type": "execute_result",
          "data": {
            "text/plain": [
              "0.710579"
            ]
          },
          "metadata": {},
          "execution_count": 24
        }
      ],
      "source": [
        "len(filtered_words)/1e6"
      ]
    },
    {
      "cell_type": "code",
      "execution_count": null,
      "id": "792b05fc",
      "metadata": {
        "id": "792b05fc"
      },
      "outputs": [],
      "source": [
        "from collections import Counter\n",
        "word_counter = Counter(filtered_words)"
      ]
    },
    {
      "cell_type": "code",
      "execution_count": null,
      "id": "3f4dea5b",
      "metadata": {
        "id": "3f4dea5b"
      },
      "outputs": [],
      "source": [
        "most_common_words = word_counter.most_common()[:10]"
      ]
    },
    {
      "cell_type": "code",
      "execution_count": null,
      "id": "096fff18",
      "metadata": {
        "id": "096fff18",
        "outputId": "c98e918e-5a51-4f27-81f2-81cc50e5f345",
        "colab": {
          "base_uri": "https://localhost:8080/"
        }
      },
      "outputs": [
        {
          "output_type": "execute_result",
          "data": {
            "text/plain": [
              "[('film', 9517),\n",
              " ('one', 5852),\n",
              " ('movie', 5771),\n",
              " ('like', 3690),\n",
              " ('even', 2565),\n",
              " ('good', 2411),\n",
              " ('time', 2411),\n",
              " ('story', 2169),\n",
              " ('would', 2109),\n",
              " ('much', 2049)]"
            ]
          },
          "metadata": {},
          "execution_count": 27
        }
      ],
      "source": [
        "most_common_words"
      ]
    },
    {
      "cell_type": "code",
      "execution_count": null,
      "id": "6e6196d9",
      "metadata": {
        "id": "6e6196d9"
      },
      "outputs": [],
      "source": [
        "%matplotlib inline\n",
        "import matplotlib.pyplot as plt"
      ]
    },
    {
      "cell_type": "code",
      "execution_count": null,
      "id": "0045b98b",
      "metadata": {
        "id": "0045b98b"
      },
      "outputs": [],
      "source": [
        "sorted_word_counts = sorted(list(word_counter.values()), reverse= True)"
      ]
    },
    {
      "cell_type": "code",
      "execution_count": null,
      "id": "1a1f45e9",
      "metadata": {
        "id": "1a1f45e9",
        "outputId": "562c8004-99a6-4832-c4ad-23b7c99b8cb2",
        "colab": {
          "base_uri": "https://localhost:8080/",
          "height": 300
        }
      },
      "outputs": [
        {
          "output_type": "execute_result",
          "data": {
            "text/plain": [
              "Text(0.5, 0, 'Word Rank')"
            ]
          },
          "metadata": {},
          "execution_count": 30
        },
        {
          "output_type": "display_data",
          "data": {
            "text/plain": [
              "<Figure size 432x288 with 1 Axes>"
            ],
            "image/png": "[encoded data removed]"
          },
          "metadata": {
            "needs_background": "light"
          }
        }
      ],
      "source": [
        "plt.loglog(sorted_word_counts)\n",
        "plt.ylabel(\"Freq\")\n",
        "plt.xlabel(\"Word Rank\")"
      ]
    },
    {
      "cell_type": "code",
      "execution_count": null,
      "id": "23e2566e",
      "metadata": {
        "id": "23e2566e",
        "outputId": "97458dc1-3914-4cde-e0bc-4536a5f72af9",
        "colab": {
          "base_uri": "https://localhost:8080/",
          "height": 630
        }
      },
      "outputs": [
        {
          "output_type": "execute_result",
          "data": {
            "text/plain": [
              "(array([3.897e+04, 3.610e+02, 1.170e+02, 4.300e+01, 4.000e+01, 1.500e+01,\n",
              "        9.000e+00, 8.000e+00, 5.000e+00, 4.000e+00, 6.000e+00, 2.000e+00,\n",
              "        2.000e+00, 1.000e+00, 0.000e+00, 0.000e+00, 0.000e+00, 0.000e+00,\n",
              "        0.000e+00, 1.000e+00, 0.000e+00, 0.000e+00, 0.000e+00, 0.000e+00,\n",
              "        0.000e+00, 0.000e+00, 0.000e+00, 0.000e+00, 0.000e+00, 0.000e+00,\n",
              "        2.000e+00, 0.000e+00, 0.000e+00, 0.000e+00, 0.000e+00, 0.000e+00,\n",
              "        0.000e+00, 0.000e+00, 0.000e+00, 0.000e+00, 0.000e+00, 0.000e+00,\n",
              "        0.000e+00, 0.000e+00, 0.000e+00, 0.000e+00, 0.000e+00, 0.000e+00,\n",
              "        0.000e+00, 1.000e+00]),\n",
              " array([1.00000e+00, 1.91320e+02, 3.81640e+02, 5.71960e+02, 7.62280e+02,\n",
              "        9.52600e+02, 1.14292e+03, 1.33324e+03, 1.52356e+03, 1.71388e+03,\n",
              "        1.90420e+03, 2.09452e+03, 2.28484e+03, 2.47516e+03, 2.66548e+03,\n",
              "        2.85580e+03, 3.04612e+03, 3.23644e+03, 3.42676e+03, 3.61708e+03,\n",
              "        3.80740e+03, 3.99772e+03, 4.18804e+03, 4.37836e+03, 4.56868e+03,\n",
              "        4.75900e+03, 4.94932e+03, 5.13964e+03, 5.32996e+03, 5.52028e+03,\n",
              "        5.71060e+03, 5.90092e+03, 6.09124e+03, 6.28156e+03, 6.47188e+03,\n",
              "        6.66220e+03, 6.85252e+03, 7.04284e+03, 7.23316e+03, 7.42348e+03,\n",
              "        7.61380e+03, 7.80412e+03, 7.99444e+03, 8.18476e+03, 8.37508e+03,\n",
              "        8.56540e+03, 8.75572e+03, 8.94604e+03, 9.13636e+03, 9.32668e+03,\n",
              "        9.51700e+03]),\n",
              " <a list of 50 Patch objects>)"
            ]
          },
          "metadata": {},
          "execution_count": 31
        },
        {
          "output_type": "display_data",
          "data": {
            "text/plain": [
              "<Figure size 432x288 with 1 Axes>"
            ],
            "image/png": "[encoded data removed]"
          },
          "metadata": {
            "needs_background": "light"
          }
        }
      ],
      "source": [
        "plt.hist(sorted_word_counts, bins =50, log = True)"
      ]
    },
    {
      "cell_type": "code",
      "execution_count": null,
      "id": "0427bfd8",
      "metadata": {
        "id": "0427bfd8",
        "outputId": "f8ae0707-89c5-46b7-b1d6-10cbb2c5e551",
        "colab": {
          "base_uri": "https://localhost:8080/",
          "height": 630
        }
      },
      "outputs": [
        {
          "output_type": "execute_result",
          "data": {
            "text/plain": [
              "(array([3.897e+04, 3.610e+02, 1.170e+02, 4.300e+01, 4.000e+01, 1.500e+01,\n",
              "        9.000e+00, 8.000e+00, 5.000e+00, 4.000e+00, 6.000e+00, 2.000e+00,\n",
              "        2.000e+00, 1.000e+00, 0.000e+00, 0.000e+00, 0.000e+00, 0.000e+00,\n",
              "        0.000e+00, 1.000e+00, 0.000e+00, 0.000e+00, 0.000e+00, 0.000e+00,\n",
              "        0.000e+00, 0.000e+00, 0.000e+00, 0.000e+00, 0.000e+00, 0.000e+00,\n",
              "        2.000e+00, 0.000e+00, 0.000e+00, 0.000e+00, 0.000e+00, 0.000e+00,\n",
              "        0.000e+00, 0.000e+00, 0.000e+00, 0.000e+00, 0.000e+00, 0.000e+00,\n",
              "        0.000e+00, 0.000e+00, 0.000e+00, 0.000e+00, 0.000e+00, 0.000e+00,\n",
              "        0.000e+00, 1.000e+00]),\n",
              " array([1.00000e+00, 1.91320e+02, 3.81640e+02, 5.71960e+02, 7.62280e+02,\n",
              "        9.52600e+02, 1.14292e+03, 1.33324e+03, 1.52356e+03, 1.71388e+03,\n",
              "        1.90420e+03, 2.09452e+03, 2.28484e+03, 2.47516e+03, 2.66548e+03,\n",
              "        2.85580e+03, 3.04612e+03, 3.23644e+03, 3.42676e+03, 3.61708e+03,\n",
              "        3.80740e+03, 3.99772e+03, 4.18804e+03, 4.37836e+03, 4.56868e+03,\n",
              "        4.75900e+03, 4.94932e+03, 5.13964e+03, 5.32996e+03, 5.52028e+03,\n",
              "        5.71060e+03, 5.90092e+03, 6.09124e+03, 6.28156e+03, 6.47188e+03,\n",
              "        6.66220e+03, 6.85252e+03, 7.04284e+03, 7.23316e+03, 7.42348e+03,\n",
              "        7.61380e+03, 7.80412e+03, 7.99444e+03, 8.18476e+03, 8.37508e+03,\n",
              "        8.56540e+03, 8.75572e+03, 8.94604e+03, 9.13636e+03, 9.32668e+03,\n",
              "        9.51700e+03]),\n",
              " <a list of 50 Patch objects>)"
            ]
          },
          "metadata": {},
          "execution_count": 32
        },
        {
          "output_type": "display_data",
          "data": {
            "text/plain": [
              "<Figure size 432x288 with 1 Axes>"
            ],
            "image/png": "[encoded data removed]"
          },
          "metadata": {
            "needs_background": "light"
          }
        }
      ],
      "source": [
        "plt.hist(sorted_word_counts, bins =50)"
      ]
    },
    {
      "cell_type": "code",
      "execution_count": null,
      "id": "bc678344",
      "metadata": {
        "id": "bc678344"
      },
      "outputs": [],
      "source": [
        "negative_features = [(build_bag_of_words_features_filtered(movie_reviews.words(fileids=[f])), 'neg')\\\n",
        "                    for f in negative_fileids]"
      ]
    },
    {
      "cell_type": "code",
      "execution_count": null,
      "id": "5675cd9c",
      "metadata": {
        "id": "5675cd9c",
        "outputId": "b83a6634-674f-4b0e-a6dd-e38f65d5a6d6",
        "colab": {
          "base_uri": "https://localhost:8080/"
        }
      },
      "outputs": [
        {
          "output_type": "stream",
          "name": "stdout",
          "text": [
            "({'quest': True, 'camelot': True, 'warner': True, 'bros': True, 'first': True, 'feature': True, 'length': True, 'fully': True, 'animated': True, 'attempt': True, 'steal': True, 'clout': True, 'disney': True, 'cartoon': True, 'empire': True, 'mouse': True, 'reason': True, 'worried': True, 'recent': True, 'challenger': True, 'throne': True, 'last': True, 'fall': True, 'promising': True, 'flawed': True, '20th': True, 'century': True, 'fox': True, 'production': True, 'anastasia': True, 'hercules': True, 'lively': True, 'cast': True, 'colorful': True, 'palate': True, 'beat': True, 'hands': True, 'came': True, 'time': True, 'crown': True, '1997': True, 'best': True, 'piece': True, 'animation': True, 'year': True, 'contest': True, 'pretty': True, 'much': True, 'dead': True, 'arrival': True, 'even': True, 'magic': True, 'kingdom': True, 'mediocre': True, '--': True, 'pocahontas': True, 'keeping': True, 'score': True, 'nearly': True, 'dull': True, 'story': True, 'revolves': True, 'around': True, 'adventures': True, 'free': True, 'spirited': True, 'kayley': True, 'voiced': True, 'jessalyn': True, 'gilsig': True, 'early': True, 'teen': True, 'daughter': True, 'belated': True, 'knight': True, 'king': True, 'arthur': True, 'round': True, 'table': True, 'dream': True, 'follow': True, 'father': True, 'footsteps': True, 'gets': True, 'chance': True, 'evil': True, 'warlord': True, 'ruber': True, 'gary': True, 'oldman': True, 'ex': True, 'member': True, 'gone': True, 'bad': True, 'steals': True, 'magical': True, 'sword': True, 'excalibur': True, 'accidentally': True, 'loses': True, 'dangerous': True, 'booby': True, 'trapped': True, 'forest': True, 'help': True, 'hunky': True, 'blind': True, 'timberland': True, 'dweller': True, 'garrett': True, 'carey': True, 'elwes': True, 'two': True, 'headed': True, 'dragon': True, 'eric': True, 'idle': True, 'rickles': True, 'always': True, 'arguing': True, 'might': True, 'able': True, 'break': True, 'medieval': True, 'sexist': True, 'mold': True, 'prove': True, 'worth': True, 'fighter': True, 'side': True, 'missing': True, 'pure': True, 'showmanship': True, 'essential': True, 'element': True, 'ever': True, 'expected': True, 'climb': True, 'high': True, 'ranks': True, 'nothing': True, 'differentiates': True, 'something': True, 'see': True, 'given': True, 'saturday': True, 'morning': True, 'subpar': True, 'instantly': True, 'forgettable': True, 'songs': True, 'poorly': True, 'integrated': True, 'computerized': True, 'footage': True, 'compare': True, 'run': True, 'angry': True, 'ogre': True, 'herc': True, 'battle': True, 'hydra': True, 'rest': True, 'case': True, 'characters': True, 'stink': True, 'none': True, 'remotely': True, 'interesting': True, 'film': True, 'becomes': True, 'race': True, 'one': True, 'bland': True, 'others': True, 'end': True, 'tie': True, 'win': True, 'comedy': True, 'shtick': True, 'awfully': True, 'cloying': True, 'least': True, 'shows': True, 'signs': True, 'pulse': True, 'fans': True, \"-'\": True, '90s': True, 'tgif': True, 'television': True, 'line': True, 'thrilled': True, 'find': True, 'jaleel': True, 'urkel': True, 'white': True, 'bronson': True, 'balki': True, 'pinchot': True, 'sharing': True, 'scenes': True, 'nicely': True, 'realized': True, 'though': True, 'loss': True, 'recall': True, 'enough': True, 'specific': True, 'actors': True, 'providing': True, 'voice': True, 'talent': True, 'enthusiastic': True, 'paired': True, 'singers': True, 'sound': True, 'thing': True, 'like': True, 'big': True, 'musical': True, 'moments': True, 'jane': True, 'seymour': True, 'celine': True, 'dion': True, 'must': True, 'strain': True, 'mess': True, 'good': True, 'aside': True, 'fact': True, 'children': True, 'probably': True, 'bored': True, 'watching': True, 'adults': True, 'grievous': True, 'error': True, 'complete': True, 'lack': True, 'personality': True, 'learn': True, 'goes': True, 'long': True, 'way': True}, 'neg')\n"
          ]
        }
      ],
      "source": [
        "print(negative_features[3])"
      ]
    },
    {
      "cell_type": "code",
      "execution_count": null,
      "id": "3528ae5e",
      "metadata": {
        "id": "3528ae5e"
      },
      "outputs": [],
      "source": [
        "positive_features = [(build_bag_of_words_features_filtered(movie_reviews.words(fileids=[f])), 'pos')\\\n",
        "                     for f in positive_fileids]"
      ]
    },
    {
      "cell_type": "code",
      "execution_count": null,
      "id": "176bfb8b",
      "metadata": {
        "id": "176bfb8b",
        "outputId": "7d4cd37a-fd7c-4674-994e-49f46c700ccf",
        "colab": {
          "base_uri": "https://localhost:8080/"
        }
      },
      "outputs": [
        {
          "output_type": "stream",
          "name": "stdout",
          "text": [
            "({'june': True, '30': True, '1960': True, 'self': True, 'taught': True, 'idealistic': True, 'yet': True, 'pragmatic': True, 'young': True, 'man': True, 'became': True, 'age': True, '36': True, 'first': True, 'head': True, 'government': True, 'newly': True, 'independent': True, 'african': True, 'state': True, 'formerly': True, 'belgian': True, 'congo': True, 'two': True, 'months': True, 'later': True, 'ousted': True, 'powerful': True, 'position': True, 'hunted': True, 'troops': True, 'captured': True, 'brutally': True, 'murdered': True, 'along': True, 'aides': True, 'little': True, 'known': True, 'story': True, 'meteoric': True, 'rise': True, 'fall': True, 'told': True, 'international': True, 'filmmaker': True, 'raoul': True, 'peck': True, 'lumumba': True, 'patrice': True, 'eriq': True, 'ebouaney': True, 'previously': True, 'helmer': True, '1991': True, 'award': True, 'winning': True, 'documentary': True, 'death': True, 'prophet': True, 'virtually': True, 'guaranteeing': True, 'new': True, 'fictional': True, 'account': True, 'patriot': True, 'remains': True, 'true': True, 'subject': True, 'co': True, 'writer': True, 'pascal': True, 'bonitzer': True, 'begins': True, 'end': True, 'political': True, 'leader': True, 'watch': True, 'white': True, 'men': True, 'perform': True, 'gruesome': True, 'task': True, 'dismembering': True, 'bodies': True, 'three': True, 'black': True, 'images': True, 'hatchets': True, 'saws': True, 'fast': True, 'emptying': True, 'whiskey': True, 'bottles': True, 'accompany': True, 'grisly': True, 'image': True, 'jump': True, 'back': True, 'years': True, 'meeting': True, 'among': True, 'leaders': True, 'owned': True, 'third': True, 'class': True, 'postal': True, 'worker': True, 'speaks': True, 'mind': True, 'heads': True, 'tribes': True, 'proclaiming': True, 'tribal': True, 'regional': True, 'national': True, 'small': True, 'mobile': True, 'party': True, 'congolese': True, 'movement': True, 'mnc': True, 'gaining': True, 'prominence': True, 'leaves': True, 'clerical': True, 'job': True, 'sell': True, 'beer': True, 'get': True, 'face': True, 'bustling': True, 'capital': True, 'stanleyville': True, 'time': True, 'colonial': True, 'empires': True, 'falling': True, 'around': True, 'world': True, 'right': True, 'place': True, 'savvy': True, 'chess': True, 'like': True, 'manipulation': True, 'achieves': True, 'leadership': True, 'date': True, 'independence': True, 'approaches': True, 'tactically': True, 'positions': True, 'nation': True, 'prime': True, 'minister': True, 'defense': True, 'supporting': True, 'presidency': True, 'joseph': True, 'kasa': True, 'vubu': True, 'maka': True, 'kotto': True, 'coalition': True, 'created': True, 'soon': True, 'starts': True, 'apart': True, 'former': True, 'masters': True, 'continue': True, 'exert': True, 'influence': True, 'struggling': True, 'strive': True, 'maintain': True, 'economic': True, 'hold': True, 'country': True, 'vast': True, 'natural': True, 'resources': True, 'copper': True, 'diamonds': True, 'gold': True, 'seek': True, 'help': True, 'us': True, 'knowing': True, 'would': True, 'try': True, 'create': True, 'de': True, 'facto': True, 'american': True, 'control': True, 'fledgling': True, 'initial': True, 'investigation': True, 'soviet': True, 'assistance': True, 'immediately': True, 'tags': True, 'communist': True, 'integrity': True, 'overshadowed': True, 'cold': True, 'war': True, 'threat': True, 'russian': True, 'domination': True, 'situation': True, 'goes': True, 'bad': True, 'worse': True, 'army': True, 'mutinies': True, 'remaining': True, 'whites': True, 'begin': True, 'evacuate': True, 'arm': True, 'violently': True, 'intervene': True, 'lucrative': True, 'katanga': True, 'province': True, 'succeeds': True, 'rival': True, 'moise': True, 'tschombe': True, 'nzonzi': True, 'refused': True, 'access': True, 'returns': True, 'conference': True, 'abroad': True, 'tumultuous': True, 'period': True, 'modern': True, 'history': True, 'saw': True, 'score': True, 'nations': True, 'sometimes': True, 'odious': True, 'colonialists': True, 'ruled': True, 'much': True, 'european': True, 'seats': True, 'power': True, 'centuries': True, 'focuses': True, 'familiar': True, 'material': True, 'strives': True, 'give': True, 'honest': True, 'portrayal': True, 'friend': True, 'foes': True, 'movements': True, 'gripped': True, 'africa': True, '50': True, '60': True, 'takes': True, 'many': True, 'including': True, 'nigeria': True, 'somalia': True, 'born': True, 'varying': True, 'degrees': True, 'success': True, 'failure': True, 'usually': True, 'dependent': True, 'upon': True, 'colonized': True, 'better': True, 'others': True, 'effort': True, 'involved': True, 'quite': True, 'ambitious': True, 'crew': True, 'behind': True, 'camera': True, 'bring': True, 'life': True, 'slice': True, 'might': True, 'gone': True, 'unexplored': True, 'decades': True, 'production': True, 'values': True, 'rate': True, 'must': True, 'standards': True, 'budget': True, 'feel': True, 'realistic': True, 'settings': True, 'nicely': True, 'maintained': True, 'traveled': True, 'zimbabwe': True, 'mozambique': True, 'screenplay': True, 'covers': True, 'lot': True, 'ground': True, 'yeoman': True, 'work': True, 'providing': True, 'great': True, 'deal': True, 'detailed': True, 'trying': True, 'justice': True, 'side': True, 'things': True, 'evenly': True, 'linear': True, 'straightforward': True, 'manner': True, 'teaches': True, 'preaches': True, 'concentrates': True, 'good': True, 'deeds': True, 'bit': True, 'stalwart': True, 'saint': True, 'embellish': True, 'larger': True, 'persona': True, 'family': True, 'handled': True, 'several': True, 'perfunctory': True, 'brief': True, 'interludes': True, 'show': True, 'talking': True, 'one': True, 'children': True, 'embracing': True, 'wife': True, 'lamenting': True, 'child': True, 'know': True, 'intent': True, 'flesh': True, 'short': True, 'shrift': True, 'given': True, 'lopsided': True, 'high': True, 'marks': True, 'go': True, 'title': True, 'character': True, 'actor': True, 'gives': True, 'convincing': True, 'charismatic': True, 'performance': True, 'multifaceted': True, 'politically': True, 'deft': True, 'people': True, 'force': True, 'driving': True, 'ambitions': True, 'docudrama': True, 'tradition': True, 'cast': True, 'outshine': True, 'star': True, 'complementing': True, 'efforts': True, 'instead': True, 'solid': True, 'interesting': True, 'educational': True, 'appeal': True, 'film': True, 'buffs': True, 'politicos': True, 'intelligence': True, 'telling': True, 'anything': True, 'seen': True, 'hollywood': True, 'b': True}, 'pos')\n"
          ]
        }
      ],
      "source": [
        "print(positive_features[5])"
      ]
    },
    {
      "cell_type": "code",
      "execution_count": null,
      "id": "bf1e3a1e",
      "metadata": {
        "id": "bf1e3a1e"
      },
      "outputs": [],
      "source": [
        "from nltk.classify import NaiveBayesClassifier"
      ]
    },
    {
      "cell_type": "code",
      "execution_count": null,
      "id": "1337063e",
      "metadata": {
        "id": "1337063e"
      },
      "outputs": [],
      "source": [
        "split =800"
      ]
    },
    {
      "cell_type": "code",
      "execution_count": null,
      "id": "3612d244",
      "metadata": {
        "id": "3612d244"
      },
      "outputs": [],
      "source": [
        "sentiment_classifier = NaiveBayesClassifier.train(positive_features[:split]+negative_features[:split])"
      ]
    },
    {
      "cell_type": "code",
      "execution_count": null,
      "id": "64d58a33",
      "metadata": {
        "id": "64d58a33",
        "outputId": "d2616702-0f68-416e-fe6a-68a584ed6326"
      },
      "outputs": [
        {
          "data": {
            "text/plain": [
              "98.0625"
            ]
          },
          "execution_count": 53,
          "metadata": {},
          "output_type": "execute_result"
        }
      ],
      "source": [
        "nltk.classify.util.accuracy(sentiment_classifier, positive_features[:split]+negative_features[:split])*100"
      ]
    },
    {
      "cell_type": "code",
      "execution_count": null,
      "id": "7bff5401",
      "metadata": {
        "id": "7bff5401",
        "outputId": "d28726b2-9d5f-49cf-9121-25f22435fa68"
      },
      "outputs": [
        {
          "data": {
            "text/plain": [
              "71.75"
            ]
          },
          "execution_count": 51,
          "metadata": {},
          "output_type": "execute_result"
        }
      ],
      "source": [
        "nltk.classify.util.accuracy(sentiment_classifier, positive_features[split:]+negative_features[split:])* 100"
      ]
    },
    {
      "cell_type": "code",
      "execution_count": null,
      "id": "cd54cc15",
      "metadata": {
        "id": "cd54cc15"
      },
      "outputs": [],
      "source": []
    }
  ],
  "metadata": {
    "kernelspec": {
      "display_name": "Python 3 (ipykernel)",
      "language": "python",
      "name": "python3"
    },
    "language_info": {
      "codemirror_mode": {
        "name": "ipython",
        "version": 3
      },
      "file_extension": ".py",
      "mimetype": "text/x-python",
      "name": "python",
      "nbconvert_exporter": "python",
      "pygments_lexer": "ipython3",
      "version": "3.9.7"
    },
    "colab": {
      "provenance": [],
      "include_colab_link": true
    }
  },
  "nbformat": 4,
  "nbformat_minor": 5
}
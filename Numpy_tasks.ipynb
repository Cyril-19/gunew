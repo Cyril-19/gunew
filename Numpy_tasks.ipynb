{
  "cells": [
    {
      "cell_type": "markdown",
      "metadata": {
        "id": "view-in-github",
        "colab_type": "text"
      },
      "source": [
        "<a href=\"https://colab.research.google.com/github/Cyril-19/gunew/blob/main/Numpy_tasks.ipynb\" target=\"_parent\"><img src=\"https://colab.research.google.com/assets/colab-badge.svg\" alt=\"Open In Colab\"/></a>"
      ]
    },
    {
      "cell_type": "markdown",
      "metadata": {
        "id": "ffokwl6a1f0O"
      },
      "source": [
        "# Numpy\n",
        "\n"
      ]
    },
    {
      "cell_type": "markdown",
      "metadata": {
        "id": "Knq1XpZ41f0b"
      },
      "source": [
        "#### 1. Import the numpy package under the name `np` (★☆☆) \n",
        "(**hint**: import … as …)"
      ]
    },
    {
      "cell_type": "code",
      "execution_count": 1,
      "metadata": {
        "collapsed": true,
        "id": "AY6fW4on1f0z"
      },
      "outputs": [],
      "source": [
        "import numpy as np"
      ]
    },
    {
      "cell_type": "markdown",
      "metadata": {
        "id": "BHGcWcf71f02"
      },
      "source": [
        "#### 2. Print the numpy version and the configuration (★☆☆) \n",
        "(**hint**: np.\\_\\_version\\_\\_, np.show\\_config)"
      ]
    },
    {
      "cell_type": "code",
      "execution_count": 2,
      "metadata": {
        "id": "AvW1IWof1f03",
        "outputId": "30fa3e6a-96b2-4fac-e8b5-f435eb3e81a4",
        "colab": {
          "base_uri": "https://localhost:8080/"
        }
      },
      "outputs": [
        {
          "output_type": "stream",
          "name": "stdout",
          "text": [
            "blas_mkl_info:\n",
            "  NOT AVAILABLE\n",
            "blis_info:\n",
            "  NOT AVAILABLE\n",
            "openblas_info:\n",
            "    libraries = ['openblas', 'openblas']\n",
            "    library_dirs = ['/usr/local/lib']\n",
            "    language = c\n",
            "    define_macros = [('HAVE_CBLAS', None)]\n",
            "    runtime_library_dirs = ['/usr/local/lib']\n",
            "blas_opt_info:\n",
            "    libraries = ['openblas', 'openblas']\n",
            "    library_dirs = ['/usr/local/lib']\n",
            "    language = c\n",
            "    define_macros = [('HAVE_CBLAS', None)]\n",
            "    runtime_library_dirs = ['/usr/local/lib']\n",
            "lapack_mkl_info:\n",
            "  NOT AVAILABLE\n",
            "openblas_lapack_info:\n",
            "    libraries = ['openblas', 'openblas']\n",
            "    library_dirs = ['/usr/local/lib']\n",
            "    language = c\n",
            "    define_macros = [('HAVE_CBLAS', None)]\n",
            "    runtime_library_dirs = ['/usr/local/lib']\n",
            "lapack_opt_info:\n",
            "    libraries = ['openblas', 'openblas']\n",
            "    library_dirs = ['/usr/local/lib']\n",
            "    language = c\n",
            "    define_macros = [('HAVE_CBLAS', None)]\n",
            "    runtime_library_dirs = ['/usr/local/lib']\n",
            "Supported SIMD extensions in this NumPy install:\n",
            "    baseline = SSE,SSE2,SSE3\n",
            "    found = SSSE3,SSE41,POPCNT,SSE42,AVX,F16C,FMA3,AVX2\n",
            "    not found = AVX512F,AVX512CD,AVX512_KNL,AVX512_KNM,AVX512_SKX,AVX512_CLX,AVX512_CNL,AVX512_ICL\n"
          ]
        }
      ],
      "source": [
        "np.__version__\n",
        "np.show_config()"
      ]
    },
    {
      "cell_type": "markdown",
      "metadata": {
        "id": "UFvoIZic1f04"
      },
      "source": [
        "#### 3. Create a null vector of size 10 (★☆☆) \n",
        "(**hint**: np.zeros)"
      ]
    },
    {
      "cell_type": "code",
      "execution_count": 3,
      "metadata": {
        "id": "zsDARzQ51f05",
        "outputId": "1728eab2-dac0-4f7e-c02a-ec19359a706a",
        "colab": {
          "base_uri": "https://localhost:8080/"
        }
      },
      "outputs": [
        {
          "output_type": "execute_result",
          "data": {
            "text/plain": [
              "array([0., 0., 0., 0., 0., 0., 0., 0., 0., 0.])"
            ]
          },
          "metadata": {},
          "execution_count": 3
        }
      ],
      "source": [
        "np.zeros(10)"
      ]
    },
    {
      "cell_type": "markdown",
      "metadata": {
        "id": "Ti3lHVRh1f06"
      },
      "source": [
        "#### 4.  How to find the memory size of any array (★☆☆) \n",
        "(**hint**: size, itemsize)"
      ]
    },
    {
      "cell_type": "code",
      "execution_count": 4,
      "metadata": {
        "id": "NYUU4T4T1f07",
        "outputId": "702531d0-03ec-45e4-ef27-2bf096e2b056",
        "colab": {
          "base_uri": "https://localhost:8080/"
        }
      },
      "outputs": [
        {
          "output_type": "execute_result",
          "data": {
            "text/plain": [
              "1600"
            ]
          },
          "metadata": {},
          "execution_count": 4
        }
      ],
      "source": [
        "Z = np.zeros((20,10))\n",
        "Z.size * Z.itemsize"
      ]
    },
    {
      "cell_type": "markdown",
      "metadata": {
        "id": "1GvpD-js1f09"
      },
      "source": [
        "#### 5.  How to get the documentation of the numpy add function from the command line? (★☆☆) \n",
        "(**hint**: np.info)"
      ]
    },
    {
      "cell_type": "code",
      "execution_count": 5,
      "metadata": {
        "collapsed": true,
        "id": "TXZBTB2Q1f0-",
        "outputId": "3fbd4646-d280-4dad-e7d2-0ea7b4d5c939",
        "colab": {
          "base_uri": "https://localhost:8080/"
        }
      },
      "outputs": [
        {
          "output_type": "stream",
          "name": "stdout",
          "text": [
            "add(x1, x2, /, out=None, *, where=True, casting='same_kind', order='K', dtype=None, subok=True[, signature, extobj])\n",
            "\n",
            "Add arguments element-wise.\n",
            "\n",
            "Parameters\n",
            "----------\n",
            "x1, x2 : array_like\n",
            "    The arrays to be added.\n",
            "    If ``x1.shape != x2.shape``, they must be broadcastable to a common\n",
            "    shape (which becomes the shape of the output).\n",
            "out : ndarray, None, or tuple of ndarray and None, optional\n",
            "    A location into which the result is stored. If provided, it must have\n",
            "    a shape that the inputs broadcast to. If not provided or None,\n",
            "    a freshly-allocated array is returned. A tuple (possible only as a\n",
            "    keyword argument) must have length equal to the number of outputs.\n",
            "where : array_like, optional\n",
            "    This condition is broadcast over the input. At locations where the\n",
            "    condition is True, the `out` array will be set to the ufunc result.\n",
            "    Elsewhere, the `out` array will retain its original value.\n",
            "    Note that if an uninitialized `out` array is created via the default\n",
            "    ``out=None``, locations within it where the condition is False will\n",
            "    remain uninitialized.\n",
            "**kwargs\n",
            "    For other keyword-only arguments, see the\n",
            "    :ref:`ufunc docs <ufuncs.kwargs>`.\n",
            "\n",
            "Returns\n",
            "-------\n",
            "add : ndarray or scalar\n",
            "    The sum of `x1` and `x2`, element-wise.\n",
            "    This is a scalar if both `x1` and `x2` are scalars.\n",
            "\n",
            "Notes\n",
            "-----\n",
            "Equivalent to `x1` + `x2` in terms of array broadcasting.\n",
            "\n",
            "Examples\n",
            "--------\n",
            ">>> np.add(1.0, 4.0)\n",
            "5.0\n",
            ">>> x1 = np.arange(9.0).reshape((3, 3))\n",
            ">>> x2 = np.arange(3.0)\n",
            ">>> np.add(x1, x2)\n",
            "array([[  0.,   2.,   4.],\n",
            "       [  3.,   5.,   7.],\n",
            "       [  6.,   8.,  10.]])\n",
            "\n",
            "The ``+`` operator can be used as a shorthand for ``np.add`` on ndarrays.\n",
            "\n",
            ">>> x1 = np.arange(9.0).reshape((3, 3))\n",
            ">>> x2 = np.arange(3.0)\n",
            ">>> x1 + x2\n",
            "array([[ 0.,  2.,  4.],\n",
            "       [ 3.,  5.,  7.],\n",
            "       [ 6.,  8., 10.]])\n"
          ]
        }
      ],
      "source": [
        "np.info(np.add)"
      ]
    },
    {
      "cell_type": "markdown",
      "metadata": {
        "id": "lCbRUHIt1f0_"
      },
      "source": [
        "#### 6.  Create a null vector of size 10 but the fifth value which is 1 (★☆☆) \n",
        "(**hint**: array\\[4\\])"
      ]
    },
    {
      "cell_type": "code",
      "execution_count": 6,
      "metadata": {
        "id": "tA3tKh931f1A",
        "outputId": "b3c916e7-b834-4f78-c4c0-0680aa84cd03",
        "colab": {
          "base_uri": "https://localhost:8080/"
        }
      },
      "outputs": [
        {
          "output_type": "execute_result",
          "data": {
            "text/plain": [
              "array([0., 0., 0., 0., 1., 0., 0., 0., 0., 0.])"
            ]
          },
          "metadata": {},
          "execution_count": 6
        }
      ],
      "source": [
        "z=np.zeros(10)\n",
        "z[4]=1\n",
        "z"
      ]
    },
    {
      "cell_type": "markdown",
      "metadata": {
        "id": "A1czgJuE1f1B"
      },
      "source": [
        "#### 7.  Create a vector with values ranging from 10 to 49 (★☆☆) \n",
        "(**hint**: np.arange)"
      ]
    },
    {
      "cell_type": "code",
      "execution_count": 7,
      "metadata": {
        "id": "8H2kpuLg1f1C",
        "outputId": "806bd95f-4add-472a-9401-eeb4dacff9ff",
        "colab": {
          "base_uri": "https://localhost:8080/"
        }
      },
      "outputs": [
        {
          "output_type": "execute_result",
          "data": {
            "text/plain": [
              "array([10, 11, 12, 13, 14, 15, 16, 17, 18, 19, 20, 21, 22, 23, 24, 25, 26,\n",
              "       27, 28, 29, 30, 31, 32, 33, 34, 35, 36, 37, 38, 39, 40, 41, 42, 43,\n",
              "       44, 45, 46, 47, 48, 49])"
            ]
          },
          "metadata": {},
          "execution_count": 7
        }
      ],
      "source": [
        "z=np.arange(10,50)\n",
        "z"
      ]
    },
    {
      "cell_type": "markdown",
      "metadata": {
        "id": "ewbLU0ZL1f1D"
      },
      "source": [
        "#### 8.  Reverse a vector (first element becomes last) (★☆☆) \n",
        "(**hint**: array\\[::-1\\])"
      ]
    },
    {
      "cell_type": "code",
      "execution_count": 8,
      "metadata": {
        "id": "0nasxsMw1f1G",
        "outputId": "24f1c8d1-b7f7-418e-9a89-87a61a44ded6",
        "colab": {
          "base_uri": "https://localhost:8080/"
        }
      },
      "outputs": [
        {
          "output_type": "execute_result",
          "data": {
            "text/plain": [
              "array([49, 48, 47, 46, 45, 44, 43, 42, 41, 40, 39, 38, 37, 36, 35, 34, 33,\n",
              "       32, 31, 30, 29, 28, 27, 26, 25, 24, 23, 22, 21, 20, 19, 18, 17, 16,\n",
              "       15, 14, 13, 12, 11, 10])"
            ]
          },
          "metadata": {},
          "execution_count": 8
        }
      ],
      "source": [
        "z[::-1]"
      ]
    },
    {
      "cell_type": "markdown",
      "metadata": {
        "id": "h0t2Jbro1f1I"
      },
      "source": [
        "#### 9.  Create a 3x3 matrix with values ranging from 0 to 8 (★☆☆) \n",
        "(**hint**: reshape)"
      ]
    },
    {
      "cell_type": "code",
      "execution_count": 9,
      "metadata": {
        "id": "9O-f5wdN1f1K",
        "outputId": "61c4680d-11a5-442f-beed-17db2468a765",
        "colab": {
          "base_uri": "https://localhost:8080/"
        }
      },
      "outputs": [
        {
          "output_type": "execute_result",
          "data": {
            "text/plain": [
              "array([[0, 1, 2],\n",
              "       [3, 4, 5],\n",
              "       [6, 7, 8]])"
            ]
          },
          "metadata": {},
          "execution_count": 9
        }
      ],
      "source": [
        "np.arange(0,9).reshape(3,3)"
      ]
    },
    {
      "cell_type": "markdown",
      "metadata": {
        "id": "h1mkm84g1f1L"
      },
      "source": [
        "#### 10. Find indices of non-zero elements from \\[1,2,0,0,4,0\\] (★☆☆) \n",
        "(**hint**: np.nonzero)"
      ]
    },
    {
      "cell_type": "code",
      "execution_count": null,
      "metadata": {
        "id": "LskiCFTK1f1M",
        "outputId": "e8aafd2f-86af-4563-fb72-314b91bdd1bb",
        "colab": {
          "base_uri": "https://localhost:8080/"
        }
      },
      "outputs": [
        {
          "output_type": "execute_result",
          "data": {
            "text/plain": [
              "(array([0, 1, 4]),)"
            ]
          },
          "metadata": {},
          "execution_count": 2
        }
      ],
      "source": [
        "z=[1,2,0,0,4,0]\n",
        "np.nonzero(z)"
      ]
    },
    {
      "cell_type": "markdown",
      "metadata": {
        "id": "jsjiO29E1f1N"
      },
      "source": [
        "#### 11. Create a 3x3 identity matrix (★☆☆) \n",
        "(**hint**: np.eye)"
      ]
    },
    {
      "cell_type": "code",
      "execution_count": null,
      "metadata": {
        "id": "hzh8AFwA1f1P"
      },
      "outputs": [],
      "source": [
        "np.eye(3,3)"
      ]
    },
    {
      "cell_type": "markdown",
      "metadata": {
        "id": "erydvDn51f1Q"
      },
      "source": [
        "#### 12. Create a 3x3x3 array with random values (★☆☆) \n",
        "(**hint**: np.random.random)"
      ]
    },
    {
      "cell_type": "code",
      "execution_count": null,
      "metadata": {
        "collapsed": true,
        "id": "GCaK8YD41f1R",
        "colab": {
          "base_uri": "https://localhost:8080/"
        },
        "outputId": "e2dd6219-738f-499a-e02c-c116b398498c"
      },
      "outputs": [
        {
          "output_type": "execute_result",
          "data": {
            "text/plain": [
              "array([[[0.3838518 , 0.57117054, 0.16543369],\n",
              "        [0.83015629, 0.63981791, 0.37073701],\n",
              "        [0.87612774, 0.6447141 , 0.27556986]],\n",
              "\n",
              "       [[0.34806507, 0.39240461, 0.49925899],\n",
              "        [0.07004999, 0.20492672, 0.93262481],\n",
              "        [0.34213931, 0.51304489, 0.81431906]],\n",
              "\n",
              "       [[0.55007479, 0.35673553, 0.29038074],\n",
              "        [0.61057637, 0.95878143, 0.0222347 ],\n",
              "        [0.75082406, 0.63133005, 0.20200548]]])"
            ]
          },
          "metadata": {},
          "execution_count": 3
        }
      ],
      "source": [
        "z=np.random.random(27)\n",
        "z.reshape(3,3,3)"
      ]
    },
    {
      "cell_type": "markdown",
      "metadata": {
        "id": "mj5OZvnf1f1S"
      },
      "source": [
        "#### 13. Create a 10x10 array with random values and find the minimum and maximum values (★☆☆) \n",
        "(**hint**: min, max)"
      ]
    },
    {
      "cell_type": "code",
      "execution_count": null,
      "metadata": {
        "id": "JdeC7KF81f1T",
        "colab": {
          "base_uri": "https://localhost:8080/"
        },
        "outputId": "0f05d2c6-25dd-43dc-c373-ca940eb2a2ee"
      },
      "outputs": [
        {
          "output_type": "execute_result",
          "data": {
            "text/plain": [
              "(0.003711795744427926, 0.9951684931595519)"
            ]
          },
          "metadata": {},
          "execution_count": 4
        }
      ],
      "source": [
        "Z = np.random.random((10,10))\n",
        "Zmin, Zmax = Z.min(), Z.max()\n",
        "Zmin, Zmax"
      ]
    },
    {
      "cell_type": "markdown",
      "metadata": {
        "id": "MK1gS7tw1f1U"
      },
      "source": [
        "#### 14. Create a random vector of size 30 and find the mean value (★☆☆) \n",
        "(**hint**: mean)"
      ]
    },
    {
      "cell_type": "code",
      "execution_count": null,
      "metadata": {
        "id": "7PuPpSwj1f1V",
        "colab": {
          "base_uri": "https://localhost:8080/"
        },
        "outputId": "63d443b0-a09b-4a47-d240-98a848090621"
      },
      "outputs": [
        {
          "output_type": "execute_result",
          "data": {
            "text/plain": [
              "0.48929730414743144"
            ]
          },
          "metadata": {},
          "execution_count": 5
        }
      ],
      "source": [
        "z=np.random.random(30)\n",
        "z.mean()"
      ]
    },
    {
      "cell_type": "markdown",
      "metadata": {
        "id": "IT5b5TDg1f1W"
      },
      "source": [
        "#### 15. Create a 2d array with 1 on the border and 0 inside (★☆☆) \n",
        "(**hint**: array\\[1:-1, 1:-1\\])"
      ]
    },
    {
      "cell_type": "code",
      "execution_count": null,
      "metadata": {
        "id": "64huNBwf1f1X",
        "outputId": "9d878c7f-cfaa-4992-c5a1-3dab48eb5651",
        "colab": {
          "base_uri": "https://localhost:8080/"
        }
      },
      "outputs": [
        {
          "output_type": "execute_result",
          "data": {
            "text/plain": [
              "array([[1., 1., 1., 1., 1., 1., 1., 1., 1., 1.],\n",
              "       [1., 0., 0., 0., 0., 0., 0., 0., 0., 1.],\n",
              "       [1., 0., 0., 0., 0., 0., 0., 0., 0., 1.],\n",
              "       [1., 0., 0., 0., 0., 0., 0., 0., 0., 1.],\n",
              "       [1., 0., 0., 0., 0., 0., 0., 0., 0., 1.],\n",
              "       [1., 0., 0., 0., 0., 0., 0., 0., 0., 1.],\n",
              "       [1., 0., 0., 0., 0., 0., 0., 0., 0., 1.],\n",
              "       [1., 0., 0., 0., 0., 0., 0., 0., 0., 1.],\n",
              "       [1., 0., 0., 0., 0., 0., 0., 0., 0., 1.],\n",
              "       [1., 1., 1., 1., 1., 1., 1., 1., 1., 1.]])"
            ]
          },
          "metadata": {},
          "execution_count": 4
        }
      ],
      "source": [
        "z=np.ones((10,10))\n",
        "z[1:-1,1:-1]=0\n",
        "z"
      ]
    },
    {
      "cell_type": "markdown",
      "metadata": {
        "id": "_p5vD0QN1f1X"
      },
      "source": [
        "#### 16. How to add a border (filled with 0's) around an existing array? (★☆☆) \n",
        "(**hint**: np.pad)"
      ]
    },
    {
      "cell_type": "code",
      "execution_count": null,
      "metadata": {
        "id": "6Ep-gCxs1f1Y",
        "colab": {
          "base_uri": "https://localhost:8080/"
        },
        "outputId": "49a8b353-24de-464e-9f9d-cc165debb180"
      },
      "outputs": [
        {
          "output_type": "execute_result",
          "data": {
            "text/plain": [
              "array([[0, 0, 0, 0, 0],\n",
              "       [0, 0, 1, 2, 0],\n",
              "       [0, 3, 4, 5, 0],\n",
              "       [0, 6, 7, 8, 0],\n",
              "       [0, 0, 0, 0, 0]])"
            ]
          },
          "metadata": {},
          "execution_count": 16
        }
      ],
      "source": [
        "z=np.arange(9).reshape(3,3)\n",
        "z=np.pad(z,pad_width=1,mode='constant',constant_values=0)\n",
        "z"
      ]
    },
    {
      "cell_type": "markdown",
      "metadata": {
        "id": "AsnL8DAB1f1Z"
      },
      "source": [
        "#### 17. What is the result of the following expression? (★☆☆) \n",
        "(**hint**: NaN = not a number, inf = infinity)"
      ]
    },
    {
      "cell_type": "markdown",
      "metadata": {
        "id": "sMma3YIZ1f1Z"
      },
      "source": [
        "```python\n",
        "0 * np.nan\n",
        "np.nan == np.nan\n",
        "np.inf > np.nan\n",
        "np.nan - np.nan\n",
        "0.3 == 3 * 0.1\n",
        "```"
      ]
    },
    {
      "cell_type": "code",
      "source": [
        "nan\n",
        "False\n",
        "False\n",
        "nan\n",
        "False"
      ],
      "metadata": {
        "id": "yYoPiLK06-Ka"
      },
      "execution_count": null,
      "outputs": []
    },
    {
      "cell_type": "markdown",
      "metadata": {
        "id": "yh0OI9D71f1d"
      },
      "source": [
        "#### 18. Create a 5x5 matrix with values 1,2,3,4 just below the diagonal (★☆☆) \n",
        "(**hint**: np.diag)"
      ]
    },
    {
      "cell_type": "code",
      "execution_count": null,
      "metadata": {
        "id": "ClNKi___1f1e",
        "colab": {
          "base_uri": "https://localhost:8080/"
        },
        "outputId": "78a763b0-5cc6-451e-e03c-ce29c98432e5"
      },
      "outputs": [
        {
          "output_type": "execute_result",
          "data": {
            "text/plain": [
              "array([[0, 0, 0, 0, 0],\n",
              "       [1, 0, 0, 0, 0],\n",
              "       [0, 2, 0, 0, 0],\n",
              "       [0, 0, 3, 0, 0],\n",
              "       [0, 0, 0, 4, 0]])"
            ]
          },
          "metadata": {},
          "execution_count": 27
        }
      ],
      "source": [
        "z=np.ones((5,5))\n",
        "z=np.diag(1+np.arange(4),k=-1)\n",
        "z"
      ]
    },
    {
      "cell_type": "markdown",
      "metadata": {
        "id": "KQfDgOS61f1g"
      },
      "source": [
        "#### 19. Create a 8x8 matrix and fill it with a checkerboard pattern (★☆☆) \n",
        "(**hint**: array\\[::2\\])"
      ]
    },
    {
      "cell_type": "code",
      "source": [],
      "metadata": {
        "id": "ULNb2kjP90R4"
      },
      "execution_count": null,
      "outputs": []
    },
    {
      "cell_type": "code",
      "execution_count": null,
      "metadata": {
        "id": "5DX_Nk0M1f1i",
        "colab": {
          "base_uri": "https://localhost:8080/"
        },
        "outputId": "0ccc0aed-83eb-4dec-f33e-7f88a5917c4c"
      },
      "outputs": [
        {
          "output_type": "execute_result",
          "data": {
            "text/plain": [
              "array([[0., 1., 0., 1., 0., 1., 0., 1.],\n",
              "       [1., 0., 1., 0., 1., 0., 1., 0.],\n",
              "       [0., 1., 0., 1., 0., 1., 0., 1.],\n",
              "       [1., 0., 1., 0., 1., 0., 1., 0.],\n",
              "       [0., 1., 0., 1., 0., 1., 0., 1.],\n",
              "       [1., 0., 1., 0., 1., 0., 1., 0.],\n",
              "       [0., 1., 0., 1., 0., 1., 0., 1.],\n",
              "       [1., 0., 1., 0., 1., 0., 1., 0.]])"
            ]
          },
          "metadata": {},
          "execution_count": 31
        }
      ],
      "source": [
        "z=np.zeros((8,8))\n",
        "z[::2,1::2]=1\n",
        "z[1::2,::2]=1\n",
        "z"
      ]
    },
    {
      "cell_type": "markdown",
      "metadata": {
        "id": "qUK7EXxP1f1j"
      },
      "source": [
        "#### 20. Consider a (6,7,8) shape array, what is the index (x,y,z) of the 100th element? \n",
        "(**hint**: np.unravel_index)"
      ]
    },
    {
      "cell_type": "code",
      "execution_count": null,
      "metadata": {
        "id": "Jl93DFdy1f1l",
        "colab": {
          "base_uri": "https://localhost:8080/"
        },
        "outputId": "ad8f72d9-6510-486c-fba9-f7b3fa2cec2f"
      },
      "outputs": [
        {
          "output_type": "execute_result",
          "data": {
            "text/plain": [
              "(1, 5, 4)"
            ]
          },
          "metadata": {},
          "execution_count": 34
        }
      ],
      "source": [
        "np.unravel_index(100,(6,7,8))\n"
      ]
    },
    {
      "cell_type": "markdown",
      "metadata": {
        "id": "0awrvULC1f1l"
      },
      "source": [
        "#### 21. Create a checkerboard 8x8 matrix using the tile function (★☆☆) \n",
        "(**hint**: np.tile)"
      ]
    },
    {
      "cell_type": "code",
      "execution_count": null,
      "metadata": {
        "id": "fAyzR9kf1f1m",
        "colab": {
          "base_uri": "https://localhost:8080/"
        },
        "outputId": "1a45ced7-622c-48c1-b41e-59b9a2acb94b"
      },
      "outputs": [
        {
          "output_type": "stream",
          "name": "stdout",
          "text": [
            "[[0 1 0 1 0 1 0 1]\n",
            " [1 0 1 0 1 0 1 0]\n",
            " [0 1 0 1 0 1 0 1]\n",
            " [1 0 1 0 1 0 1 0]\n",
            " [0 1 0 1 0 1 0 1]\n",
            " [1 0 1 0 1 0 1 0]\n",
            " [0 1 0 1 0 1 0 1]\n",
            " [1 0 1 0 1 0 1 0]]\n"
          ]
        }
      ],
      "source": [
        "Z = np.tile( np.array([[0,1],[1,0]]), (4,4))\n",
        "print(Z)"
      ]
    },
    {
      "cell_type": "markdown",
      "metadata": {
        "id": "dJxplcMW1f1n"
      },
      "source": [
        "#### 22. Normalize a 5x5 random matrix (★☆☆) \n",
        "(**hint**: (x - min) / (max - min))"
      ]
    },
    {
      "cell_type": "code",
      "execution_count": null,
      "metadata": {
        "id": "7PP4qC7i1f1o",
        "colab": {
          "base_uri": "https://localhost:8080/"
        },
        "outputId": "aa9d554c-bf64-4aec-ca17-ab0b8c8cee03"
      },
      "outputs": [
        {
          "output_type": "stream",
          "name": "stdout",
          "text": [
            "[0.         0.04166667 0.08333333 0.125      0.16666667]\n",
            "[0.20833333 0.25       0.29166667 0.33333333 0.375     ]\n",
            "[0.41666667 0.45833333 0.5        0.54166667 0.58333333]\n",
            "[0.625      0.66666667 0.70833333 0.75       0.79166667]\n",
            "[0.83333333 0.875      0.91666667 0.95833333 1.        ]\n",
            "[0.         0.04166667 0.08333333 0.125      0.16666667]\n",
            "[0.20833333 0.25       0.29166667 0.33333333 0.375     ]\n",
            "[0.41666667 0.45833333 0.5        0.54166667 0.58333333]\n",
            "[0.625      0.66666667 0.70833333 0.75       0.79166667]\n",
            "[0.83333333 0.875      0.91666667 0.95833333 1.        ]\n",
            "[0.         0.04166667 0.08333333 0.125      0.16666667]\n",
            "[0.20833333 0.25       0.29166667 0.33333333 0.375     ]\n",
            "[0.41666667 0.45833333 0.5        0.54166667 0.58333333]\n",
            "[0.625      0.66666667 0.70833333 0.75       0.79166667]\n",
            "[0.83333333 0.875      0.91666667 0.95833333 1.        ]\n",
            "[0.         0.04166667 0.08333333 0.125      0.16666667]\n",
            "[0.20833333 0.25       0.29166667 0.33333333 0.375     ]\n",
            "[0.41666667 0.45833333 0.5        0.54166667 0.58333333]\n",
            "[0.625      0.66666667 0.70833333 0.75       0.79166667]\n",
            "[0.83333333 0.875      0.91666667 0.95833333 1.        ]\n",
            "[0.         0.04166667 0.08333333 0.125      0.16666667]\n",
            "[0.20833333 0.25       0.29166667 0.33333333 0.375     ]\n",
            "[0.41666667 0.45833333 0.5        0.54166667 0.58333333]\n",
            "[0.625      0.66666667 0.70833333 0.75       0.79166667]\n",
            "[0.83333333 0.875      0.91666667 0.95833333 1.        ]\n"
          ]
        }
      ],
      "source": [
        "z=np.arange(25).reshape(5,5)\n",
        "for i in z:\n",
        "  for j in z:\n",
        "    j=(j-z.min())/(z.max()-z.min())\n",
        "    print(j)"
      ]
    },
    {
      "cell_type": "markdown",
      "metadata": {
        "id": "2XbiLgeD1f1p"
      },
      "source": [
        "#### 23. Create a custom dtype that describes a color as four unsigned bytes (RGBA) (★☆☆) \n",
        "(**hint**: np.dtype)"
      ]
    },
    {
      "cell_type": "code",
      "execution_count": null,
      "metadata": {
        "collapsed": true,
        "id": "pich8-jj1f1q",
        "colab": {
          "base_uri": "https://localhost:8080/"
        },
        "outputId": "89e39c80-c86a-4e7d-9cb6-0f1c3867fa68"
      },
      "outputs": [
        {
          "output_type": "stream",
          "name": "stderr",
          "text": [
            "/usr/local/lib/python3.7/dist-packages/ipykernel_launcher.py:4: FutureWarning: Passing (type, 1) or '1type' as a synonym of type is deprecated; in a future version of numpy, it will be understood as (type, (1,)) / '(1,)type'.\n",
            "  after removing the cwd from sys.path.\n"
          ]
        }
      ],
      "source": [
        "color = np.dtype([(\"r\", np.ubyte, 1),\n",
        "                  (\"g\", np.ubyte, 1),\n",
        "                  (\"b\", np.ubyte, 1),\n",
        "                  (\"a\", np.ubyte, 1)])"
      ]
    },
    {
      "cell_type": "markdown",
      "metadata": {
        "id": "D7HWYiVi1f1q"
      },
      "source": [
        "#### 24. Multiply a 5x3 matrix by a 3x2 matrix (real matrix product) (★☆☆) \n",
        "(**hint**: np.dot | @)"
      ]
    },
    {
      "cell_type": "code",
      "execution_count": null,
      "metadata": {
        "id": "OC0Ov7v21f1r",
        "colab": {
          "base_uri": "https://localhost:8080/"
        },
        "outputId": "d50f8212-558a-4a8d-f74b-e50803a2d820"
      },
      "outputs": [
        {
          "output_type": "execute_result",
          "data": {
            "text/plain": [
              "array([[ 10,  13],\n",
              "       [ 28,  40],\n",
              "       [ 46,  67],\n",
              "       [ 64,  94],\n",
              "       [ 82, 121]])"
            ]
          },
          "metadata": {},
          "execution_count": 4
        }
      ],
      "source": [
        "z=np.arange(15).reshape(5,3)\n",
        "x=np.arange(6).reshape(3,2)\n",
        "a=np.dot(z,x)\n",
        "a"
      ]
    },
    {
      "cell_type": "markdown",
      "metadata": {
        "id": "eKeB143d1f1s"
      },
      "source": [
        "#### 25. Given a 1D array, negate all elements which are between 3 and 8, in place. (★☆☆) \n",
        "(**hint**: >, <=)"
      ]
    },
    {
      "cell_type": "code",
      "execution_count": null,
      "metadata": {
        "id": "CHJwQkj_1f1t",
        "colab": {
          "base_uri": "https://localhost:8080/"
        },
        "outputId": "0af8a23e-1fc8-4def-ffae-dfd15603efbe"
      },
      "outputs": [
        {
          "output_type": "execute_result",
          "data": {
            "text/plain": [
              "array([ 0,  1,  2,  3, -4, -5, -6, -7, -8,  9, 10])"
            ]
          },
          "metadata": {},
          "execution_count": 6
        }
      ],
      "source": [
        "z=np.arange(11)\n",
        "z[(3<z)&(z<=8)]*=-1\n",
        "z"
      ]
    },
    {
      "cell_type": "markdown",
      "metadata": {
        "id": "cWB1_cTo1f1t"
      },
      "source": [
        "\n",
        "#### 26. What is the output of the following script? (★☆☆) \n",
        "(**hint**: np.sum)"
      ]
    },
    {
      "cell_type": "markdown",
      "metadata": {
        "id": "xo5bqeTh1f1u"
      },
      "source": [
        "```python\n",
        "# Author: Jake VanderPlas\n",
        "\n",
        "print(sum(range(5),-1))\n",
        "from numpy import *\n",
        "print(sum(range(5),-1))\n",
        "```"
      ]
    },
    {
      "cell_type": "markdown",
      "source": [
        "9\n",
        "\n",
        "10"
      ],
      "metadata": {
        "id": "1njQ-CrLwpNj"
      }
    },
    {
      "cell_type": "markdown",
      "metadata": {
        "id": "zqBmCgaB1f1w"
      },
      "source": [
        "#### 27. Consider an integer vector Z, which of these expressions are legal? (★☆☆)"
      ]
    },
    {
      "cell_type": "markdown",
      "metadata": {
        "id": "nUMK-bu21f1x"
      },
      "source": [
        "```python\n",
        "Z**Z\n",
        "2 << Z >> 2\n",
        "Z <- Z\n",
        "1j*Z\n",
        "Z/1/1\n",
        "Z<Z>Z\n",
        "```"
      ]
    },
    {
      "cell_type": "code",
      "execution_count": null,
      "metadata": {
        "id": "qcknNnz31f1y"
      },
      "outputs": [],
      "source": []
    },
    {
      "cell_type": "markdown",
      "source": [],
      "metadata": {
        "id": "K-hY1EmXw-CW"
      }
    },
    {
      "cell_type": "markdown",
      "metadata": {
        "id": "gDL4D9VA1f1y"
      },
      "source": [
        "#### 28. What are the result of the following expressions?"
      ]
    },
    {
      "cell_type": "markdown",
      "metadata": {
        "id": "UPc1GHje1f1z"
      },
      "source": [
        "```python\n",
        "np.array(0) / np.array(0)\n",
        "np.array(0) // np.array(0)\n",
        "np.array([np.nan]).astype(int).astype(float)\n",
        "```"
      ]
    },
    {
      "cell_type": "markdown",
      "source": [
        "nan\n",
        "0\n",
        "-9.22337204e+18"
      ],
      "metadata": {
        "id": "flLGFry3xEgO"
      }
    },
    {
      "cell_type": "markdown",
      "metadata": {
        "id": "aWNXrZ7R1f11"
      },
      "source": [
        "#### 29. How to round away from zero a float array ? (★☆☆) \n",
        "(**hint**: np.uniform, np.copysign, np.ceil, np.abs)"
      ]
    },
    {
      "cell_type": "code",
      "execution_count": null,
      "metadata": {
        "id": "A5flS9Xt1f12",
        "colab": {
          "base_uri": "https://localhost:8080/"
        },
        "outputId": "364a81ce-a416-4e20-aaaa-e1fe34a18a7e"
      },
      "outputs": [
        {
          "output_type": "stream",
          "name": "stdout",
          "text": [
            "[-5. -7. -5.  8.  1.  5.  4. -5.  8.  4.]\n"
          ]
        }
      ],
      "source": [
        "Z = np.random.uniform(-10,10,10)\n",
        "print(np.copysign(np.ceil(np.abs(Z)),Z))"
      ]
    },
    {
      "cell_type": "markdown",
      "metadata": {
        "id": "aEW7MOz21f16"
      },
      "source": [
        "vv#### 30. How to find common values between two arrays? (★☆☆) \n",
        "(**hint**: np.intersect1d)"
      ]
    },
    {
      "cell_type": "code",
      "execution_count": null,
      "metadata": {
        "id": "VBPIvca01f18",
        "colab": {
          "base_uri": "https://localhost:8080/"
        },
        "outputId": "d96becd8-0c56-402f-bd97-ad5ba76fe9d1"
      },
      "outputs": [
        {
          "output_type": "execute_result",
          "data": {
            "text/plain": [
              "array([1, 5, 6, 8])"
            ]
          },
          "metadata": {},
          "execution_count": 13
        }
      ],
      "source": [
        "Z1 = np.random.randint(0,10,10)\n",
        "Z2 = np.random.randint(0,10,10)\n",
        "np.intersect1d(Z1,Z2)"
      ]
    },
    {
      "cell_type": "markdown",
      "metadata": {
        "id": "KlY1RGTh1f2C"
      },
      "source": [
        "#### 31. How to ignore all numpy warnings (not recommended)? (★☆☆) \n",
        "(**hint**: np.seterr, np.errstate)"
      ]
    },
    {
      "cell_type": "code",
      "execution_count": null,
      "metadata": {
        "id": "nL29X4rj1f2F"
      },
      "outputs": [],
      "source": [
        "defaults = np.seterr(all=\"ignore\")\n",
        "Z = np.ones(1) / 0\n",
        "\n",
        "# Back to sanity\n",
        "_ = np.seterr(**defaults)\n",
        "\n",
        "with np.errstate(divide='ignore'):\n",
        "    Z = np.ones(1) / 0"
      ]
    },
    {
      "cell_type": "markdown",
      "metadata": {
        "id": "_bq8Cig21f2H"
      },
      "source": [
        "#### 32. Is the following expressions true? (★☆☆) \n",
        "(**hint**: imaginary number)"
      ]
    },
    {
      "cell_type": "markdown",
      "metadata": {
        "id": "o6_pHG8n1f2K"
      },
      "source": [
        "```python\n",
        "np.sqrt(-1) == np.emath.sqrt(-1)\n",
        "```"
      ]
    },
    {
      "cell_type": "code",
      "execution_count": null,
      "metadata": {
        "id": "7cYiLFqO1f2L"
      },
      "outputs": [],
      "source": [
        "false"
      ]
    },
    {
      "cell_type": "markdown",
      "metadata": {
        "id": "zV_Xn8-p1f2M"
      },
      "source": [
        "#### 33. How to get the dates of yesterday, today and tomorrow? (★☆☆) \n",
        "(**hint**: np.datetime64, np.timedelta64)"
      ]
    },
    {
      "cell_type": "code",
      "execution_count": null,
      "metadata": {
        "collapsed": true,
        "id": "9zqvWHBk1f2N",
        "colab": {
          "base_uri": "https://localhost:8080/"
        },
        "outputId": "78e20899-e226-4237-ceac-434519c11e24"
      },
      "outputs": [
        {
          "output_type": "execute_result",
          "data": {
            "text/plain": [
              "numpy.datetime64('2022-10-29')"
            ]
          },
          "metadata": {},
          "execution_count": 8
        }
      ],
      "source": [
        "yesterday = np.datetime64('today', 'D') - np.timedelta64(1, 'D')\n",
        "today     = np.datetime64('today', 'D')\n",
        "tomorrow  = np.datetime64('today', 'D') + np.timedelta64(1, 'D')\n",
        "yesterday\n",
        "today\n",
        "tomorrow"
      ]
    },
    {
      "cell_type": "markdown",
      "metadata": {
        "id": "x2p6m15T1f2X"
      },
      "source": [
        "#### 34. How to get all the dates corresponding to the month of July 2016? (★★☆) \n",
        "(**hint**: np.arange(dtype=datetime64\\['D'\\]))"
      ]
    },
    {
      "cell_type": "code",
      "execution_count": null,
      "metadata": {
        "id": "kVdhwiEi1f2a",
        "colab": {
          "base_uri": "https://localhost:8080/"
        },
        "outputId": "50612487-de69-4a2a-9b7e-2d2c607a9526"
      },
      "outputs": [
        {
          "output_type": "stream",
          "name": "stdout",
          "text": [
            "['2016-07-01' '2016-07-02' '2016-07-03' '2016-07-04' '2016-07-05'\n",
            " '2016-07-06' '2016-07-07' '2016-07-08' '2016-07-09' '2016-07-10'\n",
            " '2016-07-11' '2016-07-12' '2016-07-13' '2016-07-14' '2016-07-15'\n",
            " '2016-07-16' '2016-07-17' '2016-07-18' '2016-07-19' '2016-07-20'\n",
            " '2016-07-21' '2016-07-22' '2016-07-23' '2016-07-24' '2016-07-25'\n",
            " '2016-07-26' '2016-07-27' '2016-07-28' '2016-07-29' '2016-07-30'\n",
            " '2016-07-31']\n"
          ]
        }
      ],
      "source": [
        "Z = np.arange('2016-07','2016-08', dtype='datetime64[D]')\n",
        "print(Z)"
      ]
    },
    {
      "cell_type": "markdown",
      "metadata": {
        "id": "ICrGOVZ71f2a"
      },
      "source": [
        "#### 35. How to compute ((A+B)\\*(-A/2)) in place (without copy)? (★★☆) \n",
        "(**hint**: np.add(out=), np.negative(out=), np.multiply(out=), np.divide(out=))"
      ]
    },
    {
      "cell_type": "code",
      "execution_count": null,
      "metadata": {
        "id": "fsn_IbEH1f2o",
        "colab": {
          "base_uri": "https://localhost:8080/"
        },
        "outputId": "bec8fba9-7d02-48f5-98c8-c963482fc6d1"
      },
      "outputs": [
        {
          "output_type": "execute_result",
          "data": {
            "text/plain": [
              "array([-1.5, -1.5, -1.5])"
            ]
          },
          "metadata": {},
          "execution_count": 12
        }
      ],
      "source": [
        "A = np.ones(3)*1\n",
        "B = np.ones(3)*2\n",
        "C = np.ones(3)*3\n",
        "np.add(A,B,out=B)\n",
        "np.divide(A,2,out=A)\n",
        "np.negative(A,out=A)\n",
        "np.multiply(A,B,out=A)"
      ]
    },
    {
      "cell_type": "markdown",
      "metadata": {
        "id": "-vwPnq2o1f2p"
      },
      "source": [
        "#### 36. Extract the integer part of a random array using 5 different methods (★★☆) \n",
        "(**hint**: %, np.floor, np.ceil, astype, np.trunc)"
      ]
    },
    {
      "cell_type": "code",
      "execution_count": null,
      "metadata": {
        "id": "LjA83qVe1f2q",
        "colab": {
          "base_uri": "https://localhost:8080/"
        },
        "outputId": "30842428-9991-4da0-fe33-f176823f5afb"
      },
      "outputs": [
        {
          "output_type": "stream",
          "name": "stdout",
          "text": [
            "[2. 3. 4. 3. 0. 8. 2. 6. 4. 7.]\n",
            "[2. 3. 4. 3. 0. 8. 2. 6. 4. 7.]\n",
            "[2. 3. 4. 3. 0. 8. 2. 6. 4. 7.]\n",
            "[2 3 4 3 0 8 2 6 4 7]\n",
            "[2. 3. 4. 3. 0. 8. 2. 6. 4. 7.]\n"
          ]
        }
      ],
      "source": [
        "Z = np.random.uniform(0,10,10)\n",
        "\n",
        "print (Z - Z%1)\n",
        "print (np.floor(Z))\n",
        "print (np.ceil(Z)-1)\n",
        "print (Z.astype(int))\n",
        "print (np.trunc(Z))"
      ]
    },
    {
      "cell_type": "markdown",
      "metadata": {
        "id": "XZRH42wf1f2r"
      },
      "source": [
        "#### 37. Create a 5x5 matrix with row values ranging from 0 to 4 (★★☆) \n",
        "(**hint**: np.arange)"
      ]
    },
    {
      "cell_type": "code",
      "execution_count": null,
      "metadata": {
        "id": "FvN888Sf1f2s",
        "colab": {
          "base_uri": "https://localhost:8080/"
        },
        "outputId": "61c6ca14-7893-41f5-88d0-7f19f5988e9e"
      },
      "outputs": [
        {
          "output_type": "execute_result",
          "data": {
            "text/plain": [
              "array([[0., 1., 2., 3., 4.],\n",
              "       [0., 1., 2., 3., 4.],\n",
              "       [0., 1., 2., 3., 4.],\n",
              "       [0., 1., 2., 3., 4.],\n",
              "       [0., 1., 2., 3., 4.]])"
            ]
          },
          "metadata": {},
          "execution_count": 14
        }
      ],
      "source": [
        "Z = np.zeros((5,5))\n",
        "Z += np.arange(5)\n",
        "Z"
      ]
    },
    {
      "cell_type": "markdown",
      "metadata": {
        "id": "OCWrX8_u1f2s"
      },
      "source": [
        "#### 38. Consider a generator function that generates 10 integers and use it to build an array (★☆☆) \n",
        "(**hint**: np.fromiter)"
      ]
    },
    {
      "cell_type": "code",
      "execution_count": null,
      "metadata": {
        "id": "pAcpCJTB1f2t",
        "colab": {
          "base_uri": "https://localhost:8080/"
        },
        "outputId": "a2816e2b-280a-4e29-f190-cb6c6941309e"
      },
      "outputs": [
        {
          "output_type": "stream",
          "name": "stdout",
          "text": [
            "[0. 1. 2. 3. 4. 5. 6. 7. 8. 9.]\n"
          ]
        }
      ],
      "source": [
        "def generate():\n",
        "    for x in range(10):\n",
        "        yield x\n",
        "Z = np.fromiter(generate(),dtype=float,count=-1)\n",
        "print(Z)"
      ]
    },
    {
      "cell_type": "markdown",
      "metadata": {
        "id": "WunkmIx41f2w"
      },
      "source": [
        "#### 39. Create a vector of size 10 with values ranging from 0 to 1, both excluded (★★☆) \n",
        "(**hint**: np.linspace)"
      ]
    },
    {
      "cell_type": "code",
      "execution_count": null,
      "metadata": {
        "id": "mGU4npTG1f2x",
        "colab": {
          "base_uri": "https://localhost:8080/"
        },
        "outputId": "8c0ed0c4-eca4-4af8-8eb5-14c2012dc8ce"
      },
      "outputs": [
        {
          "output_type": "execute_result",
          "data": {
            "text/plain": [
              "array([0.09090909, 0.18181818, 0.27272727, 0.36363636, 0.45454545,\n",
              "       0.54545455, 0.63636364, 0.72727273, 0.81818182, 0.90909091])"
            ]
          },
          "metadata": {},
          "execution_count": 20
        }
      ],
      "source": [
        "np.linspace(0,1,11,endpoint=False)[1:]"
      ]
    },
    {
      "cell_type": "markdown",
      "metadata": {
        "id": "fw00gKhK1f2x"
      },
      "source": [
        "#### 40. Create a random vector of size 10 and sort it (★★☆) \n",
        "(**hint**: sort)"
      ]
    },
    {
      "cell_type": "code",
      "source": [
        "z=np.random.randint(10,1000,size=10)\n",
        "np.sort(z)"
      ],
      "metadata": {
        "colab": {
          "base_uri": "https://localhost:8080/"
        },
        "id": "ddibY-1CS_JT",
        "outputId": "d3593a15-c79e-4b88-cdc4-8d4417844523"
      },
      "execution_count": null,
      "outputs": [
        {
          "output_type": "execute_result",
          "data": {
            "text/plain": [
              "array([108, 455, 521, 536, 685, 787, 816, 824, 896, 906])"
            ]
          },
          "metadata": {},
          "execution_count": 23
        }
      ]
    },
    {
      "cell_type": "code",
      "execution_count": null,
      "metadata": {
        "id": "A6Pmqloa1f2z"
      },
      "outputs": [],
      "source": []
    },
    {
      "cell_type": "markdown",
      "metadata": {
        "id": "FBkV4nLU1f21"
      },
      "source": [
        "#### 41. How to sum a small array faster than np.sum? (★★☆) \n",
        "(**hint**: np.add.reduce)"
      ]
    },
    {
      "cell_type": "code",
      "execution_count": null,
      "metadata": {
        "id": "4UUKXXoU1f23",
        "colab": {
          "base_uri": "https://localhost:8080/"
        },
        "outputId": "8956570d-5193-4722-98b6-980b434fccbd"
      },
      "outputs": [
        {
          "output_type": "execute_result",
          "data": {
            "text/plain": [
              "45"
            ]
          },
          "metadata": {},
          "execution_count": 24
        }
      ],
      "source": [
        "Z = np.arange(10)\n",
        "np.add.reduce(Z)"
      ]
    },
    {
      "cell_type": "markdown",
      "metadata": {
        "id": "45Qs1H_R1f25"
      },
      "source": [
        "#### 42. Consider two random array A and B, check if they are equal (★★☆) \n",
        "(**hint**: np.allclose, np.array\\_equal)"
      ]
    },
    {
      "cell_type": "code",
      "execution_count": null,
      "metadata": {
        "id": "qQuvmboo1f25",
        "colab": {
          "base_uri": "https://localhost:8080/"
        },
        "outputId": "eb684f17-b8c4-44f6-d511-14807f452d41"
      },
      "outputs": [
        {
          "output_type": "stream",
          "name": "stdout",
          "text": [
            "False\n",
            "False\n"
          ]
        }
      ],
      "source": [
        "A = np.random.randint(0,2,5)\n",
        "B = np.random.randint(0,2,5)\n",
        "equal = np.allclose(A,B)\n",
        "print(equal)\n",
        "equal = np.array_equal(A,B)\n",
        "print(equal)"
      ]
    },
    {
      "cell_type": "markdown",
      "metadata": {
        "id": "6NmXCChg1f26"
      },
      "source": [
        "#### 43. Make an array immutable (read-only) (★★☆) \n",
        "(**hint**: flags.writeable)"
      ]
    },
    {
      "cell_type": "code",
      "execution_count": null,
      "metadata": {
        "id": "LzbPW9041f26"
      },
      "outputs": [],
      "source": [
        "Z = np.zeros(10)\n",
        "Z.flags.writeable = False"
      ]
    },
    {
      "cell_type": "markdown",
      "metadata": {
        "id": "C3WE9CJ51f3a"
      },
      "source": [
        "#### 44. Consider a random 10x2 matrix representing cartesian coordinates, convert them to polar coordinates (★★☆) \n",
        "(**hint**: np.sqrt, np.arctan2)"
      ]
    },
    {
      "cell_type": "code",
      "execution_count": null,
      "metadata": {
        "id": "xhuQCTuw1f3b",
        "colab": {
          "base_uri": "https://localhost:8080/"
        },
        "outputId": "9ae5e107-18d2-456c-dab0-3589419ccf5d"
      },
      "outputs": [
        {
          "output_type": "stream",
          "name": "stdout",
          "text": [
            "[0.59070611 1.01076723 0.78724419 0.66946816 0.42455744 0.78826921\n",
            " 0.7621914  0.4774736  0.94491243 0.83618033]\n",
            "[0.00797688 0.73156198 0.6511027  0.57604278 0.23041907 0.1367925\n",
            " 1.07005059 0.73147808 1.16092102 1.31352775]\n"
          ]
        }
      ],
      "source": [
        "Z = np.random.random((10,2))\n",
        "X,Y = Z[:,0], Z[:,1]\n",
        "R = np.sqrt(X**2+Y**2)\n",
        "T = np.arctan2(Y,X)\n",
        "print(R)\n",
        "print(T)"
      ]
    },
    {
      "cell_type": "markdown",
      "metadata": {
        "id": "eowQ2Usp1f3c"
      },
      "source": [
        "#### 45. Create random vector of size 10 and replace the maximum value by 0 (★★☆) \n",
        "(**hint**: argmax)"
      ]
    },
    {
      "cell_type": "code",
      "execution_count": null,
      "metadata": {
        "id": "Y-EaQY9_1f3c",
        "colab": {
          "base_uri": "https://localhost:8080/"
        },
        "outputId": "16d88092-7f9c-4521-ef55-51e210bbae4e"
      },
      "outputs": [
        {
          "output_type": "execute_result",
          "data": {
            "text/plain": [
              "array([86, 68, 76,  9,  0, 55, 37, 15, 49, 49])"
            ]
          },
          "metadata": {},
          "execution_count": 41
        }
      ],
      "source": [
        "Z=np.random.randint(0,100,size=10)\n",
        "Z[Z.argmax()]=0\n",
        "Z"
      ]
    },
    {
      "cell_type": "markdown",
      "metadata": {
        "id": "2vO9BA-M1f3d"
      },
      "source": [
        "#### 46. Create a structured array with `x` and `y` coordinates covering the \\[0,1\\]x\\[0,1\\] area (★★☆) \n",
        "(**hint**: np.meshgrid)"
      ]
    },
    {
      "cell_type": "code",
      "execution_count": null,
      "metadata": {
        "id": "L3rlXqiK1f3d",
        "colab": {
          "base_uri": "https://localhost:8080/"
        },
        "outputId": "a841c935-9eb6-481e-a69a-38911c294856"
      },
      "outputs": [
        {
          "output_type": "stream",
          "name": "stdout",
          "text": [
            "[[(0.  , 0.  ) (0.25, 0.  ) (0.5 , 0.  ) (0.75, 0.  ) (1.  , 0.  )]\n",
            " [(0.  , 0.25) (0.25, 0.25) (0.5 , 0.25) (0.75, 0.25) (1.  , 0.25)]\n",
            " [(0.  , 0.5 ) (0.25, 0.5 ) (0.5 , 0.5 ) (0.75, 0.5 ) (1.  , 0.5 )]\n",
            " [(0.  , 0.75) (0.25, 0.75) (0.5 , 0.75) (0.75, 0.75) (1.  , 0.75)]\n",
            " [(0.  , 1.  ) (0.25, 1.  ) (0.5 , 1.  ) (0.75, 1.  ) (1.  , 1.  )]]\n"
          ]
        }
      ],
      "source": [
        "Z = np.zeros((5,5), [('x',float),('y',float)])\n",
        "Z['x'], Z['y'] = np.meshgrid(np.linspace(0,1,5),\n",
        "                             np.linspace(0,1,5))\n",
        "print(Z)"
      ]
    },
    {
      "cell_type": "markdown",
      "metadata": {
        "id": "XuJBqLVk1f3e"
      },
      "source": [
        "####  47. Given two arrays, X and Y, construct the Cauchy matrix C (Cij =1/(xi - yj)) \n",
        "(**hint**: np.subtract.outer)"
      ]
    },
    {
      "cell_type": "code",
      "execution_count": null,
      "metadata": {
        "id": "lF_-Vil41f3f",
        "colab": {
          "base_uri": "https://localhost:8080/"
        },
        "outputId": "4c50c457-860c-4b38-c2de-d976a5f3c424"
      },
      "outputs": [
        {
          "output_type": "stream",
          "name": "stdout",
          "text": [
            "3638.163637117973\n"
          ]
        }
      ],
      "source": [
        "X = np.arange(8)\n",
        "Y = X + 0.5\n",
        "C = 1.0 / np.subtract.outer(X, Y)\n",
        "print(np.linalg.det(C))"
      ]
    },
    {
      "cell_type": "markdown",
      "metadata": {
        "id": "Dm7mZ4Ya1f3g"
      },
      "source": [
        "#### 48. Print the minimum and maximum representable value for each numpy scalar type (★★☆) \n",
        "(**hint**: np.iinfo, np.finfo, eps)"
      ]
    },
    {
      "cell_type": "code",
      "execution_count": null,
      "metadata": {
        "id": "Jvl4o_H81f3h",
        "colab": {
          "base_uri": "https://localhost:8080/"
        },
        "outputId": "faa54f94-e111-4748-a64a-27c3357de7be"
      },
      "outputs": [
        {
          "output_type": "stream",
          "name": "stdout",
          "text": [
            "-128\n",
            "127\n",
            "-2147483648\n",
            "2147483647\n",
            "-9223372036854775808\n",
            "9223372036854775807\n",
            "-3.4028235e+38\n",
            "3.4028235e+38\n",
            "1.1920929e-07\n",
            "-1.7976931348623157e+308\n",
            "1.7976931348623157e+308\n",
            "2.220446049250313e-16\n"
          ]
        }
      ],
      "source": [
        "for dtype in [np.int8, np.int32, np.int64]:\n",
        "   print(np.iinfo(dtype).min)\n",
        "   print(np.iinfo(dtype).max)\n",
        "for dtype in [np.float32, np.float64]:\n",
        "   print(np.finfo(dtype).min)\n",
        "   print(np.finfo(dtype).max)\n",
        "   print(np.finfo(dtype).eps)"
      ]
    },
    {
      "cell_type": "markdown",
      "metadata": {
        "id": "oQx_6cNh1f3i"
      },
      "source": [
        "#### 49. How to print all the values of an array? (★★☆) \n",
        "(**hint**: np.set\\_printoptions)"
      ]
    },
    {
      "cell_type": "code",
      "execution_count": null,
      "metadata": {
        "id": "J_yLsmO01f3r",
        "colab": {
          "base_uri": "https://localhost:8080/"
        },
        "outputId": "eead4994-c7ca-45b3-f9a5-6d2449f99ac4"
      },
      "outputs": [
        {
          "output_type": "stream",
          "name": "stdout",
          "text": [
            "[[0. 0. 0. 0. 0. 0. 0. 0. 0. 0. 0. 0. 0. 0. 0. 0. 0. 0. 0. 0.]\n",
            " [0. 0. 0. 0. 0. 0. 0. 0. 0. 0. 0. 0. 0. 0. 0. 0. 0. 0. 0. 0.]\n",
            " [0. 0. 0. 0. 0. 0. 0. 0. 0. 0. 0. 0. 0. 0. 0. 0. 0. 0. 0. 0.]\n",
            " [0. 0. 0. 0. 0. 0. 0. 0. 0. 0. 0. 0. 0. 0. 0. 0. 0. 0. 0. 0.]\n",
            " [0. 0. 0. 0. 0. 0. 0. 0. 0. 0. 0. 0. 0. 0. 0. 0. 0. 0. 0. 0.]\n",
            " [0. 0. 0. 0. 0. 0. 0. 0. 0. 0. 0. 0. 0. 0. 0. 0. 0. 0. 0. 0.]\n",
            " [0. 0. 0. 0. 0. 0. 0. 0. 0. 0. 0. 0. 0. 0. 0. 0. 0. 0. 0. 0.]\n",
            " [0. 0. 0. 0. 0. 0. 0. 0. 0. 0. 0. 0. 0. 0. 0. 0. 0. 0. 0. 0.]\n",
            " [0. 0. 0. 0. 0. 0. 0. 0. 0. 0. 0. 0. 0. 0. 0. 0. 0. 0. 0. 0.]\n",
            " [0. 0. 0. 0. 0. 0. 0. 0. 0. 0. 0. 0. 0. 0. 0. 0. 0. 0. 0. 0.]\n",
            " [0. 0. 0. 0. 0. 0. 0. 0. 0. 0. 0. 0. 0. 0. 0. 0. 0. 0. 0. 0.]\n",
            " [0. 0. 0. 0. 0. 0. 0. 0. 0. 0. 0. 0. 0. 0. 0. 0. 0. 0. 0. 0.]\n",
            " [0. 0. 0. 0. 0. 0. 0. 0. 0. 0. 0. 0. 0. 0. 0. 0. 0. 0. 0. 0.]\n",
            " [0. 0. 0. 0. 0. 0. 0. 0. 0. 0. 0. 0. 0. 0. 0. 0. 0. 0. 0. 0.]\n",
            " [0. 0. 0. 0. 0. 0. 0. 0. 0. 0. 0. 0. 0. 0. 0. 0. 0. 0. 0. 0.]\n",
            " [0. 0. 0. 0. 0. 0. 0. 0. 0. 0. 0. 0. 0. 0. 0. 0. 0. 0. 0. 0.]\n",
            " [0. 0. 0. 0. 0. 0. 0. 0. 0. 0. 0. 0. 0. 0. 0. 0. 0. 0. 0. 0.]\n",
            " [0. 0. 0. 0. 0. 0. 0. 0. 0. 0. 0. 0. 0. 0. 0. 0. 0. 0. 0. 0.]\n",
            " [0. 0. 0. 0. 0. 0. 0. 0. 0. 0. 0. 0. 0. 0. 0. 0. 0. 0. 0. 0.]\n",
            " [0. 0. 0. 0. 0. 0. 0. 0. 0. 0. 0. 0. 0. 0. 0. 0. 0. 0. 0. 0.]]\n"
          ]
        }
      ],
      "source": [
        "np.set_printoptions()\n",
        "Z = np.zeros((20,20))\n",
        "print(Z)"
      ]
    },
    {
      "cell_type": "markdown",
      "metadata": {
        "id": "akAxbUkQ1f3s"
      },
      "source": [
        "#### 50. How to find the closest value (to a given scalar) in a vector? (★★☆) \n",
        "(**hint**: argmin)"
      ]
    },
    {
      "cell_type": "code",
      "execution_count": null,
      "metadata": {
        "id": "76OM0dfi1f3s",
        "colab": {
          "base_uri": "https://localhost:8080/"
        },
        "outputId": "bead8666-20db-459a-bfa2-d5d4604f0b1d"
      },
      "outputs": [
        {
          "output_type": "stream",
          "name": "stdout",
          "text": [
            "16\n"
          ]
        }
      ],
      "source": [
        "Z = np.arange(100)\n",
        "v = np.random.uniform(0,100)\n",
        "index = (np.abs(Z-v)).argmin()\n",
        "print(Z[index])"
      ]
    },
    {
      "cell_type": "markdown",
      "metadata": {
        "id": "wVdBRe8x1f3t"
      },
      "source": [
        "#### 51. Create a structured array representing a position (x,y) and a color (r,g,b) (★★☆) \n",
        "(**hint**: dtype)"
      ]
    },
    {
      "cell_type": "code",
      "execution_count": 10,
      "metadata": {
        "id": "aGB3OSoJ1f3t",
        "colab": {
          "base_uri": "https://localhost:8080/"
        },
        "outputId": "97ba0fe3-84e7-4511-c960-80b4e14b703b"
      },
      "outputs": [
        {
          "output_type": "stream",
          "name": "stdout",
          "text": [
            "[((0., 0.), (0., 0., 0.)) ((0., 0.), (0., 0., 0.))\n",
            " ((0., 0.), (0., 0., 0.)) ((0., 0.), (0., 0., 0.))\n",
            " ((0., 0.), (0., 0., 0.)) ((0., 0.), (0., 0., 0.))\n",
            " ((0., 0.), (0., 0., 0.)) ((0., 0.), (0., 0., 0.))\n",
            " ((0., 0.), (0., 0., 0.)) ((0., 0.), (0., 0., 0.))]\n"
          ]
        },
        {
          "output_type": "stream",
          "name": "stderr",
          "text": [
            "/usr/local/lib/python3.7/dist-packages/ipykernel_launcher.py:5: FutureWarning: Passing (type, 1) or '1type' as a synonym of type is deprecated; in a future version of numpy, it will be understood as (type, (1,)) / '(1,)type'.\n",
            "  \"\"\"\n"
          ]
        }
      ],
      "source": [
        "Z = np.zeros(10, [ ('position', [ ('x', float, 1),\n",
        "                                  ('y', float, 1)]),\n",
        "                   ('color',    [ ('r', float, 1),\n",
        "                                  ('g', float, 1),\n",
        "                                  ('b', float, 1)])])\n",
        "print(Z)"
      ]
    },
    {
      "cell_type": "markdown",
      "metadata": {
        "id": "OJL-16w61f3u"
      },
      "source": [
        "#### 52. Consider a random vector with shape (100,2) representing coordinates, find point by point distances (★★☆) \n",
        "(**hint**: np.atleast\\_2d, T, np.sqrt)"
      ]
    },
    {
      "cell_type": "code",
      "execution_count": 11,
      "metadata": {
        "id": "wKSEm--z1f3x",
        "colab": {
          "base_uri": "https://localhost:8080/"
        },
        "outputId": "7ec0e16b-b9ab-4521-ee73-dc81b0e9598c"
      },
      "outputs": [
        {
          "output_type": "stream",
          "name": "stdout",
          "text": [
            "[[0.         0.21622777 0.44523567 0.42484101 0.61776928 0.26623314\n",
            "  0.36405172 0.64787269 0.38109421 0.53975907]\n",
            " [0.21622777 0.         0.29145251 0.20863067 0.7930797  0.47019652\n",
            "  0.2292039  0.80286638 0.18176475 0.7086618 ]\n",
            " [0.44523567 0.29145251 0.         0.24982413 0.84921389 0.70994883\n",
            "  0.46981125 0.82170772 0.14685728 0.76185477]\n",
            " [0.42484101 0.20863067 0.24982413 0.         0.97628289 0.67490958\n",
            "  0.25616876 0.97281209 0.11257629 0.88957853]\n",
            " [0.61776928 0.7930797  0.84921389 0.97628289 0.         0.57094776\n",
            "  0.9809624  0.10573658 0.88636637 0.08774951]\n",
            " [0.26623314 0.47019652 0.70994883 0.67490958 0.57094776 0.\n",
            "  0.54145846 0.64068099 0.6445891  0.51997745]\n",
            " [0.36405172 0.2292039  0.46981125 0.25616876 0.9809624  0.54145846\n",
            "  0.         1.0048267  0.32526054 0.9011605 ]\n",
            " [0.64787269 0.80286638 0.82170772 0.97281209 0.10573658 0.64068099\n",
            "  1.0048267  0.         0.87577845 0.12070369]\n",
            " [0.38109421 0.18176475 0.14685728 0.11257629 0.88636637 0.6445891\n",
            "  0.32526054 0.87577845 0.         0.79888758]\n",
            " [0.53975907 0.7086618  0.76185477 0.88957853 0.08774951 0.51997745\n",
            "  0.9011605  0.12070369 0.79888758 0.        ]]\n",
            "[[0.         0.63051149 0.75222456 0.65125432 0.68069849 0.90890894\n",
            "  0.03236462 0.77783346 0.34470934 0.46624899]\n",
            " [0.63051149 0.         0.75199528 0.44521154 0.76230302 0.90312956\n",
            "  0.64628871 0.2272998  0.92194971 0.36599618]\n",
            " [0.75222456 0.75199528 0.         0.31472868 0.10157605 0.16671119\n",
            "  0.78454382 0.65912981 0.74150947 0.41989701]\n",
            " [0.65125432 0.44521154 0.31472868 0.         0.35001557 0.45849013\n",
            "  0.68147182 0.34895328 0.78563458 0.19241407]\n",
            " [0.68069849 0.76230302 0.10157605 0.35001557 0.         0.22959012\n",
            "  0.71269303 0.69872084 0.64433677 0.40786818]\n",
            " [0.90890894 0.90312956 0.16671119 0.45849013 0.22959012 0.\n",
            "  0.94103757 0.78681418 0.86067818 0.58408542]\n",
            " [0.03236462 0.64628871 0.78454382 0.68147182 0.71269303 0.94103757\n",
            "  0.         0.79989094 0.35284555 0.49530599]\n",
            " [0.77783346 0.2272998  0.65912981 0.34895328 0.69872084 0.78681418\n",
            "  0.79989094 0.         1.0190858  0.38060122]\n",
            " [0.34470934 0.92194971 0.74150947 0.78563458 0.64433677 0.86067818\n",
            "  0.35284555 1.0190858  0.         0.64770532]\n",
            " [0.46624899 0.36599618 0.41989701 0.19241407 0.40786818 0.58408542\n",
            "  0.49530599 0.38060122 0.64770532 0.        ]]\n"
          ]
        }
      ],
      "source": [
        "Z = np.random.random((10,2))\n",
        "X,Y = np.atleast_2d(Z[:,0], Z[:,1])\n",
        "D = np.sqrt( (X-X.T)**2 + (Y-Y.T)**2)\n",
        "print(D)\n",
        "\n",
        "import scipy\n",
        "import scipy.spatial\n",
        "Z = np.random.random((10,2))\n",
        "D = scipy.spatial.distance.cdist(Z,Z)\n",
        "print(D)"
      ]
    },
    {
      "cell_type": "markdown",
      "metadata": {
        "id": "BirfOWRI1f3x"
      },
      "source": [
        "#### 53. How to convert a float (32 bits) array into an integer (32 bits) in place? \n",
        "(**hint**: astype(copy=False))"
      ]
    },
    {
      "cell_type": "code",
      "execution_count": 12,
      "metadata": {
        "id": "kEy__2pe1f3y",
        "colab": {
          "base_uri": "https://localhost:8080/"
        },
        "outputId": "32b43bc1-9661-4daa-f3fc-37fb69a690ec"
      },
      "outputs": [
        {
          "output_type": "stream",
          "name": "stdout",
          "text": [
            "[0 1 2 3 4 5 6 7 8 9]\n"
          ]
        }
      ],
      "source": [
        "Z = np.arange(10, dtype=np.float32)\n",
        "Z = Z.astype(np.int32, copy=False)\n",
        "print(Z)"
      ]
    },
    {
      "cell_type": "markdown",
      "metadata": {
        "id": "UWTGxt5V1f3z"
      },
      "source": [
        "#### 54. How to read the following file? (★★☆) \n",
        "(**hint**: np.genfromtxt)"
      ]
    },
    {
      "cell_type": "markdown",
      "metadata": {
        "id": "OREf70p81f31"
      },
      "source": [
        "```\n",
        "1, 2, 3, 4, 5\n",
        "6,  ,  , 7, 8\n",
        " ,  , 9,10,11\n",
        "```"
      ]
    },
    {
      "cell_type": "code",
      "execution_count": 13,
      "metadata": {
        "id": "R4vHbV691f35",
        "colab": {
          "base_uri": "https://localhost:8080/"
        },
        "outputId": "acc098e2-680c-4692-c041-75877385e687"
      },
      "outputs": [
        {
          "output_type": "stream",
          "name": "stdout",
          "text": [
            "[[ 1  2  3  4  5]\n",
            " [ 6 -1 -1  7  8]\n",
            " [-1 -1  9 10 11]]\n"
          ]
        },
        {
          "output_type": "stream",
          "name": "stderr",
          "text": [
            "/usr/local/lib/python3.7/dist-packages/ipykernel_launcher.py:5: DeprecationWarning: `np.int` is a deprecated alias for the builtin `int`. To silence this warning, use `int` by itself. Doing this will not modify any behavior and is safe. When replacing `np.int`, you may wish to use e.g. `np.int64` or `np.int32` to specify the precision. If you wish to review your current use, check the release note link for additional information.\n",
            "Deprecated in NumPy 1.20; for more details and guidance: https://numpy.org/devdocs/release/1.20.0-notes.html#deprecations\n",
            "  \"\"\"\n"
          ]
        }
      ],
      "source": [
        "from io import StringIO\n",
        "s = StringIO(\"\"\"1, 2, 3, 4, 5\\n\n",
        "                6,  ,  , 7, 8\\n\n",
        "                 ,  , 9,10,11\\n\"\"\")\n",
        "Z = np.genfromtxt(s, delimiter=\",\", dtype=np.int)\n",
        "print(Z)"
      ]
    },
    {
      "cell_type": "markdown",
      "metadata": {
        "id": "vocFwo591f36"
      },
      "source": [
        "#### 55. What is the equivalent of enumerate for numpy arrays? (★★☆) \n",
        "(**hint**: np.ndenumerate, np.ndindex)"
      ]
    },
    {
      "cell_type": "code",
      "execution_count": 14,
      "metadata": {
        "id": "Gwn6-JCK1f36",
        "colab": {
          "base_uri": "https://localhost:8080/"
        },
        "outputId": "6c72a207-c4ae-4306-a28b-b3e9b62b6206"
      },
      "outputs": [
        {
          "output_type": "stream",
          "name": "stdout",
          "text": [
            "(0, 0) 0\n",
            "(0, 1) 1\n",
            "(0, 2) 2\n",
            "(1, 0) 3\n",
            "(1, 1) 4\n",
            "(1, 2) 5\n",
            "(2, 0) 6\n",
            "(2, 1) 7\n",
            "(2, 2) 8\n",
            "(0, 0) 0\n",
            "(0, 1) 1\n",
            "(0, 2) 2\n",
            "(1, 0) 3\n",
            "(1, 1) 4\n",
            "(1, 2) 5\n",
            "(2, 0) 6\n",
            "(2, 1) 7\n",
            "(2, 2) 8\n"
          ]
        }
      ],
      "source": [
        "Z = np.arange(9).reshape(3,3)\n",
        "for index, value in np.ndenumerate(Z):\n",
        "    print(index, value)\n",
        "for index in np.ndindex(Z.shape):\n",
        "    print(index, Z[index])"
      ]
    },
    {
      "cell_type": "markdown",
      "metadata": {
        "id": "nWARRnkC1f37"
      },
      "source": [
        "#### 56. Generate a generic 2D Gaussian-like array (★★☆) \n",
        "(**hint**: np.meshgrid, np.exp)"
      ]
    },
    {
      "cell_type": "code",
      "execution_count": 15,
      "metadata": {
        "id": "lmfhugcQ1f38",
        "colab": {
          "base_uri": "https://localhost:8080/"
        },
        "outputId": "619cb2d3-5168-4ee7-a51a-064125cce2ad"
      },
      "outputs": [
        {
          "output_type": "stream",
          "name": "stdout",
          "text": [
            "[[0.36787944 0.44822088 0.51979489 0.57375342 0.60279818 0.60279818\n",
            "  0.57375342 0.51979489 0.44822088 0.36787944]\n",
            " [0.44822088 0.54610814 0.63331324 0.69905581 0.73444367 0.73444367\n",
            "  0.69905581 0.63331324 0.54610814 0.44822088]\n",
            " [0.51979489 0.63331324 0.73444367 0.81068432 0.85172308 0.85172308\n",
            "  0.81068432 0.73444367 0.63331324 0.51979489]\n",
            " [0.57375342 0.69905581 0.81068432 0.89483932 0.9401382  0.9401382\n",
            "  0.89483932 0.81068432 0.69905581 0.57375342]\n",
            " [0.60279818 0.73444367 0.85172308 0.9401382  0.98773022 0.98773022\n",
            "  0.9401382  0.85172308 0.73444367 0.60279818]\n",
            " [0.60279818 0.73444367 0.85172308 0.9401382  0.98773022 0.98773022\n",
            "  0.9401382  0.85172308 0.73444367 0.60279818]\n",
            " [0.57375342 0.69905581 0.81068432 0.89483932 0.9401382  0.9401382\n",
            "  0.89483932 0.81068432 0.69905581 0.57375342]\n",
            " [0.51979489 0.63331324 0.73444367 0.81068432 0.85172308 0.85172308\n",
            "  0.81068432 0.73444367 0.63331324 0.51979489]\n",
            " [0.44822088 0.54610814 0.63331324 0.69905581 0.73444367 0.73444367\n",
            "  0.69905581 0.63331324 0.54610814 0.44822088]\n",
            " [0.36787944 0.44822088 0.51979489 0.57375342 0.60279818 0.60279818\n",
            "  0.57375342 0.51979489 0.44822088 0.36787944]]\n"
          ]
        }
      ],
      "source": [
        "X, Y = np.meshgrid(np.linspace(-1,1,10), np.linspace(-1,1,10))\n",
        "D = np.sqrt(X*X+Y*Y)\n",
        "sigma, mu = 1.0, 0.0\n",
        "G = np.exp(-( (D-mu)**2 / ( 2.0 * sigma**2 ) ) )\n",
        "print(G)"
      ]
    },
    {
      "cell_type": "markdown",
      "metadata": {
        "id": "dZ4UhgKx1f39"
      },
      "source": [
        "#### 57. How to randomly place p elements in a 2D array? (★★☆) \n",
        "(**hint**: np.put, np.random.choice)"
      ]
    },
    {
      "cell_type": "code",
      "execution_count": 16,
      "metadata": {
        "id": "rRkOGScN1f39",
        "colab": {
          "base_uri": "https://localhost:8080/"
        },
        "outputId": "fc6c2766-6a76-49ac-d508-0e8058a57283"
      },
      "outputs": [
        {
          "output_type": "stream",
          "name": "stdout",
          "text": [
            "[[0. 0. 0. 0. 0. 0. 0. 1. 0. 0.]\n",
            " [0. 0. 0. 0. 0. 0. 0. 1. 0. 0.]\n",
            " [0. 0. 0. 0. 0. 0. 0. 0. 0. 0.]\n",
            " [0. 0. 0. 0. 0. 0. 0. 0. 0. 0.]\n",
            " [0. 0. 0. 1. 0. 0. 0. 0. 0. 0.]\n",
            " [0. 0. 0. 0. 0. 0. 0. 0. 0. 0.]\n",
            " [0. 0. 0. 0. 0. 0. 0. 0. 0. 0.]\n",
            " [0. 0. 0. 0. 0. 0. 0. 0. 0. 0.]\n",
            " [0. 0. 0. 0. 0. 0. 0. 0. 0. 0.]\n",
            " [0. 0. 0. 0. 0. 0. 0. 0. 0. 0.]]\n"
          ]
        }
      ],
      "source": [
        "n = 10\n",
        "p = 3\n",
        "Z = np.zeros((n,n))\n",
        "np.put(Z, np.random.choice(range(n*n), p, replace=False),1)\n",
        "print(Z)"
      ]
    },
    {
      "cell_type": "markdown",
      "metadata": {
        "id": "NsdbInfg1f3-"
      },
      "source": [
        "#### 58. Subtract the mean of each row of a matrix (★★☆) \n",
        "(**hint**: mean(axis=,keepdims=))"
      ]
    },
    {
      "cell_type": "code",
      "execution_count": 18,
      "metadata": {
        "id": "ZSE5yIeN1f4A",
        "colab": {
          "base_uri": "https://localhost:8080/"
        },
        "outputId": "f5704434-54ad-4803-820a-a6961ec0ca64"
      },
      "outputs": [
        {
          "output_type": "stream",
          "name": "stdout",
          "text": [
            "[[-0.10890652 -0.13979066  0.03971078 -0.40362909 -0.19512475  0.37864794\n",
            "  -0.09292622 -0.34619233  0.53251413  0.33569672]\n",
            " [ 0.35721371  0.13080496  0.02922178  0.12669098  0.06111666  0.01308919\n",
            "  -0.22100292  0.10747619 -0.1855566  -0.41905395]\n",
            " [ 0.3574887  -0.22137083  0.39527112 -0.07453129 -0.24975869 -0.29784397\n",
            "  -0.31739452 -0.01516253  0.02131965  0.40198236]\n",
            " [ 0.21775956 -0.09949251  0.36086527 -0.32293538  0.21668158  0.12860894\n",
            "  -0.54087776 -0.31794193  0.20809895  0.14923327]\n",
            " [-0.52233015  0.00518511  0.24582184 -0.06507192  0.16525501  0.18236572\n",
            "   0.23348586  0.22258414 -0.00130179 -0.46599382]]\n"
          ]
        }
      ],
      "source": [
        "X = np.random.rand(5, 10)\n",
        "Y = X - X.mean(axis=1, keepdims=True)\n",
        "Y = X - X.mean(axis=1).reshape(-1, 1)\n",
        "\n",
        "print(Y)"
      ]
    },
    {
      "cell_type": "markdown",
      "metadata": {
        "id": "DCDiYzAb1f4B"
      },
      "source": [
        "#### 59. How to sort an array by the nth column? (★★☆) \n",
        "(**hint**: argsort)"
      ]
    },
    {
      "cell_type": "code",
      "execution_count": 19,
      "metadata": {
        "id": "vPCI1dv61f4B",
        "colab": {
          "base_uri": "https://localhost:8080/"
        },
        "outputId": "39c037e5-2994-4bf4-efde-a2a058f1ab89"
      },
      "outputs": [
        {
          "output_type": "stream",
          "name": "stdout",
          "text": [
            "[[8 5 0]\n",
            " [7 0 0]\n",
            " [4 6 1]]\n",
            "[[7 0 0]\n",
            " [8 5 0]\n",
            " [4 6 1]]\n"
          ]
        }
      ],
      "source": [
        "Z = np.random.randint(0,10,(3,3))\n",
        "print(Z)\n",
        "print(Z[Z[:,1].argsort()])"
      ]
    },
    {
      "cell_type": "markdown",
      "metadata": {
        "id": "TcK7_iUC1f4C"
      },
      "source": [
        "#### 60. How to tell if a given 2D array has null columns? (★★☆) \n",
        "(**hint**: any, ~)"
      ]
    },
    {
      "cell_type": "code",
      "execution_count": 20,
      "metadata": {
        "id": "PHfvWYMp1f4C",
        "colab": {
          "base_uri": "https://localhost:8080/"
        },
        "outputId": "5e9f4998-5601-46a1-81a3-10593337dd08"
      },
      "outputs": [
        {
          "output_type": "stream",
          "name": "stdout",
          "text": [
            "False\n"
          ]
        }
      ],
      "source": [
        "Z = np.random.randint(0,3,(3,10))\n",
        "print((~Z.any(axis=0)).any())"
      ]
    },
    {
      "cell_type": "markdown",
      "metadata": {
        "id": "D0H0Vzp-1f4C"
      },
      "source": [
        "#### 61. Find the nearest value from a given value in an array (★★☆) \n",
        "(**hint**: np.abs, argmin, flat)"
      ]
    },
    {
      "cell_type": "code",
      "execution_count": 22,
      "metadata": {
        "id": "y1NXFPoT1f4D",
        "colab": {
          "base_uri": "https://localhost:8080/"
        },
        "outputId": "83b0cbba-27f0-4aa0-87ab-acfd76722b01"
      },
      "outputs": [
        {
          "output_type": "stream",
          "name": "stdout",
          "text": [
            "0.4767584381172336\n"
          ]
        }
      ],
      "source": [
        "Z = np.random.uniform(0,1,10)\n",
        "z = 0.5\n",
        "m = Z.flat[np.abs(Z - z).argmin()]\n",
        "print(m)"
      ]
    },
    {
      "cell_type": "markdown",
      "metadata": {
        "id": "Ynp0EEpY1f4E"
      },
      "source": [
        "#### 62. Considering two arrays with shape (1,3) and (3,1), how to compute their sum using an iterator? (★★☆) \n",
        "(**hint**: np.nditer)"
      ]
    },
    {
      "cell_type": "code",
      "execution_count": 21,
      "metadata": {
        "id": "LieZ-mRp1f4E",
        "colab": {
          "base_uri": "https://localhost:8080/"
        },
        "outputId": "222931e2-6f10-48e8-8b06-294b70563274"
      },
      "outputs": [
        {
          "output_type": "stream",
          "name": "stdout",
          "text": [
            "[[0 1 2]\n",
            " [1 2 3]\n",
            " [2 3 4]]\n"
          ]
        }
      ],
      "source": [
        "A = np.arange(3).reshape(3,1)\n",
        "B = np.arange(3).reshape(1,3)\n",
        "it = np.nditer([A,B,None])\n",
        "for x,y,z in it: z[...] = x + y\n",
        "print(it.operands[2])"
      ]
    },
    {
      "cell_type": "markdown",
      "metadata": {
        "id": "Ox1MGcMz1f4I"
      },
      "source": [
        "#### 63. Create an array class that has a name attribute (★★☆) \n",
        "(**hint**: class method)"
      ]
    },
    {
      "cell_type": "code",
      "execution_count": 23,
      "metadata": {
        "id": "pvMKyr6S1f4K",
        "colab": {
          "base_uri": "https://localhost:8080/"
        },
        "outputId": "7d53a78a-ff74-4428-f1c8-0a411e82aac1"
      },
      "outputs": [
        {
          "output_type": "stream",
          "name": "stdout",
          "text": [
            "range_10\n"
          ]
        }
      ],
      "source": [
        "class NamedArray(np.ndarray):\n",
        "    def __new__(cls, array, name=\"no name\"):\n",
        "        obj = np.asarray(array).view(cls)\n",
        "        obj.name = name\n",
        "        return obj\n",
        "    def __array_finalize__(self, obj):\n",
        "        if obj is None: return\n",
        "        self.info = getattr(obj, 'name', \"no name\")\n",
        "\n",
        "Z = NamedArray(np.arange(10), \"range_10\")\n",
        "print (Z.name)"
      ]
    },
    {
      "cell_type": "markdown",
      "metadata": {
        "id": "Cr0ftMap1f4K"
      },
      "source": [
        "#### 64. Consider a given vector, how to add 1 to each element indexed by a second vector (be careful with repeated indices)? (★★★) \n",
        "(**hint**: np.bincount | np.add.at)"
      ]
    },
    {
      "cell_type": "code",
      "execution_count": 25,
      "metadata": {
        "id": "10ckvCQI1f4L",
        "colab": {
          "base_uri": "https://localhost:8080/"
        },
        "outputId": "4574986c-928b-4b22-c856-1675553ddd4d"
      },
      "outputs": [
        {
          "output_type": "stream",
          "name": "stdout",
          "text": [
            "[1. 4. 3. 6. 3. 2. 2. 4. 3. 2.]\n"
          ]
        }
      ],
      "source": [
        "Z = np.ones(10)\n",
        "I = np.random.randint(0,len(Z),20)\n",
        "Z += np.bincount(I, minlength=len(Z))\n",
        "print(Z)"
      ]
    },
    {
      "cell_type": "markdown",
      "metadata": {
        "id": "TLGNuV0A1f4M"
      },
      "source": [
        "#### 65. How to accumulate elements of a vector (X) to an array (F) based on an index list (I)? (★★★) \n",
        "(**hint**: np.bincount)"
      ]
    },
    {
      "cell_type": "code",
      "execution_count": 26,
      "metadata": {
        "id": "V6Wp0k3I1f4M",
        "colab": {
          "base_uri": "https://localhost:8080/"
        },
        "outputId": "6086ce1b-50b7-4f3c-992b-67667bb7203a"
      },
      "outputs": [
        {
          "output_type": "stream",
          "name": "stdout",
          "text": [
            "[0. 7. 0. 6. 5. 0. 0. 0. 0. 3.]\n"
          ]
        }
      ],
      "source": [
        "X = [1,2,3,4,5,6]\n",
        "I = [1,3,9,3,4,1]\n",
        "F = np.bincount(I,X)\n",
        "print(F)"
      ]
    },
    {
      "cell_type": "markdown",
      "metadata": {
        "id": "V-63NSY41f4N"
      },
      "source": [
        "#### 66. Considering a (w,h,3) image of (dtype=ubyte), compute the number of unique colors (★★★) \n",
        "(**hint**: np.unique)"
      ]
    },
    {
      "cell_type": "code",
      "execution_count": 27,
      "metadata": {
        "id": "oHcf8rlp1f4Q",
        "colab": {
          "base_uri": "https://localhost:8080/"
        },
        "outputId": "75d1a6d4-774a-4af6-b392-a5d7ecca9763"
      },
      "outputs": [
        {
          "output_type": "stream",
          "name": "stdout",
          "text": [
            "8\n"
          ]
        }
      ],
      "source": [
        "w,h = 16,16\n",
        "I = np.random.randint(0,2,(h,w,3)).astype(np.ubyte)\n",
        "F = I[...,0]*(256*256) + I[...,1]*256 +I[...,2]\n",
        "n = len(np.unique(F))\n",
        "print(n)"
      ]
    },
    {
      "cell_type": "markdown",
      "metadata": {
        "id": "wRIaImli1f4R"
      },
      "source": [
        "#### 67. Considering a four dimensions array, how to get sum over the last two axis at once? (★★★) \n",
        "(**hint**: sum(axis=(-2,-1)))"
      ]
    },
    {
      "cell_type": "code",
      "execution_count": 28,
      "metadata": {
        "id": "KXp91NwC1f4S",
        "colab": {
          "base_uri": "https://localhost:8080/"
        },
        "outputId": "809c53a4-b787-405e-afd3-6f2e43caffbd"
      },
      "outputs": [
        {
          "output_type": "stream",
          "name": "stdout",
          "text": [
            "[[62 43 50 54]\n",
            " [64 47 49 51]\n",
            " [60 62 76 53]]\n",
            "[[62 43 50 54]\n",
            " [64 47 49 51]\n",
            " [60 62 76 53]]\n"
          ]
        }
      ],
      "source": [
        "A = np.random.randint(0,10,(3,4,3,4))\n",
        "sum = A.sum(axis=(-2,-1))\n",
        "print(sum)\n",
        "sum = A.reshape(A.shape[:-2] + (-1,)).sum(axis=-1)\n",
        "print(sum)"
      ]
    },
    {
      "cell_type": "markdown",
      "metadata": {
        "id": "7SAiiNAI1f4T"
      },
      "source": [
        "#### 68. Considering a one-dimensional vector D, how to compute means of subsets of D using a vector S of same size describing subset  indices? (★★★) \n",
        "(**hint**: np.bincount)"
      ]
    },
    {
      "cell_type": "code",
      "execution_count": 29,
      "metadata": {
        "id": "4zW_x2TH1f4U",
        "colab": {
          "base_uri": "https://localhost:8080/"
        },
        "outputId": "421c95f4-dd4c-4d7d-8f29-071bf812ac13"
      },
      "outputs": [
        {
          "output_type": "stream",
          "name": "stdout",
          "text": [
            "[0.48970193 0.6369475  0.45676603 0.35250101 0.57152155 0.51665704\n",
            " 0.58181362 0.43124007 0.61018316 0.53770863]\n"
          ]
        }
      ],
      "source": [
        "D = np.random.uniform(0,1,100)\n",
        "S = np.random.randint(0,10,100)\n",
        "D_sums = np.bincount(S, weights=D)\n",
        "D_counts = np.bincount(S)\n",
        "D_means = D_sums / D_counts\n",
        "print(D_means)"
      ]
    },
    {
      "cell_type": "markdown",
      "metadata": {
        "id": "H4WvpQIB1f4U"
      },
      "source": [
        "#### 69. How to get the diagonal of a dot product? (★★★) \n",
        "(**hint**: np.diag)"
      ]
    },
    {
      "cell_type": "code",
      "execution_count": 30,
      "metadata": {
        "id": "0z2qg2ZM1f4V"
      },
      "outputs": [],
      "source": [
        "A = np.random.uniform(0,1,(5,5))\n",
        "B = np.random.uniform(0,1,(5,5))"
      ]
    },
    {
      "cell_type": "markdown",
      "metadata": {
        "id": "98Rr8YTW1f4b"
      },
      "source": [
        "#### 70. Consider the vector \\[1, 2, 3, 4, 5\\], how to build a new vector with 3 consecutive zeros interleaved between each value? (★★★) \n",
        "(**hint**: array\\[::4\\])"
      ]
    },
    {
      "cell_type": "code",
      "execution_count": 31,
      "metadata": {
        "id": "2qtgjXa31f4d",
        "colab": {
          "base_uri": "https://localhost:8080/"
        },
        "outputId": "669688a5-6ddf-4877-b565-85c9877aa1f8"
      },
      "outputs": [
        {
          "output_type": "stream",
          "name": "stdout",
          "text": [
            "[1. 0. 0. 0. 2. 0. 0. 0. 3. 0. 0. 0. 4. 0. 0. 0. 5.]\n"
          ]
        }
      ],
      "source": [
        "Z = np.array([1,2,3,4,5])\n",
        "nz = 3\n",
        "Z0 = np.zeros(len(Z) + (len(Z)-1)*(nz))\n",
        "Z0[::nz+1] = Z\n",
        "print(Z0)"
      ]
    },
    {
      "cell_type": "markdown",
      "metadata": {
        "id": "0_NMtxli1f4d"
      },
      "source": [
        "#### 71. Consider an array of dimension (5,5,3), how to mulitply it by an array with dimensions (5,5)? (★★★) \n",
        "(**hint**: array\\[:, :, None\\])"
      ]
    },
    {
      "cell_type": "code",
      "execution_count": 32,
      "metadata": {
        "collapsed": true,
        "id": "QdOIvrft1f4h",
        "colab": {
          "base_uri": "https://localhost:8080/"
        },
        "outputId": "afb6a152-169f-4fe2-ffe3-f774d2eaf2ee"
      },
      "outputs": [
        {
          "output_type": "stream",
          "name": "stdout",
          "text": [
            "[[[2. 2. 2.]\n",
            "  [2. 2. 2.]\n",
            "  [2. 2. 2.]\n",
            "  [2. 2. 2.]\n",
            "  [2. 2. 2.]]\n",
            "\n",
            " [[2. 2. 2.]\n",
            "  [2. 2. 2.]\n",
            "  [2. 2. 2.]\n",
            "  [2. 2. 2.]\n",
            "  [2. 2. 2.]]\n",
            "\n",
            " [[2. 2. 2.]\n",
            "  [2. 2. 2.]\n",
            "  [2. 2. 2.]\n",
            "  [2. 2. 2.]\n",
            "  [2. 2. 2.]]\n",
            "\n",
            " [[2. 2. 2.]\n",
            "  [2. 2. 2.]\n",
            "  [2. 2. 2.]\n",
            "  [2. 2. 2.]\n",
            "  [2. 2. 2.]]\n",
            "\n",
            " [[2. 2. 2.]\n",
            "  [2. 2. 2.]\n",
            "  [2. 2. 2.]\n",
            "  [2. 2. 2.]\n",
            "  [2. 2. 2.]]]\n"
          ]
        }
      ],
      "source": [
        "A = np.ones((5,5,3))\n",
        "B = 2*np.ones((5,5))\n",
        "print(A * B[:,:,None])"
      ]
    },
    {
      "cell_type": "markdown",
      "metadata": {
        "id": "4xuQSRfd1f4l"
      },
      "source": [
        "#### 72. How to swap two rows of an array? (★★★) \n",
        "(**hint**: array\\[\\[\\]\\] = array\\[\\[\\]\\])"
      ]
    },
    {
      "cell_type": "code",
      "execution_count": 33,
      "metadata": {
        "id": "cVocQg_11f4s",
        "colab": {
          "base_uri": "https://localhost:8080/"
        },
        "outputId": "f529b869-d1df-4629-e394-1777b68cb9e7"
      },
      "outputs": [
        {
          "output_type": "stream",
          "name": "stdout",
          "text": [
            "[[ 5  6  7  8  9]\n",
            " [ 0  1  2  3  4]\n",
            " [10 11 12 13 14]\n",
            " [15 16 17 18 19]\n",
            " [20 21 22 23 24]]\n"
          ]
        }
      ],
      "source": [
        "A = np.arange(25).reshape(5,5)\n",
        "A[[0,1]] = A[[1,0]]\n",
        "print(A)"
      ]
    },
    {
      "cell_type": "markdown",
      "metadata": {
        "id": "nAb3dkq31f4t"
      },
      "source": [
        "#### 73. Consider a set of 10 triplets describing 10 triangles (with shared vertices), find the set of unique line segments composing all the  triangles (★★★) \n",
        "(**hint**: repeat, np.roll, np.sort, view, np.unique)"
      ]
    },
    {
      "cell_type": "code",
      "execution_count": 34,
      "metadata": {
        "id": "kfdSVvbS1f4t",
        "colab": {
          "base_uri": "https://localhost:8080/"
        },
        "outputId": "29baf1b5-8c41-40c8-bb53-517465ba0412"
      },
      "outputs": [
        {
          "output_type": "stream",
          "name": "stdout",
          "text": [
            "[( 7, 39) ( 7, 46) ( 9, 42) ( 9, 78) (12, 56) (12, 85) (19, 28) (19, 43)\n",
            " (20, 44) (20, 47) (25, 34) (25, 65) (27, 43) (27, 87) (28, 43) (32, 54)\n",
            " (32, 56) (33, 68) (33, 93) (34, 65) (39, 46) (39, 60) (39, 89) (42, 78)\n",
            " (43, 87) (44, 47) (54, 56) (56, 85) (60, 89) (68, 93)]\n"
          ]
        }
      ],
      "source": [
        "faces = np.random.randint(0,100,(10,3))\n",
        "F = np.roll(faces.repeat(2,axis=1),-1,axis=1)\n",
        "F = F.reshape(len(F)*3,2)\n",
        "F = np.sort(F,axis=1)\n",
        "G = F.view( dtype=[('p0',F.dtype),('p1',F.dtype)] )\n",
        "G = np.unique(G)\n",
        "print(G)"
      ]
    },
    {
      "cell_type": "markdown",
      "metadata": {
        "id": "cw98xWBz1f4x"
      },
      "source": [
        "#### 74. Given an array C that is a bincount, how to produce an array A such that np.bincount(A) == C? (★★★) \n",
        "(**hint**: np.repeat)"
      ]
    },
    {
      "cell_type": "code",
      "execution_count": 35,
      "metadata": {
        "id": "XRCubfAS1f5A",
        "colab": {
          "base_uri": "https://localhost:8080/"
        },
        "outputId": "da8abc88-db85-4e5c-b74c-4324fdf37e8c"
      },
      "outputs": [
        {
          "output_type": "stream",
          "name": "stdout",
          "text": [
            "[1 1 2 3 4 4 6]\n"
          ]
        }
      ],
      "source": [
        "C = np.bincount([1,1,2,3,4,4,6])\n",
        "A = np.repeat(np.arange(len(C)), C)\n",
        "print(A)"
      ]
    },
    {
      "cell_type": "markdown",
      "metadata": {
        "id": "9f9MoRZq1f5A"
      },
      "source": [
        "#### 75. How to compute averages using a sliding window over an array? (★★★) \n",
        "(**hint**: np.cumsum)"
      ]
    },
    {
      "cell_type": "code",
      "execution_count": 36,
      "metadata": {
        "id": "x4ApWsiv1f5B",
        "colab": {
          "base_uri": "https://localhost:8080/"
        },
        "outputId": "1af2e920-a38a-469b-f07f-392dd8b79302"
      },
      "outputs": [
        {
          "output_type": "stream",
          "name": "stdout",
          "text": [
            "[ 1.  2.  3.  4.  5.  6.  7.  8.  9. 10. 11. 12. 13. 14. 15. 16. 17. 18.]\n"
          ]
        }
      ],
      "source": [
        "def moving_average(a, n=3) :\n",
        "    ret = np.cumsum(a, dtype=float)\n",
        "    ret[n:] = ret[n:] - ret[:-n]\n",
        "    return ret[n - 1:] / n\n",
        "Z = np.arange(20)\n",
        "print(moving_average(Z, n=3))"
      ]
    },
    {
      "cell_type": "markdown",
      "metadata": {
        "id": "5B94IAml1f5C"
      },
      "source": [
        "#### 76. Consider a one-dimensional array Z, build a two-dimensional array whose first row is (Z\\[0\\],Z\\[1\\],Z\\[2\\]) and each subsequent row is  shifted by 1 (last row should be (Z\\[-3\\],Z\\[-2\\],Z\\[-1\\]) (★★★) \n",
        "(**hint**: from numpy.lib import stride_tricks)"
      ]
    },
    {
      "cell_type": "code",
      "execution_count": 37,
      "metadata": {
        "id": "bysE74-Q1f5D",
        "colab": {
          "base_uri": "https://localhost:8080/"
        },
        "outputId": "a0a2ad75-d71b-4d70-e2ae-caf4318646b7"
      },
      "outputs": [
        {
          "output_type": "stream",
          "name": "stdout",
          "text": [
            "[[0 1 2]\n",
            " [1 2 3]\n",
            " [2 3 4]\n",
            " [3 4 5]\n",
            " [4 5 6]\n",
            " [5 6 7]\n",
            " [6 7 8]\n",
            " [7 8 9]]\n"
          ]
        }
      ],
      "source": [
        "from numpy.lib import stride_tricks\n",
        "\n",
        "def rolling(a, window):\n",
        "    shape = (a.size - window + 1, window)\n",
        "    strides = (a.itemsize, a.itemsize)\n",
        "    return stride_tricks.as_strided(a, shape=shape, strides=strides)\n",
        "Z = rolling(np.arange(10), 3)\n",
        "print(Z)"
      ]
    },
    {
      "cell_type": "markdown",
      "metadata": {
        "id": "mVXOU_Ih1f5F"
      },
      "source": [
        "#### 77. How to negate a boolean, or to change the sign of a float inplace? (★★★) \n",
        "(**hint**: np.logical_not, np.negative)"
      ]
    },
    {
      "cell_type": "code",
      "execution_count": 38,
      "metadata": {
        "id": "3xkdnfcW1f5G",
        "colab": {
          "base_uri": "https://localhost:8080/"
        },
        "outputId": "2691edca-99fa-4456-fae5-7a14c0708eeb"
      },
      "outputs": [
        {
          "output_type": "execute_result",
          "data": {
            "text/plain": [
              "array([ 1.38914981e-01, -8.25155393e-04, -8.72999798e-01,  2.71242411e-02,\n",
              "       -3.45926790e-02, -4.25474307e-01,  9.43162896e-01,  4.20966240e-01,\n",
              "       -7.93364697e-01, -5.01983764e-01, -2.26061845e-01,  3.77281178e-01,\n",
              "        2.78999443e-01,  3.53897651e-01, -4.08770689e-01, -6.24664112e-01,\n",
              "       -2.55871334e-01,  4.93799937e-01,  1.24795528e-01,  8.38736295e-01,\n",
              "        9.74122563e-01, -9.23144594e-01, -2.74164973e-01,  1.18746588e-01,\n",
              "        9.19598215e-01, -9.06110870e-01,  4.60253356e-01,  3.32896852e-02,\n",
              "        8.17164353e-01, -2.08158756e-01, -6.48597885e-01,  6.73150884e-01,\n",
              "       -8.98560974e-01, -4.63585839e-01,  7.95304411e-01,  5.38263797e-02,\n",
              "       -4.71757740e-01, -6.44816419e-01,  5.95373367e-01,  4.82848034e-02,\n",
              "        4.52091247e-02,  8.30396552e-01,  4.09984662e-01,  5.74105315e-01,\n",
              "        6.85135939e-01,  4.71344414e-02,  8.86717828e-01,  3.19002125e-01,\n",
              "       -2.11963115e-01, -4.19965689e-01,  8.48797937e-01,  6.61919534e-01,\n",
              "        6.73130654e-01, -6.80884234e-01, -2.98992802e-01, -9.43514153e-01,\n",
              "       -6.79779515e-01,  1.72023991e-01,  7.36736136e-01,  7.71044998e-01,\n",
              "       -1.19693618e-01,  5.01438111e-01,  4.71934953e-01, -7.35997244e-01,\n",
              "        1.09630432e-01,  7.03334466e-01,  6.55567385e-01,  8.46195917e-01,\n",
              "       -6.67985303e-01,  7.06180268e-02, -9.26324013e-01, -8.48364841e-01,\n",
              "       -1.19789208e-01,  3.53143168e-01,  7.57962447e-01,  9.10152142e-01,\n",
              "        6.50974647e-01, -8.13616523e-01, -5.66180826e-02, -1.60990936e-01,\n",
              "       -6.32975470e-01,  1.07063709e-01, -6.37209848e-01,  7.03791057e-01,\n",
              "        7.18494257e-02, -9.15937800e-01, -6.17120349e-01, -5.87873969e-01,\n",
              "        9.23688564e-01,  3.84136237e-01,  7.00285129e-02,  6.65272528e-01,\n",
              "       -5.83386832e-01, -5.88032345e-01, -6.32368400e-01, -1.70991216e-01,\n",
              "       -2.38194569e-01, -8.62696021e-02,  7.61636609e-01,  5.47724168e-01])"
            ]
          },
          "metadata": {},
          "execution_count": 38
        }
      ],
      "source": [
        "Z = np.random.randint(0,2,100)\n",
        "np.logical_not(Z, out=Z)\n",
        "\n",
        "Z = np.random.uniform(-1.0,1.0,100)\n",
        "np.negative(Z, out=Z)"
      ]
    },
    {
      "cell_type": "markdown",
      "metadata": {
        "id": "lS-shqih1f5J"
      },
      "source": [
        "#### 78. Consider 2 sets of points P0,P1 describing lines (2d) and a point p, how to compute distance from p to each line i  (P0\\[i\\],P1\\[i\\])? (★★★)"
      ]
    },
    {
      "cell_type": "code",
      "execution_count": 39,
      "metadata": {
        "id": "zzMCm-4R1f5M",
        "colab": {
          "base_uri": "https://localhost:8080/"
        },
        "outputId": "494942be-607f-4712-c833-34f9e253c8f1"
      },
      "outputs": [
        {
          "output_type": "stream",
          "name": "stdout",
          "text": [
            "[ 4.37719283 14.45981857 18.42990313 14.52091995  0.06377156 11.01888677\n",
            "  9.64897751  9.38698482  5.39730616 11.21502268]\n"
          ]
        }
      ],
      "source": [
        "def distance(P0, P1, p):\n",
        "    T = P1 - P0\n",
        "    L = (T**2).sum(axis=1)\n",
        "    U = -((P0[:,0]-p[...,0])*T[:,0] + (P0[:,1]-p[...,1])*T[:,1]) / L\n",
        "    U = U.reshape(len(U),1)\n",
        "    D = P0 + U*T - p\n",
        "    return np.sqrt((D**2).sum(axis=1))\n",
        "\n",
        "P0 = np.random.uniform(-10,10,(10,2))\n",
        "P1 = np.random.uniform(-10,10,(10,2))\n",
        "p  = np.random.uniform(-10,10,( 1,2))\n",
        "print(distance(P0, P1, p))"
      ]
    },
    {
      "cell_type": "markdown",
      "metadata": {
        "id": "5HoZ7u_Q1f5M"
      },
      "source": [
        "#### 79. Consider 2 sets of points P0,P1 describing lines (2d) and a set of points P, how to compute distance from each point j (P\\[j\\]) to each line i (P0\\[i\\],P1\\[i\\])? (★★★)"
      ]
    },
    {
      "cell_type": "code",
      "execution_count": 40,
      "metadata": {
        "id": "7vi0NVst1f5N",
        "colab": {
          "base_uri": "https://localhost:8080/"
        },
        "outputId": "db035fa2-c34e-4c2f-ca5e-2e43adfb4938"
      },
      "outputs": [
        {
          "output_type": "stream",
          "name": "stdout",
          "text": [
            "[[ 2.08374018  5.24645345  2.47766957  7.34306338 11.35002611  7.18751913\n",
            "  13.79769159  4.69894024  0.38974432  0.70001718]\n",
            " [ 9.07392808  3.94545511 11.57572301 12.88502956  2.9453671   3.43846\n",
            "   4.93241512 11.8396036   5.51941662  0.1937873 ]\n",
            " [ 1.5769571   5.45011294  2.17891986 13.82275426  5.11548411  2.17424031\n",
            "  14.323956   11.13901764  6.84945053  5.99141365]\n",
            " [11.53270621  9.79089814 17.47677282  8.57547253  5.21882764  3.96825125\n",
            "   1.09667081  8.5516857   0.98221866  6.39310371]\n",
            " [ 8.45527926  6.62220704 14.32131711  7.96410314  6.85279732  1.33792486\n",
            "   2.02432072  7.38837879  0.50724823  5.17967512]\n",
            " [15.61974138 11.03350623 18.6425744  13.68139609  0.15417744  8.86815517\n",
            "   2.07747267 13.87096291  6.01319132  2.97734274]\n",
            " [ 4.8820131   4.8506538   2.70817146 18.53873586  0.33266095  1.98044433\n",
            "  13.96334026 15.95649498 11.51933863  9.44085487]\n",
            " [ 7.00196963  2.95861714  4.58528303 19.38092988  1.10699877  3.93033156\n",
            "  12.12362196 17.12794989 12.27798395  9.09789653]\n",
            " [ 0.90139671  4.28038659  3.4336317   7.9418699  10.45080137  6.05773625\n",
            "  12.86677035  5.46575897  0.94514677  0.65988612]\n",
            " [ 3.63495516  7.99748728  0.28973657  8.70552248 10.92748924  7.96609325\n",
            "  16.60189438  5.58100923  1.86227398  3.26758569]]\n"
          ]
        }
      ],
      "source": [
        "P0 = np.random.uniform(-10, 10, (10,2))\n",
        "P1 = np.random.uniform(-10,10,(10,2))\n",
        "p = np.random.uniform(-10, 10, (10,2))\n",
        "print(np.array([distance(P0,P1,p_i) for p_i in p]))"
      ]
    },
    {
      "cell_type": "markdown",
      "metadata": {
        "id": "GvWvMSEu1f5R"
      },
      "source": [
        "#### 80. Consider an arbitrary array, write a function that extract a subpart with a fixed shape and centered on a given element (pad with a `fill` value when necessary) (★★★) \n",
        "(**hint**: minimum, maximum)"
      ]
    },
    {
      "cell_type": "code",
      "execution_count": 41,
      "metadata": {
        "id": "UtMEzq6F1f5S",
        "colab": {
          "base_uri": "https://localhost:8080/"
        },
        "outputId": "399a02d6-b649-4dbe-a111-34bff1778dee"
      },
      "outputs": [
        {
          "output_type": "stream",
          "name": "stdout",
          "text": [
            "[[9 8 1 3 8 2 6 0 2 9]\n",
            " [2 5 8 9 5 9 5 8 4 9]\n",
            " [2 3 4 9 6 2 3 1 5 6]\n",
            " [9 2 7 6 5 2 9 0 7 5]\n",
            " [4 6 0 9 8 7 3 6 4 5]\n",
            " [8 2 5 7 7 8 5 2 9 8]\n",
            " [3 9 4 4 3 5 9 5 6 2]\n",
            " [3 1 6 3 9 4 5 2 2 9]\n",
            " [2 3 2 4 9 5 1 1 0 4]\n",
            " [2 9 1 6 8 7 0 3 4 2]]\n",
            "[[0 0 0 0 0]\n",
            " [0 9 8 1 3]\n",
            " [0 2 5 8 9]\n",
            " [0 2 3 4 9]\n",
            " [0 9 2 7 6]]\n"
          ]
        },
        {
          "output_type": "stream",
          "name": "stderr",
          "text": [
            "/usr/local/lib/python3.7/dist-packages/ipykernel_launcher.py:23: FutureWarning: Using a non-tuple sequence for multidimensional indexing is deprecated; use `arr[tuple(seq)]` instead of `arr[seq]`. In the future this will be interpreted as an array index, `arr[np.array(seq)]`, which will result either in an error or a different result.\n"
          ]
        }
      ],
      "source": [
        "Z = np.random.randint(0,10,(10,10))\n",
        "shape = (5,5)\n",
        "fill  = 0\n",
        "position = (1,1)\n",
        "\n",
        "R = np.ones(shape, dtype=Z.dtype)*fill\n",
        "P  = np.array(list(position)).astype(int)\n",
        "Rs = np.array(list(R.shape)).astype(int)\n",
        "Zs = np.array(list(Z.shape)).astype(int)\n",
        "\n",
        "R_start = np.zeros((len(shape),)).astype(int)\n",
        "R_stop  = np.array(list(shape)).astype(int)\n",
        "Z_start = (P-Rs//2)\n",
        "Z_stop  = (P+Rs//2)+Rs%2\n",
        "\n",
        "R_start = (R_start - np.minimum(Z_start,0)).tolist()\n",
        "Z_start = (np.maximum(Z_start,0)).tolist()\n",
        "R_stop = np.maximum(R_start, (R_stop - np.maximum(Z_stop-Zs,0))).tolist()\n",
        "Z_stop = (np.minimum(Z_stop,Zs)).tolist()\n",
        "\n",
        "r = [slice(start,stop) for start,stop in zip(R_start,R_stop)]\n",
        "z = [slice(start,stop) for start,stop in zip(Z_start,Z_stop)]\n",
        "R[r] = Z[z]\n",
        "print(Z)\n",
        "print(R)"
      ]
    },
    {
      "cell_type": "markdown",
      "metadata": {
        "id": "U3q_C-Ll1f5S"
      },
      "source": [
        "#### 81. Consider an array Z = \\[1,2,3,4,5,6,7,8,9,10,11,12,13,14\\], how to generate an array R = \\[\\[1,2,3,4\\], \\[2,3,4,5\\], \\[3,4,5,6\\], ..., \\[11,12,13,14\\]\\]? (★★★) \n",
        "(**hint**: stride\\_tricks.as\\_strided)"
      ]
    },
    {
      "cell_type": "code",
      "execution_count": 42,
      "metadata": {
        "id": "uBKFWz0a1f5T",
        "colab": {
          "base_uri": "https://localhost:8080/"
        },
        "outputId": "1dd30561-3d6d-49c2-ca4a-18f744101755"
      },
      "outputs": [
        {
          "output_type": "stream",
          "name": "stdout",
          "text": [
            "[[ 1  2  3  4]\n",
            " [ 2  3  4  5]\n",
            " [ 3  4  5  6]\n",
            " [ 4  5  6  7]\n",
            " [ 5  6  7  8]\n",
            " [ 6  7  8  9]\n",
            " [ 7  8  9 10]\n",
            " [ 8  9 10 11]\n",
            " [ 9 10 11 12]\n",
            " [10 11 12 13]\n",
            " [11 12 13 14]]\n"
          ]
        }
      ],
      "source": [
        "Z = np.arange(1,15,dtype=np.uint32)\n",
        "R = stride_tricks.as_strided(Z,(11,4),(4,4))\n",
        "print(R)"
      ]
    },
    {
      "cell_type": "markdown",
      "metadata": {
        "id": "X8nNdoYK1f5V"
      },
      "source": [
        "#### 82. Compute a matrix rank (★★★) \n",
        "(**hint**: np.linalg.svd) (suggestion: np.linalg.svd)"
      ]
    },
    {
      "cell_type": "code",
      "execution_count": 43,
      "metadata": {
        "id": "IGyDZGUY1f5W",
        "colab": {
          "base_uri": "https://localhost:8080/"
        },
        "outputId": "4cac130e-af22-452c-b914-29640db26cc7"
      },
      "outputs": [
        {
          "output_type": "stream",
          "name": "stdout",
          "text": [
            "10\n"
          ]
        }
      ],
      "source": [
        "Z = np.random.uniform(0,1,(10,10))\n",
        "U, S, V = np.linalg.svd(Z) \n",
        "rank = np.sum(S > 1e-10)\n",
        "print(rank)"
      ]
    },
    {
      "cell_type": "markdown",
      "metadata": {
        "id": "1SqVWmh21f5X"
      },
      "source": [
        "#### 83. How to find the most frequent value in an array? \n",
        "(**hint**: np.bincount, argmax)"
      ]
    },
    {
      "cell_type": "code",
      "execution_count": 44,
      "metadata": {
        "id": "RwEvz2BK1f5Z",
        "colab": {
          "base_uri": "https://localhost:8080/"
        },
        "outputId": "b9728565-4217-47ca-b3ad-2c47fc5ab9b3"
      },
      "outputs": [
        {
          "output_type": "stream",
          "name": "stdout",
          "text": [
            "1\n"
          ]
        }
      ],
      "source": [
        "Z = np.random.randint(0,10,50)\n",
        "print(np.bincount(Z).argmax())"
      ]
    },
    {
      "cell_type": "markdown",
      "metadata": {
        "id": "m0QnHNYd1f5a"
      },
      "source": [
        "#### 84. Extract all the contiguous 3x3 blocks from a random 10x10 matrix (★★★) \n",
        "(**hint**: stride\\_tricks.as\\_strided)"
      ]
    },
    {
      "cell_type": "code",
      "execution_count": 45,
      "metadata": {
        "id": "y6VdJqHP1f5c",
        "colab": {
          "base_uri": "https://localhost:8080/"
        },
        "outputId": "9518fb01-f4af-466d-8291-7cb429aa26f4"
      },
      "outputs": [
        {
          "output_type": "stream",
          "name": "stdout",
          "text": [
            "[[[[2 2 1]\n",
            "   [4 2 3]\n",
            "   [0 2 0]]\n",
            "\n",
            "  [[2 1 4]\n",
            "   [2 3 4]\n",
            "   [2 0 3]]\n",
            "\n",
            "  [[1 4 0]\n",
            "   [3 4 4]\n",
            "   [0 3 1]]\n",
            "\n",
            "  [[4 0 2]\n",
            "   [4 4 2]\n",
            "   [3 1 2]]\n",
            "\n",
            "  [[0 2 3]\n",
            "   [4 2 2]\n",
            "   [1 2 4]]\n",
            "\n",
            "  [[2 3 2]\n",
            "   [2 2 3]\n",
            "   [2 4 0]]\n",
            "\n",
            "  [[3 2 1]\n",
            "   [2 3 2]\n",
            "   [4 0 2]]\n",
            "\n",
            "  [[2 1 3]\n",
            "   [3 2 0]\n",
            "   [0 2 0]]]\n",
            "\n",
            "\n",
            " [[[4 2 3]\n",
            "   [0 2 0]\n",
            "   [0 0 2]]\n",
            "\n",
            "  [[2 3 4]\n",
            "   [2 0 3]\n",
            "   [0 2 0]]\n",
            "\n",
            "  [[3 4 4]\n",
            "   [0 3 1]\n",
            "   [2 0 3]]\n",
            "\n",
            "  [[4 4 2]\n",
            "   [3 1 2]\n",
            "   [0 3 1]]\n",
            "\n",
            "  [[4 2 2]\n",
            "   [1 2 4]\n",
            "   [3 1 3]]\n",
            "\n",
            "  [[2 2 3]\n",
            "   [2 4 0]\n",
            "   [1 3 3]]\n",
            "\n",
            "  [[2 3 2]\n",
            "   [4 0 2]\n",
            "   [3 3 3]]\n",
            "\n",
            "  [[3 2 0]\n",
            "   [0 2 0]\n",
            "   [3 3 1]]]\n",
            "\n",
            "\n",
            " [[[0 2 0]\n",
            "   [0 0 2]\n",
            "   [4 1 0]]\n",
            "\n",
            "  [[2 0 3]\n",
            "   [0 2 0]\n",
            "   [1 0 4]]\n",
            "\n",
            "  [[0 3 1]\n",
            "   [2 0 3]\n",
            "   [0 4 0]]\n",
            "\n",
            "  [[3 1 2]\n",
            "   [0 3 1]\n",
            "   [4 0 2]]\n",
            "\n",
            "  [[1 2 4]\n",
            "   [3 1 3]\n",
            "   [0 2 0]]\n",
            "\n",
            "  [[2 4 0]\n",
            "   [1 3 3]\n",
            "   [2 0 1]]\n",
            "\n",
            "  [[4 0 2]\n",
            "   [3 3 3]\n",
            "   [0 1 4]]\n",
            "\n",
            "  [[0 2 0]\n",
            "   [3 3 1]\n",
            "   [1 4 2]]]\n",
            "\n",
            "\n",
            " [[[0 0 2]\n",
            "   [4 1 0]\n",
            "   [0 0 1]]\n",
            "\n",
            "  [[0 2 0]\n",
            "   [1 0 4]\n",
            "   [0 1 0]]\n",
            "\n",
            "  [[2 0 3]\n",
            "   [0 4 0]\n",
            "   [1 0 4]]\n",
            "\n",
            "  [[0 3 1]\n",
            "   [4 0 2]\n",
            "   [0 4 3]]\n",
            "\n",
            "  [[3 1 3]\n",
            "   [0 2 0]\n",
            "   [4 3 4]]\n",
            "\n",
            "  [[1 3 3]\n",
            "   [2 0 1]\n",
            "   [3 4 3]]\n",
            "\n",
            "  [[3 3 3]\n",
            "   [0 1 4]\n",
            "   [4 3 2]]\n",
            "\n",
            "  [[3 3 1]\n",
            "   [1 4 2]\n",
            "   [3 2 0]]]\n",
            "\n",
            "\n",
            " [[[4 1 0]\n",
            "   [0 0 1]\n",
            "   [3 3 3]]\n",
            "\n",
            "  [[1 0 4]\n",
            "   [0 1 0]\n",
            "   [3 3 1]]\n",
            "\n",
            "  [[0 4 0]\n",
            "   [1 0 4]\n",
            "   [3 1 4]]\n",
            "\n",
            "  [[4 0 2]\n",
            "   [0 4 3]\n",
            "   [1 4 4]]\n",
            "\n",
            "  [[0 2 0]\n",
            "   [4 3 4]\n",
            "   [4 4 2]]\n",
            "\n",
            "  [[2 0 1]\n",
            "   [3 4 3]\n",
            "   [4 2 0]]\n",
            "\n",
            "  [[0 1 4]\n",
            "   [4 3 2]\n",
            "   [2 0 0]]\n",
            "\n",
            "  [[1 4 2]\n",
            "   [3 2 0]\n",
            "   [0 0 1]]]\n",
            "\n",
            "\n",
            " [[[0 0 1]\n",
            "   [3 3 3]\n",
            "   [0 1 2]]\n",
            "\n",
            "  [[0 1 0]\n",
            "   [3 3 1]\n",
            "   [1 2 1]]\n",
            "\n",
            "  [[1 0 4]\n",
            "   [3 1 4]\n",
            "   [2 1 2]]\n",
            "\n",
            "  [[0 4 3]\n",
            "   [1 4 4]\n",
            "   [1 2 3]]\n",
            "\n",
            "  [[4 3 4]\n",
            "   [4 4 2]\n",
            "   [2 3 1]]\n",
            "\n",
            "  [[3 4 3]\n",
            "   [4 2 0]\n",
            "   [3 1 2]]\n",
            "\n",
            "  [[4 3 2]\n",
            "   [2 0 0]\n",
            "   [1 2 2]]\n",
            "\n",
            "  [[3 2 0]\n",
            "   [0 0 1]\n",
            "   [2 2 0]]]\n",
            "\n",
            "\n",
            " [[[3 3 3]\n",
            "   [0 1 2]\n",
            "   [2 4 1]]\n",
            "\n",
            "  [[3 3 1]\n",
            "   [1 2 1]\n",
            "   [4 1 3]]\n",
            "\n",
            "  [[3 1 4]\n",
            "   [2 1 2]\n",
            "   [1 3 2]]\n",
            "\n",
            "  [[1 4 4]\n",
            "   [1 2 3]\n",
            "   [3 2 4]]\n",
            "\n",
            "  [[4 4 2]\n",
            "   [2 3 1]\n",
            "   [2 4 3]]\n",
            "\n",
            "  [[4 2 0]\n",
            "   [3 1 2]\n",
            "   [4 3 4]]\n",
            "\n",
            "  [[2 0 0]\n",
            "   [1 2 2]\n",
            "   [3 4 1]]\n",
            "\n",
            "  [[0 0 1]\n",
            "   [2 2 0]\n",
            "   [4 1 2]]]\n",
            "\n",
            "\n",
            " [[[0 1 2]\n",
            "   [2 4 1]\n",
            "   [0 0 0]]\n",
            "\n",
            "  [[1 2 1]\n",
            "   [4 1 3]\n",
            "   [0 0 3]]\n",
            "\n",
            "  [[2 1 2]\n",
            "   [1 3 2]\n",
            "   [0 3 4]]\n",
            "\n",
            "  [[1 2 3]\n",
            "   [3 2 4]\n",
            "   [3 4 0]]\n",
            "\n",
            "  [[2 3 1]\n",
            "   [2 4 3]\n",
            "   [4 0 2]]\n",
            "\n",
            "  [[3 1 2]\n",
            "   [4 3 4]\n",
            "   [0 2 3]]\n",
            "\n",
            "  [[1 2 2]\n",
            "   [3 4 1]\n",
            "   [2 3 2]]\n",
            "\n",
            "  [[2 2 0]\n",
            "   [4 1 2]\n",
            "   [3 2 4]]]]\n"
          ]
        }
      ],
      "source": [
        "Z = np.random.randint(0,5,(10,10))\n",
        "n = 3\n",
        "i = 1 + (Z.shape[0]-3)\n",
        "j = 1 + (Z.shape[1]-3)\n",
        "C = stride_tricks.as_strided(Z, shape=(i, j, n, n), strides=Z.strides + Z.strides)\n",
        "print(C)"
      ]
    },
    {
      "cell_type": "markdown",
      "metadata": {
        "id": "h_o_li8w1f5c"
      },
      "source": [
        "#### 85. Create a 2D array subclass such that Z\\[i,j\\] == Z\\[j,i\\] (★★★) \n",
        "(**hint**: class method)"
      ]
    },
    {
      "cell_type": "code",
      "execution_count": 46,
      "metadata": {
        "id": "0_I5y3uq1f5d",
        "colab": {
          "base_uri": "https://localhost:8080/"
        },
        "outputId": "a5925ede-c84b-4fc5-86a7-94cfae7db67e"
      },
      "outputs": [
        {
          "output_type": "stream",
          "name": "stdout",
          "text": [
            "[[ 7  8  6 12 17]\n",
            " [ 8  0  6  6  9]\n",
            " [ 6  6  0 42  7]\n",
            " [12  6 42  6 12]\n",
            " [17  9  7 12  6]]\n"
          ]
        }
      ],
      "source": [
        "class Symetric(np.ndarray):\n",
        "    def __setitem__(self, index, value):\n",
        "        i,j = index\n",
        "        super(Symetric, self).__setitem__((i,j), value)\n",
        "        super(Symetric, self).__setitem__((j,i), value)\n",
        "\n",
        "def symetric(Z):\n",
        "    return np.asarray(Z + Z.T - np.diag(Z.diagonal())).view(Symetric)\n",
        "\n",
        "S = symetric(np.random.randint(0,10,(5,5)))\n",
        "S[2,3] = 42\n",
        "print(S)"
      ]
    },
    {
      "cell_type": "markdown",
      "metadata": {
        "id": "LRKfQM2j1f5d"
      },
      "source": [
        "#### 86. Consider a set of p matrices wich shape (n,n) and a set of p vectors with shape (n,1). How to compute the sum of of the p matrix products at once? (result has shape (n,1)) (★★★) \n",
        "(**hint**: np.tensordot)"
      ]
    },
    {
      "cell_type": "code",
      "execution_count": 47,
      "metadata": {
        "id": "NryGbRg_1f5d",
        "colab": {
          "base_uri": "https://localhost:8080/"
        },
        "outputId": "a499fb2a-3100-448f-9aee-6206b87cf410"
      },
      "outputs": [
        {
          "output_type": "stream",
          "name": "stdout",
          "text": [
            "[[200.]\n",
            " [200.]\n",
            " [200.]\n",
            " [200.]\n",
            " [200.]\n",
            " [200.]\n",
            " [200.]\n",
            " [200.]\n",
            " [200.]\n",
            " [200.]\n",
            " [200.]\n",
            " [200.]\n",
            " [200.]\n",
            " [200.]\n",
            " [200.]\n",
            " [200.]\n",
            " [200.]\n",
            " [200.]\n",
            " [200.]\n",
            " [200.]]\n"
          ]
        }
      ],
      "source": [
        "\n",
        "p, n = 10, 20\n",
        "M = np.ones((p,n,n))\n",
        "V = np.ones((p,n,1))\n",
        "S = np.tensordot(M, V, axes=[[0, 2], [0, 1]])\n",
        "print(S)"
      ]
    },
    {
      "cell_type": "markdown",
      "metadata": {
        "id": "fvsIkKLC1f5e"
      },
      "source": [
        "#### 87. Consider a 16x16 array, how to get the block-sum (block size is 4x4)? (★★★) \n",
        "(**hint**: np.add.reduceat)"
      ]
    },
    {
      "cell_type": "code",
      "execution_count": 48,
      "metadata": {
        "id": "XBtD5VIO1f5e",
        "colab": {
          "base_uri": "https://localhost:8080/"
        },
        "outputId": "855a4f44-e20e-48c9-fb9e-11ed8dc8a0c7"
      },
      "outputs": [
        {
          "output_type": "stream",
          "name": "stdout",
          "text": [
            "[[16. 16. 16. 16.]\n",
            " [16. 16. 16. 16.]\n",
            " [16. 16. 16. 16.]\n",
            " [16. 16. 16. 16.]]\n"
          ]
        }
      ],
      "source": [
        "Z = np.ones((16,16))\n",
        "k = 4\n",
        "S = np.add.reduceat(np.add.reduceat(Z, np.arange(0, Z.shape[0], k), axis=0),\n",
        "                                       np.arange(0, Z.shape[1], k), axis=1)\n",
        "print(S)"
      ]
    },
    {
      "cell_type": "markdown",
      "metadata": {
        "id": "uUqKXRsR1f5e"
      },
      "source": [
        "#### 88. How to implement the Game of Life using numpy arrays? (★★★)"
      ]
    },
    {
      "cell_type": "code",
      "execution_count": 49,
      "metadata": {
        "id": "sELa2jZj1f5f",
        "colab": {
          "base_uri": "https://localhost:8080/"
        },
        "outputId": "4b3e5bd6-73ca-412f-8226-3579ff9e9184"
      },
      "outputs": [
        {
          "output_type": "stream",
          "name": "stdout",
          "text": [
            "[[0 0 0 ... 0 0 0]\n",
            " [0 0 0 ... 0 0 0]\n",
            " [0 0 0 ... 0 0 0]\n",
            " ...\n",
            " [0 1 1 ... 0 0 0]\n",
            " [0 0 0 ... 0 0 0]\n",
            " [0 0 0 ... 0 0 0]]\n"
          ]
        }
      ],
      "source": [
        "def iterate(Z):\n",
        "    N = (Z[0:-2,0:-2] + Z[0:-2,1:-1] + Z[0:-2,2:] +\n",
        "         Z[1:-1,0:-2]                + Z[1:-1,2:] +\n",
        "         Z[2:  ,0:-2] + Z[2:  ,1:-1] + Z[2:  ,2:])\n",
        "\n",
        "    birth = (N==3) & (Z[1:-1,1:-1]==0)\n",
        "    survive = ((N==2) | (N==3)) & (Z[1:-1,1:-1]==1)\n",
        "    Z[...] = 0\n",
        "    Z[1:-1,1:-1][birth | survive] = 1\n",
        "    return Z\n",
        "\n",
        "Z = np.random.randint(0,2,(50,50))\n",
        "for i in range(100): Z = iterate(Z)\n",
        "print(Z)"
      ]
    },
    {
      "cell_type": "markdown",
      "metadata": {
        "id": "ruNt3UPs1f5f"
      },
      "source": [
        "#### 89. How to get the n largest values of an array (★★★) \n",
        "(**hint**: np.argsort | np.argpartition)"
      ]
    },
    {
      "cell_type": "code",
      "execution_count": 52,
      "metadata": {
        "id": "uxn7l-ZR1f5f",
        "colab": {
          "base_uri": "https://localhost:8080/"
        },
        "outputId": "9ac71fe2-0fac-4fc3-84c9-f9f9f5d511a3"
      },
      "outputs": [
        {
          "output_type": "stream",
          "name": "stdout",
          "text": [
            "[9997 9998 9999 9996 9995]\n"
          ]
        }
      ],
      "source": [
        "Z = np.arange(10000)\n",
        "np.random.shuffle(Z)\n",
        "n = 5\n",
        "print (Z[np.argpartition(-Z,n)[:n]])"
      ]
    },
    {
      "cell_type": "markdown",
      "metadata": {
        "id": "9QkAhAUv1f5g"
      },
      "source": [
        "#### 90. Given an arbitrary number of vectors, build the cartesian product (every combinations of every item) (★★★) \n",
        "(**hint**: np.indices)"
      ]
    },
    {
      "cell_type": "code",
      "execution_count": 53,
      "metadata": {
        "scrolled": true,
        "id": "njE0x7OC1f5g",
        "colab": {
          "base_uri": "https://localhost:8080/"
        },
        "outputId": "da9300b1-6250-44a8-b833-e1b20347d735"
      },
      "outputs": [
        {
          "output_type": "stream",
          "name": "stdout",
          "text": [
            "[[1 4 6]\n",
            " [1 4 7]\n",
            " [1 5 6]\n",
            " [1 5 7]\n",
            " [2 4 6]\n",
            " [2 4 7]\n",
            " [2 5 6]\n",
            " [2 5 7]\n",
            " [3 4 6]\n",
            " [3 4 7]\n",
            " [3 5 6]\n",
            " [3 5 7]]\n"
          ]
        }
      ],
      "source": [
        "def cartesian(arrays):\n",
        "    arrays = [np.asarray(a) for a in arrays]\n",
        "    shape = (len(x) for x in arrays)\n",
        "\n",
        "    ix = np.indices(shape, dtype=int)\n",
        "    ix = ix.reshape(len(arrays), -1).T\n",
        "\n",
        "    for n, arr in enumerate(arrays):\n",
        "        ix[:, n] = arrays[n][ix[:, n]]\n",
        "\n",
        "    return ix\n",
        "\n",
        "print (cartesian(([1, 2, 3], [4, 5], [6, 7])))"
      ]
    },
    {
      "cell_type": "markdown",
      "metadata": {
        "id": "og5iqWD11f5g"
      },
      "source": [
        "#### 91. How to create a record array from a regular array? (★★★) \n",
        "(**hint**: np.core.records.fromarrays)"
      ]
    },
    {
      "cell_type": "code",
      "execution_count": 54,
      "metadata": {
        "id": "IE4ZNLMj1f5h",
        "colab": {
          "base_uri": "https://localhost:8080/"
        },
        "outputId": "f727d940-0322-4dc2-80e3-003090fcd225"
      },
      "outputs": [
        {
          "output_type": "stream",
          "name": "stdout",
          "text": [
            "[(b'Hello', 2.5, 3) (b'World', 3.6, 2)]\n"
          ]
        }
      ],
      "source": [
        "Z = np.array([(\"Hello\", 2.5, 3),\n",
        "              (\"World\", 3.6, 2)])\n",
        "R = np.core.records.fromarrays(Z.T, \n",
        "                               names='col1, col2, col3',\n",
        "                               formats = 'S8, f8, i8')\n",
        "print(R)"
      ]
    },
    {
      "cell_type": "markdown",
      "metadata": {
        "id": "xiSmtnGD1f5h"
      },
      "source": [
        "#### 92. Consider a large vector Z, compute Z to the power of 3 using 3 different methods (★★★) \n",
        "(**hint**: np.power, \\*, np.einsum)"
      ]
    },
    {
      "cell_type": "code",
      "execution_count": 56,
      "metadata": {
        "id": "fRFtKKLW1f5i",
        "colab": {
          "base_uri": "https://localhost:8080/"
        },
        "outputId": "c870a245-4656-44f3-839b-dc8ca13d60fb"
      },
      "outputs": [
        {
          "output_type": "stream",
          "name": "stdout",
          "text": [
            "4.3 s ± 1.28 s per loop (mean ± std. dev. of 7 runs, 1 loop each)\n",
            "136 ms ± 1.61 ms per loop (mean ± std. dev. of 7 runs, 10 loops each)\n",
            "119 ms ± 509 µs per loop (mean ± std. dev. of 7 runs, 10 loops each)\n"
          ]
        }
      ],
      "source": [
        "x = np.random.rand(int(5e7))\n",
        "\n",
        "%timeit np.power(x,3)\n",
        "%timeit x*x*x\n",
        "%timeit np.einsum('i,i,i->i',x,x,x)"
      ]
    },
    {
      "cell_type": "markdown",
      "metadata": {
        "id": "36yJUPnr1f5i"
      },
      "source": [
        "#### 93. Consider two arrays A and B of shape (8,3) and (2,2). How to find rows of A that contain elements of each row of B regardless of the order of the elements in B? (★★★) \n",
        "(**hint**: np.where)"
      ]
    },
    {
      "cell_type": "code",
      "execution_count": 57,
      "metadata": {
        "id": "NEwAu40N1f5i",
        "colab": {
          "base_uri": "https://localhost:8080/"
        },
        "outputId": "d0eb6173-36c7-4f19-edd7-9bdc8aebff99"
      },
      "outputs": [
        {
          "output_type": "stream",
          "name": "stdout",
          "text": [
            "[1 2 7]\n"
          ]
        }
      ],
      "source": [
        "A = np.random.randint(0,5,(8,3))\n",
        "B = np.random.randint(0,5,(2,2))\n",
        "\n",
        "C = (A[..., np.newaxis, np.newaxis] == B)\n",
        "rows = np.where(C.any((3,1)).all(1))[0]\n",
        "print(rows)"
      ]
    },
    {
      "cell_type": "markdown",
      "metadata": {
        "id": "sk8KSu1v1f5j"
      },
      "source": [
        "#### 94. Considering a 10x3 matrix, extract rows with unequal values (e.g. \\[2,2,3\\]) (★★★)"
      ]
    },
    {
      "cell_type": "code",
      "execution_count": 58,
      "metadata": {
        "id": "xT3Keyw51f5j",
        "colab": {
          "base_uri": "https://localhost:8080/"
        },
        "outputId": "cffa1233-728e-49cf-cc8b-cb1eef40bd77"
      },
      "outputs": [
        {
          "output_type": "stream",
          "name": "stdout",
          "text": [
            "[[0 0 2]\n",
            " [2 0 3]\n",
            " [1 1 4]\n",
            " [1 0 3]\n",
            " [0 1 1]\n",
            " [2 3 1]\n",
            " [1 4 2]\n",
            " [1 0 3]\n",
            " [4 1 1]\n",
            " [0 1 3]]\n",
            "[[0 0 2]\n",
            " [2 0 3]\n",
            " [1 1 4]\n",
            " [1 0 3]\n",
            " [0 1 1]\n",
            " [2 3 1]\n",
            " [1 4 2]\n",
            " [1 0 3]\n",
            " [4 1 1]\n",
            " [0 1 3]]\n",
            "[[0 0 2]\n",
            " [2 0 3]\n",
            " [1 1 4]\n",
            " [1 0 3]\n",
            " [0 1 1]\n",
            " [2 3 1]\n",
            " [1 4 2]\n",
            " [1 0 3]\n",
            " [4 1 1]\n",
            " [0 1 3]]\n"
          ]
        }
      ],
      "source": [
        "Z = np.random.randint(0,5,(10,3))\n",
        "print(Z)\n",
        "E = np.all(Z[:,1:] == Z[:,:-1], axis=1)\n",
        "U = Z[~E]\n",
        "print(U)\n",
        "U = Z[Z.max(axis=1) != Z.min(axis=1),:]\n",
        "print(U)"
      ]
    },
    {
      "cell_type": "markdown",
      "metadata": {
        "id": "vixthi9g1f5k"
      },
      "source": [
        "#### 95. Convert a vector of ints into a matrix binary representation (★★★) \n",
        "(**hint**: np.unpackbits)"
      ]
    },
    {
      "cell_type": "code",
      "execution_count": 59,
      "metadata": {
        "id": "y6UcXqBh1f5k",
        "colab": {
          "base_uri": "https://localhost:8080/"
        },
        "outputId": "c340f056-31a2-48e6-acf4-00a67f45016e"
      },
      "outputs": [
        {
          "output_type": "stream",
          "name": "stdout",
          "text": [
            "[[0 0 0 0 0 0 0 0]\n",
            " [0 0 0 0 0 0 0 1]\n",
            " [0 0 0 0 0 0 1 0]\n",
            " [0 0 0 0 0 0 1 1]\n",
            " [0 0 0 0 1 1 1 1]\n",
            " [0 0 0 1 0 0 0 0]\n",
            " [0 0 1 0 0 0 0 0]\n",
            " [0 1 0 0 0 0 0 0]\n",
            " [1 0 0 0 0 0 0 0]]\n"
          ]
        }
      ],
      "source": [
        "I = np.array([0, 1, 2, 3, 15, 16, 32, 64, 128], dtype=np.uint8)\n",
        "print(np.unpackbits(I[:, np.newaxis], axis=1))"
      ]
    },
    {
      "cell_type": "markdown",
      "metadata": {
        "id": "d8M2LYBi1f5k"
      },
      "source": [
        "#### 96. Given a two dimensional array, how to extract unique rows? (★★★) \n",
        "(**hint**: np.ascontiguousarray)"
      ]
    },
    {
      "cell_type": "code",
      "execution_count": 60,
      "metadata": {
        "id": "nUTVbZtM1f5l",
        "colab": {
          "base_uri": "https://localhost:8080/"
        },
        "outputId": "6b82ced8-2e95-4910-b570-f72b83aaca3e"
      },
      "outputs": [
        {
          "output_type": "stream",
          "name": "stdout",
          "text": [
            "[[0 0 0]\n",
            " [0 0 1]\n",
            " [0 1 1]\n",
            " [1 0 0]]\n"
          ]
        }
      ],
      "source": [
        "Z = np.random.randint(0,2,(6,3))\n",
        "T = np.ascontiguousarray(Z).view(np.dtype((np.void, Z.dtype.itemsize * Z.shape[1])))\n",
        "_, idx = np.unique(T, return_index=True)\n",
        "uZ = Z[idx]\n",
        "print(uZ)"
      ]
    },
    {
      "cell_type": "markdown",
      "metadata": {
        "id": "VrAq9k3n1f5l"
      },
      "source": [
        "#### 97. Considering 2 vectors A & B, write the einsum equivalent of inner, outer, sum, and mul function (★★★) \n",
        "(**hint**: np.einsum)"
      ]
    },
    {
      "cell_type": "code",
      "execution_count": 61,
      "metadata": {
        "id": "FEQjsL7i1f5m",
        "colab": {
          "base_uri": "https://localhost:8080/"
        },
        "outputId": "e3e3feb5-6b5d-4a6f-981f-72b99ab668d4"
      },
      "outputs": [
        {
          "output_type": "execute_result",
          "data": {
            "text/plain": [
              "array([[0.56701323, 0.84986477, 0.36506938, 0.495696  , 0.39178758,\n",
              "        0.91425187, 0.36611803, 0.02212096, 0.24496194, 0.4812864 ],\n",
              "       [0.32615314, 0.4888529 , 0.2099925 , 0.28513057, 0.22536114,\n",
              "        0.52588918, 0.21059569, 0.01272425, 0.14090519, 0.27684199],\n",
              "       [0.29331834, 0.43963863, 0.18885193, 0.25642563, 0.20267337,\n",
              "        0.47294636, 0.1893944 , 0.01144326, 0.12671985, 0.24897149],\n",
              "       [0.44816892, 0.67173561, 0.28855191, 0.39179957, 0.30967005,\n",
              "        0.72262737, 0.28938076, 0.01748447, 0.19361864, 0.38041018],\n",
              "       [0.40890305, 0.61288216, 0.26327072, 0.35747244, 0.28253862,\n",
              "        0.65931509, 0.26402696, 0.01595259, 0.17665493, 0.34708092],\n",
              "       [0.5315057 , 0.79664449, 0.34220798, 0.4646545 , 0.36725304,\n",
              "        0.85699954, 0.34319096, 0.0207357 , 0.22962192, 0.45114726],\n",
              "       [0.35781812, 0.53631379, 0.23037988, 0.31281283, 0.24724061,\n",
              "        0.57694578, 0.23104164, 0.0139596 , 0.15458514, 0.30371954],\n",
              "       [0.49601694, 0.74345235, 0.31935867, 0.43362941, 0.34273146,\n",
              "        0.79977749, 0.32027602, 0.01935117, 0.21429001, 0.42102405],\n",
              "       [0.03339386, 0.05005221, 0.02150051, 0.02919368, 0.02307406,\n",
              "        0.05384424, 0.02156227, 0.0013028 , 0.01442687, 0.02834504],\n",
              "       [0.5046603 , 0.75640741, 0.32492367, 0.44118564, 0.34870375,\n",
              "        0.81371404, 0.32585701, 0.01968838, 0.21802413, 0.42836062]])"
            ]
          },
          "metadata": {},
          "execution_count": 61
        }
      ],
      "source": [
        "A = np.random.uniform(0,1,10)\n",
        "B = np.random.uniform(0,1,10)\n",
        "\n",
        "np.einsum('i->', A)      \n",
        "np.einsum('i,i->i', A, B) \n",
        "np.einsum('i,i', A, B)    \n",
        "np.einsum('i,j->ij', A, B)"
      ]
    },
    {
      "cell_type": "markdown",
      "metadata": {
        "id": "CGeAFUtz1f5n"
      },
      "source": [
        "#### 98. Considering a path described by two vectors (X,Y), how to sample it using equidistant samples (★★★)? \n",
        "(**hint**: np.cumsum, np.interp)"
      ]
    },
    {
      "cell_type": "code",
      "execution_count": 62,
      "metadata": {
        "collapsed": true,
        "id": "2rV69eEM1f5o"
      },
      "outputs": [],
      "source": [
        "phi = np.arange(0, 10*np.pi, 0.1)\n",
        "a = 1\n",
        "x = a*phi*np.cos(phi)\n",
        "y = a*phi*np.sin(phi)\n",
        "\n",
        "dr = (np.diff(x)**2 + np.diff(y)**2)**.5\n",
        "r = np.zeros_like(x)\n",
        "r[1:] = np.cumsum(dr)                \n",
        "r_int = np.linspace(0, r.max(), 200) \n",
        "x_int = np.interp(r_int, r, x)       \n",
        "y_int = np.interp(r_int, r, y)"
      ]
    },
    {
      "cell_type": "markdown",
      "metadata": {
        "id": "o_FJNymJ1f5q"
      },
      "source": [
        "#### 99. Given an integer n and a 2D array X, select from X the rows which can be interpreted as draws from a multinomial distribution with n degrees, i.e., the rows which only contain integers and which sum to n. (★★★) \n",
        "(**hint**: np.logical\\_and.reduce, np.mod)"
      ]
    },
    {
      "cell_type": "code",
      "execution_count": 63,
      "metadata": {
        "id": "FgyhJyyo1f5s",
        "colab": {
          "base_uri": "https://localhost:8080/"
        },
        "outputId": "6e1e65bd-d2d2-4f01-aadb-374f233ef523"
      },
      "outputs": [
        {
          "output_type": "stream",
          "name": "stdout",
          "text": [
            "[[2. 0. 1. 1.]]\n"
          ]
        }
      ],
      "source": [
        "X = np.asarray([[1.0, 0.0, 3.0, 8.0],\n",
        "                [2.0, 0.0, 1.0, 1.0],\n",
        "                [1.5, 2.5, 1.0, 0.0]])\n",
        "n = 4\n",
        "M = np.logical_and.reduce(np.mod(X, 1) == 0, axis=-1)\n",
        "M &= (X.sum(axis=-1) == n)\n",
        "print(X[M])"
      ]
    },
    {
      "cell_type": "markdown",
      "metadata": {
        "id": "PBysBYsy1f5t"
      },
      "source": [
        "#### 100. Compute bootstrapped 95% confidence intervals for the mean of a 1D array X (i.e., resample the elements of an array with replacement N times, compute the mean of each sample, and then compute percentiles over the means). (★★★) \n",
        "(**hint**: np.percentile)"
      ]
    },
    {
      "cell_type": "code",
      "execution_count": 64,
      "metadata": {
        "id": "zTj95FX01f5w",
        "colab": {
          "base_uri": "https://localhost:8080/"
        },
        "outputId": "20aaed09-138d-4171-bb61-c5eedce6dd52"
      },
      "outputs": [
        {
          "output_type": "stream",
          "name": "stdout",
          "text": [
            "[-0.14580233  0.25090952]\n"
          ]
        }
      ],
      "source": [
        "X = np.random.randn(100) \n",
        "N = 1000 \n",
        "idx = np.random.randint(0, X.size, (N, X.size))\n",
        "means = X[idx].mean(axis=1)\n",
        "confint = np.percentile(means, [2.5, 97.5])\n",
        "print(confint)"
      ]
    }
  ],
  "metadata": {
    "kernelspec": {
      "display_name": "Python 3",
      "language": "python",
      "name": "python3"
    },
    "language_info": {
      "codemirror_mode": {
        "name": "ipython",
        "version": 3
      },
      "file_extension": ".py",
      "mimetype": "text/x-python",
      "name": "python",
      "nbconvert_exporter": "python",
      "pygments_lexer": "ipython3",
      "version": "3.8.3"
    },
    "colab": {
      "provenance": [],
      "collapsed_sections": [
        "ewbLU0ZL1f1D",
        "h0t2Jbro1f1I",
        "jsjiO29E1f1N",
        "mj5OZvnf1f1S",
        "MK1gS7tw1f1U",
        "IT5b5TDg1f1W",
        "_p5vD0QN1f1X",
        "AsnL8DAB1f1Z",
        "yh0OI9D71f1d",
        "KQfDgOS61f1g",
        "qUK7EXxP1f1j",
        "0awrvULC1f1l",
        "dJxplcMW1f1n",
        "2XbiLgeD1f1p",
        "D7HWYiVi1f1q",
        "eKeB143d1f1s",
        "cWB1_cTo1f1t",
        "wVdBRe8x1f3t",
        "OJL-16w61f3u",
        "BirfOWRI1f3x",
        "UWTGxt5V1f3z",
        "vocFwo591f36",
        "nWARRnkC1f37",
        "dZ4UhgKx1f39",
        "NsdbInfg1f3-",
        "DCDiYzAb1f4B",
        "TcK7_iUC1f4C",
        "D0H0Vzp-1f4C",
        "Ynp0EEpY1f4E",
        "Ox1MGcMz1f4I",
        "Cr0ftMap1f4K",
        "TLGNuV0A1f4M",
        "V-63NSY41f4N",
        "wRIaImli1f4R",
        "7SAiiNAI1f4T",
        "H4WvpQIB1f4U",
        "98Rr8YTW1f4b",
        "0_NMtxli1f4d",
        "4xuQSRfd1f4l",
        "nAb3dkq31f4t",
        "cw98xWBz1f4x",
        "9f9MoRZq1f5A",
        "5B94IAml1f5C",
        "mVXOU_Ih1f5F",
        "lS-shqih1f5J",
        "5HoZ7u_Q1f5M",
        "GvWvMSEu1f5R",
        "U3q_C-Ll1f5S",
        "X8nNdoYK1f5V",
        "1SqVWmh21f5X",
        "m0QnHNYd1f5a",
        "h_o_li8w1f5c",
        "LRKfQM2j1f5d",
        "fvsIkKLC1f5e",
        "uUqKXRsR1f5e",
        "ruNt3UPs1f5f",
        "9QkAhAUv1f5g",
        "og5iqWD11f5g",
        "xiSmtnGD1f5h",
        "36yJUPnr1f5i",
        "sk8KSu1v1f5j",
        "vixthi9g1f5k",
        "d8M2LYBi1f5k",
        "VrAq9k3n1f5l",
        "CGeAFUtz1f5n",
        "o_FJNymJ1f5q",
        "PBysBYsy1f5t"
      ],
      "include_colab_link": true
    }
  },
  "nbformat": 4,
  "nbformat_minor": 0
}
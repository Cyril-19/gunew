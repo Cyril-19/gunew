{
  "nbformat": 4,
  "nbformat_minor": 0,
  "metadata": {
    "colab": {
      "provenance": [],
      "authorship_tag": "ABX9TyOP9azoClBNgpiaRFGnHPAQ",
      "include_colab_link": true
    },
    "kernelspec": {
      "name": "python3",
      "display_name": "Python 3"
    },
    "language_info": {
      "name": "python"
    }
  },
  "cells": [
    {
      "cell_type": "markdown",
      "metadata": {
        "id": "view-in-github",
        "colab_type": "text"
      },
      "source": [
        "<a href=\"https://colab.research.google.com/github/Cyril-19/gunew/blob/main/MNIST_dataset_classification.ipynb\" target=\"_parent\"><img src=\"https://colab.research.google.com/assets/colab-badge.svg\" alt=\"Open In Colab\"/></a>"
      ]
    },
    {
      "cell_type": "code",
      "execution_count": 41,
      "metadata": {
        "colab": {
          "base_uri": "https://localhost:8080/"
        },
        "id": "p7jhp5RGKa1a",
        "outputId": "70cc8353-6b0a-4df9-a41e-8bbef28101c9"
      },
      "outputs": [
        {
          "output_type": "stream",
          "name": "stdout",
          "text": [
            "2.9.2\n"
          ]
        }
      ],
      "source": [
        "import tensorflow as tf\n",
        "print(tf.__version__)\n",
        "import numpy as np\n",
        "import tensorflow_datasets as tfds"
      ]
    },
    {
      "cell_type": "code",
      "source": [
        "mnist,mnist_info=tfds.load(name=\"mnist\",with_info=True,as_supervised=True)"
      ],
      "metadata": {
        "id": "V5XA7BPjdvzT"
      },
      "execution_count": 42,
      "outputs": []
    },
    {
      "cell_type": "code",
      "source": [
        "mnist_info"
      ],
      "metadata": {
        "colab": {
          "base_uri": "https://localhost:8080/"
        },
        "id": "gdrOvsvyjbQ8",
        "outputId": "31dd0f60-1304-47f7-d88e-85fe8c98073f"
      },
      "execution_count": 43,
      "outputs": [
        {
          "output_type": "execute_result",
          "data": {
            "text/plain": [
              "tfds.core.DatasetInfo(\n",
              "    name='mnist',\n",
              "    full_name='mnist/3.0.1',\n",
              "    description=\"\"\"\n",
              "    The MNIST database of handwritten digits.\n",
              "    \"\"\",\n",
              "    homepage='http://yann.lecun.com/exdb/mnist/',\n",
              "    data_path='~/tensorflow_datasets/mnist/3.0.1',\n",
              "    file_format=tfrecord,\n",
              "    download_size=11.06 MiB,\n",
              "    dataset_size=21.00 MiB,\n",
              "    features=FeaturesDict({\n",
              "        'image': Image(shape=(28, 28, 1), dtype=tf.uint8),\n",
              "        'label': ClassLabel(shape=(), dtype=tf.int64, num_classes=10),\n",
              "    }),\n",
              "    supervised_keys=('image', 'label'),\n",
              "    disable_shuffling=False,\n",
              "    splits={\n",
              "        'test': <SplitInfo num_examples=10000, num_shards=1>,\n",
              "        'train': <SplitInfo num_examples=60000, num_shards=1>,\n",
              "    },\n",
              "    citation=\"\"\"@article{lecun2010mnist,\n",
              "      title={MNIST handwritten digit database},\n",
              "      author={LeCun, Yann and Cortes, Corinna and Burges, CJ},\n",
              "      journal={ATT Labs [Online]. Available: http://yann.lecun.com/exdb/mnist},\n",
              "      volume={2},\n",
              "      year={2010}\n",
              "    }\"\"\",\n",
              ")"
            ]
          },
          "metadata": {},
          "execution_count": 43
        }
      ]
    },
    {
      "cell_type": "code",
      "source": [
        "mnist_train,mnist_test=mnist['train'],mnist['test']\n",
        "validation_sample=.1*mnist_info.splits['train'].num_examples\n",
        "validation_sample=tf.cast(validation_sample,tf.int64)\n",
        "test_sample=mnist_info.splits['test'].num_examples\n",
        "test_sample=tf.cast(test_sample,tf.int64)"
      ],
      "metadata": {
        "id": "hOx2qlCuii39"
      },
      "execution_count": 44,
      "outputs": []
    },
    {
      "cell_type": "code",
      "source": [
        "def scale(image,label):\n",
        "  image=tf.cast(image,tf.float32)\n",
        "  image/=255\n",
        "  return image,label"
      ],
      "metadata": {
        "id": "cOz2L4cNmCMC"
      },
      "execution_count": 45,
      "outputs": []
    },
    {
      "cell_type": "code",
      "source": [
        "scaled_data=mnist['train'].map(scale)\n",
        "scaled_test=mnist_test.map(scale)"
      ],
      "metadata": {
        "id": "X6LG2gYRmV79"
      },
      "execution_count": 46,
      "outputs": []
    },
    {
      "cell_type": "code",
      "source": [
        "BUFFER_SIZE = 10000\n",
        "shuffled_data=scaled_data.shuffle(BUFFER_SIZE)\n",
        "validation_data=shuffled_data.take(validation_sample)\n",
        "train_data=shuffled_data.skip(validation_sample)\n",
        "test_data=scaled_test.shuffle(BUFFER_SIZE)"
      ],
      "metadata": {
        "id": "Y6QG5wO1nWSX"
      },
      "execution_count": 47,
      "outputs": []
    },
    {
      "cell_type": "code",
      "source": [
        "BATCH_SIZE=100\n",
        "train_data=train_data.batch(BATCH_SIZE)\n",
        "validation_data=validation_data.batch(BATCH_SIZE)\n",
        "test_data=test_data.batch(BATCH_SIZE)\n",
        "\n",
        "validation_inputs, validation_targets = next(iter(validation_data))"
      ],
      "metadata": {
        "id": "2HEAoQRZm2Rn"
      },
      "execution_count": 48,
      "outputs": []
    },
    {
      "cell_type": "code",
      "source": [
        "validation_inputs, validation_targets "
      ],
      "metadata": {
        "colab": {
          "base_uri": "https://localhost:8080/"
        },
        "id": "okkZ5M8_xoqr",
        "outputId": "4195a587-7632-48c3-e066-5467baad60c6"
      },
      "execution_count": 49,
      "outputs": [
        {
          "output_type": "execute_result",
          "data": {
            "text/plain": [
              "(<tf.Tensor: shape=(100, 28, 28, 1), dtype=float32, numpy=\n",
              " array([[[[0.],\n",
              "          [0.],\n",
              "          [0.],\n",
              "          ...,\n",
              "          [0.],\n",
              "          [0.],\n",
              "          [0.]],\n",
              " \n",
              "         [[0.],\n",
              "          [0.],\n",
              "          [0.],\n",
              "          ...,\n",
              "          [0.],\n",
              "          [0.],\n",
              "          [0.]],\n",
              " \n",
              "         [[0.],\n",
              "          [0.],\n",
              "          [0.],\n",
              "          ...,\n",
              "          [0.],\n",
              "          [0.],\n",
              "          [0.]],\n",
              " \n",
              "         ...,\n",
              " \n",
              "         [[0.],\n",
              "          [0.],\n",
              "          [0.],\n",
              "          ...,\n",
              "          [0.],\n",
              "          [0.],\n",
              "          [0.]],\n",
              " \n",
              "         [[0.],\n",
              "          [0.],\n",
              "          [0.],\n",
              "          ...,\n",
              "          [0.],\n",
              "          [0.],\n",
              "          [0.]],\n",
              " \n",
              "         [[0.],\n",
              "          [0.],\n",
              "          [0.],\n",
              "          ...,\n",
              "          [0.],\n",
              "          [0.],\n",
              "          [0.]]],\n",
              " \n",
              " \n",
              "        [[[0.],\n",
              "          [0.],\n",
              "          [0.],\n",
              "          ...,\n",
              "          [0.],\n",
              "          [0.],\n",
              "          [0.]],\n",
              " \n",
              "         [[0.],\n",
              "          [0.],\n",
              "          [0.],\n",
              "          ...,\n",
              "          [0.],\n",
              "          [0.],\n",
              "          [0.]],\n",
              " \n",
              "         [[0.],\n",
              "          [0.],\n",
              "          [0.],\n",
              "          ...,\n",
              "          [0.],\n",
              "          [0.],\n",
              "          [0.]],\n",
              " \n",
              "         ...,\n",
              " \n",
              "         [[0.],\n",
              "          [0.],\n",
              "          [0.],\n",
              "          ...,\n",
              "          [0.],\n",
              "          [0.],\n",
              "          [0.]],\n",
              " \n",
              "         [[0.],\n",
              "          [0.],\n",
              "          [0.],\n",
              "          ...,\n",
              "          [0.],\n",
              "          [0.],\n",
              "          [0.]],\n",
              " \n",
              "         [[0.],\n",
              "          [0.],\n",
              "          [0.],\n",
              "          ...,\n",
              "          [0.],\n",
              "          [0.],\n",
              "          [0.]]],\n",
              " \n",
              " \n",
              "        [[[0.],\n",
              "          [0.],\n",
              "          [0.],\n",
              "          ...,\n",
              "          [0.],\n",
              "          [0.],\n",
              "          [0.]],\n",
              " \n",
              "         [[0.],\n",
              "          [0.],\n",
              "          [0.],\n",
              "          ...,\n",
              "          [0.],\n",
              "          [0.],\n",
              "          [0.]],\n",
              " \n",
              "         [[0.],\n",
              "          [0.],\n",
              "          [0.],\n",
              "          ...,\n",
              "          [0.],\n",
              "          [0.],\n",
              "          [0.]],\n",
              " \n",
              "         ...,\n",
              " \n",
              "         [[0.],\n",
              "          [0.],\n",
              "          [0.],\n",
              "          ...,\n",
              "          [0.],\n",
              "          [0.],\n",
              "          [0.]],\n",
              " \n",
              "         [[0.],\n",
              "          [0.],\n",
              "          [0.],\n",
              "          ...,\n",
              "          [0.],\n",
              "          [0.],\n",
              "          [0.]],\n",
              " \n",
              "         [[0.],\n",
              "          [0.],\n",
              "          [0.],\n",
              "          ...,\n",
              "          [0.],\n",
              "          [0.],\n",
              "          [0.]]],\n",
              " \n",
              " \n",
              "        ...,\n",
              " \n",
              " \n",
              "        [[[0.],\n",
              "          [0.],\n",
              "          [0.],\n",
              "          ...,\n",
              "          [0.],\n",
              "          [0.],\n",
              "          [0.]],\n",
              " \n",
              "         [[0.],\n",
              "          [0.],\n",
              "          [0.],\n",
              "          ...,\n",
              "          [0.],\n",
              "          [0.],\n",
              "          [0.]],\n",
              " \n",
              "         [[0.],\n",
              "          [0.],\n",
              "          [0.],\n",
              "          ...,\n",
              "          [0.],\n",
              "          [0.],\n",
              "          [0.]],\n",
              " \n",
              "         ...,\n",
              " \n",
              "         [[0.],\n",
              "          [0.],\n",
              "          [0.],\n",
              "          ...,\n",
              "          [0.],\n",
              "          [0.],\n",
              "          [0.]],\n",
              " \n",
              "         [[0.],\n",
              "          [0.],\n",
              "          [0.],\n",
              "          ...,\n",
              "          [0.],\n",
              "          [0.],\n",
              "          [0.]],\n",
              " \n",
              "         [[0.],\n",
              "          [0.],\n",
              "          [0.],\n",
              "          ...,\n",
              "          [0.],\n",
              "          [0.],\n",
              "          [0.]]],\n",
              " \n",
              " \n",
              "        [[[0.],\n",
              "          [0.],\n",
              "          [0.],\n",
              "          ...,\n",
              "          [0.],\n",
              "          [0.],\n",
              "          [0.]],\n",
              " \n",
              "         [[0.],\n",
              "          [0.],\n",
              "          [0.],\n",
              "          ...,\n",
              "          [0.],\n",
              "          [0.],\n",
              "          [0.]],\n",
              " \n",
              "         [[0.],\n",
              "          [0.],\n",
              "          [0.],\n",
              "          ...,\n",
              "          [0.],\n",
              "          [0.],\n",
              "          [0.]],\n",
              " \n",
              "         ...,\n",
              " \n",
              "         [[0.],\n",
              "          [0.],\n",
              "          [0.],\n",
              "          ...,\n",
              "          [0.],\n",
              "          [0.],\n",
              "          [0.]],\n",
              " \n",
              "         [[0.],\n",
              "          [0.],\n",
              "          [0.],\n",
              "          ...,\n",
              "          [0.],\n",
              "          [0.],\n",
              "          [0.]],\n",
              " \n",
              "         [[0.],\n",
              "          [0.],\n",
              "          [0.],\n",
              "          ...,\n",
              "          [0.],\n",
              "          [0.],\n",
              "          [0.]]],\n",
              " \n",
              " \n",
              "        [[[0.],\n",
              "          [0.],\n",
              "          [0.],\n",
              "          ...,\n",
              "          [0.],\n",
              "          [0.],\n",
              "          [0.]],\n",
              " \n",
              "         [[0.],\n",
              "          [0.],\n",
              "          [0.],\n",
              "          ...,\n",
              "          [0.],\n",
              "          [0.],\n",
              "          [0.]],\n",
              " \n",
              "         [[0.],\n",
              "          [0.],\n",
              "          [0.],\n",
              "          ...,\n",
              "          [0.],\n",
              "          [0.],\n",
              "          [0.]],\n",
              " \n",
              "         ...,\n",
              " \n",
              "         [[0.],\n",
              "          [0.],\n",
              "          [0.],\n",
              "          ...,\n",
              "          [0.],\n",
              "          [0.],\n",
              "          [0.]],\n",
              " \n",
              "         [[0.],\n",
              "          [0.],\n",
              "          [0.],\n",
              "          ...,\n",
              "          [0.],\n",
              "          [0.],\n",
              "          [0.]],\n",
              " \n",
              "         [[0.],\n",
              "          [0.],\n",
              "          [0.],\n",
              "          ...,\n",
              "          [0.],\n",
              "          [0.],\n",
              "          [0.]]]], dtype=float32)>,\n",
              " <tf.Tensor: shape=(100,), dtype=int64, numpy=\n",
              " array([5, 6, 0, 7, 9, 6, 8, 1, 4, 7, 8, 0, 2, 3, 7, 2, 3, 2, 7, 1, 0, 2,\n",
              "        9, 2, 9, 6, 6, 6, 7, 4, 1, 3, 9, 0, 5, 5, 9, 2, 5, 3, 5, 4, 4, 9,\n",
              "        5, 2, 7, 3, 1, 7, 2, 4, 4, 4, 3, 8, 8, 2, 4, 5, 9, 5, 6, 2, 4, 7,\n",
              "        3, 2, 2, 7, 1, 7, 4, 7, 8, 0, 5, 6, 8, 8, 9, 6, 6, 4, 0, 9, 6, 0,\n",
              "        0, 0, 2, 3, 3, 3, 7, 3, 6, 6, 5, 8])>)"
            ]
          },
          "metadata": {},
          "execution_count": 49
        }
      ]
    },
    {
      "cell_type": "code",
      "source": [
        "input=784\n",
        "output=10\n",
        "hidden_layer=50\n",
        "model=tf.keras.Sequential([\n",
        "                            tf.keras.layers.Flatten(input_shape=(28,28,1)),\n",
        "                            tf.keras.layers.Dense(hidden_layer,activation='relu'),\n",
        "                            tf.keras.layers.Dense(hidden_layer,activation='relu'),\n",
        "                           tf.keras.layers.Dense(output, activation='softmax')\n",
        "])"
      ],
      "metadata": {
        "id": "5AFvH3QEs5AC"
      },
      "execution_count": 50,
      "outputs": []
    },
    {
      "cell_type": "code",
      "source": [
        "model.compile(optimizer='adam',loss='sparse_categorical_crossentropy',metrics=['accuracy'])"
      ],
      "metadata": {
        "id": "GrDdSwn8uhhK"
      },
      "execution_count": 51,
      "outputs": []
    },
    {
      "cell_type": "code",
      "source": [
        "NUM_EPOCHS=5\n",
        "model.fit(train_data,epochs=NUM_EPOCHS,validation_data=(validation_inputs,validation_targets),verbose=2)"
      ],
      "metadata": {
        "id": "XJ0sTl_gwmUv",
        "colab": {
          "base_uri": "https://localhost:8080/"
        },
        "outputId": "73cdd8d7-7ebb-432e-dcc7-7ee599c5897d"
      },
      "execution_count": 52,
      "outputs": [
        {
          "output_type": "stream",
          "name": "stdout",
          "text": [
            "Epoch 1/5\n",
            "540/540 - 8s - loss: 0.4262 - accuracy: 0.8810 - val_loss: 0.0867 - val_accuracy: 0.9800 - 8s/epoch - 15ms/step\n",
            "Epoch 2/5\n",
            "540/540 - 5s - loss: 0.1832 - accuracy: 0.9468 - val_loss: 0.0577 - val_accuracy: 0.9900 - 5s/epoch - 9ms/step\n",
            "Epoch 3/5\n",
            "540/540 - 5s - loss: 0.1355 - accuracy: 0.9599 - val_loss: 0.0403 - val_accuracy: 0.9900 - 5s/epoch - 9ms/step\n",
            "Epoch 4/5\n",
            "540/540 - 5s - loss: 0.1109 - accuracy: 0.9663 - val_loss: 0.0360 - val_accuracy: 0.9900 - 5s/epoch - 9ms/step\n",
            "Epoch 5/5\n",
            "540/540 - 5s - loss: 0.0949 - accuracy: 0.9717 - val_loss: 0.0343 - val_accuracy: 1.0000 - 5s/epoch - 9ms/step\n"
          ]
        },
        {
          "output_type": "execute_result",
          "data": {
            "text/plain": [
              "<keras.callbacks.History at 0x7fa98b4d8460>"
            ]
          },
          "metadata": {},
          "execution_count": 52
        }
      ]
    },
    {
      "cell_type": "code",
      "source": [
        "test_loss, test_accuracy = model.evaluate(test_data)"
      ],
      "metadata": {
        "colab": {
          "base_uri": "https://localhost:8080/"
        },
        "id": "zomy7NhX3QLi",
        "outputId": "b8fcdc96-d487-4323-fb50-46dd4095a063"
      },
      "execution_count": 53,
      "outputs": [
        {
          "output_type": "stream",
          "name": "stdout",
          "text": [
            "100/100 [==============================] - 1s 3ms/step - loss: 0.1113 - accuracy: 0.9650\n"
          ]
        }
      ]
    },
    {
      "cell_type": "code",
      "source": [
        "print('Test loss: {0:.2f}. Test accuracy: {1:.2f}%'.format(test_loss, test_accuracy*100.))"
      ],
      "metadata": {
        "colab": {
          "base_uri": "https://localhost:8080/"
        },
        "id": "xiVQtPdy3WeR",
        "outputId": "4dd1fb07-e90e-4aba-fc70-12469174d5b0"
      },
      "execution_count": 54,
      "outputs": [
        {
          "output_type": "stream",
          "name": "stdout",
          "text": [
            "Test loss: 0.11. Test accuracy: 96.50%\n"
          ]
        }
      ]
    }
  ]
}